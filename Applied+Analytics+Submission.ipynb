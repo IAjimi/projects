{
 "cells": [
  {
   "cell_type": "markdown",
   "metadata": {},
   "source": [
    "## Applied Analytics -- Python Workshop Challenge"
   ]
  },
  {
   "cell_type": "markdown",
   "metadata": {},
   "source": [
    "*The challenge: efficiently scrape a fictional book store's (http://books.toscrape.com/) Travel, Poetry, Art, Humor and Academic books and retrieve Book Title, Product Description, Price (excl. tax), Number of Reviews.\n",
    "Store all of the data in Python dictionaries or lists.*"
   ]
  },
  {
   "cell_type": "code",
   "execution_count": 1,
   "metadata": {
    "collapsed": true
   },
   "outputs": [],
   "source": [
    "import requests\n",
    "from bs4 import BeautifulSoup\n",
    "import pandas as pd"
   ]
  },
  {
   "cell_type": "markdown",
   "metadata": {
    "collapsed": true
   },
   "source": [
    "I take advantage of the fact that the url is structured in a predictable way to loop over the different genres. For every genre, I retrieve the results page and get the names/url of every book. Then I run a loop over the list of book urls to access each book's individual page and retrieve name, price description, price without tax, and the number of reviews."
   ]
  },
  {
   "cell_type": "code",
   "execution_count": 2,
   "metadata": {
    "collapsed": true
   },
   "outputs": [],
   "source": [
    "title = [] #empty results vecotr\n",
    "descr = []\n",
    "price = []\n",
    "reviews = []\n",
    "book_genre = []\n",
    "\n",
    "for genre in [\"travel_2\", \"poetry_23\", \"art_25\", \"humor_30\", \"academic_40\"]: #loop over genres\n",
    "    url = \"http://books.toscrape.com/catalogue/category/books/\" + genre + \"/index.html\" #general url\n",
    "    res = requests.get(url) #request data\n",
    "    soup = BeautifulSoup(res.text, \"lxml\") \n",
    "    book_titles = soup.select(\".product_pod a\")  #select all book titles from the genre's page\n",
    "    book_links = [] #empty book link list\n",
    "    \n",
    "    for i in range(0, len(book_titles)): #for every book of a certain genre\n",
    "        if i % 2 != 0: ####only odd numbers to avoid duplicates!!\n",
    "            link = str(\"http://books.toscrape.com/catalogue/\" + book_titles[i][\"href\"]).replace(\"../../../\", \"\") \n",
    "            book_links.append(link) #generates functional link by getting rid of ../../../\n",
    "            \n",
    "            book_genre.append(genre) #keeps track of book genre\n",
    "        \n",
    "    for w in range(0, len(book_links)): \n",
    "        url = book_links[w] #accesses every book in book_link's product page\n",
    "        res = requests.get(url)\n",
    "        soup = BeautifulSoup(res.text, \"lxml\")\n",
    "        new_title = soup.select(\"h1\") #selects title\n",
    "        description = soup.select(\"#product_description + p\") #product description\n",
    "        price_notax = soup.select(\"tr:nth-of-type(3) td\") #price excl tax\n",
    "        n_reviews = soup.select(\"tr:nth-of-type(7) td\") #number of reviews\n",
    "    \n",
    "        #then adds the above to my result lists\n",
    "        title.append(new_title[0]) #adding index [0] so I append strings instead of lists\n",
    "        descr.append(description[0])\n",
    "        price.append(price_notax[0])\n",
    "        reviews.append(n_reviews[0])"
   ]
  },
  {
   "cell_type": "markdown",
   "metadata": {},
   "source": [
    "Note: during my previous run, I had a problem where every book is duplicated twice. This code therefore only appends the info of every other book."
   ]
  },
  {
   "cell_type": "markdown",
   "metadata": {},
   "source": [
    "Taking a look at the results:"
   ]
  },
  {
   "cell_type": "code",
   "execution_count": 3,
   "metadata": {},
   "outputs": [
    {
     "data": {
      "text/plain": [
       "[<h1>It's Only the Himalayas</h1>,\n",
       " <h1>Full Moon over Noahâs Ark: An Odyssey to Mount Ararat and Beyond</h1>,\n",
       " <h1>See America: A Celebration of Our National Parks &amp; Treasured Sites</h1>,\n",
       " <h1>Vagabonding: An Uncommon Guide to the Art of Long-Term World Travel</h1>,\n",
       " <h1>Under the Tuscan Sun</h1>,\n",
       " <h1>A Summer In Europe</h1>]"
      ]
     },
     "execution_count": 3,
     "metadata": {},
     "output_type": "execute_result"
    }
   ],
   "source": [
    "title[:6]"
   ]
  },
  {
   "cell_type": "code",
   "execution_count": 4,
   "metadata": {},
   "outputs": [
    {
     "data": {
      "text/plain": [
       "<p>âWherever you go, whatever you do, just . . . donât do anything stupid.â âMy MotherDuring her yearlong adventure backpacking from South Africa to Singapore, S. Bedford definitely did a few things her mother might classify as \"stupid.\" She swam with great white sharks in South Africa, ran from lions in Zimbabwe, climbed a Himalayan mountain without training in Nepal, and wa âWherever you go, whatever you do, just . . . donât do anything stupid.â âMy MotherDuring her yearlong adventure backpacking from South Africa to Singapore, S. Bedford definitely did a few things her mother might classify as \"stupid.\" She swam with great white sharks in South Africa, ran from lions in Zimbabwe, climbed a Himalayan mountain without training in Nepal, and watched as her friend was attacked by a monkey in Indonesia.But interspersed in those slightly more crazy moments, Sue Bedfored and her friend \"Sara the Stoic\" experienced the sights, sounds, life, and culture of fifteen countries. Joined along the way by a few friends and their aging fathers here and there, Sue and Sara experience the trip of a lifetime. They fall in love with the world, cultivate an appreciation for home, and discover who, or what, they want to become.It's Only the Himalayas is the incredibly funny, sometimes outlandish, always entertaining confession of a young backpacker that will inspire you to take your own adventure. ...more</p>"
      ]
     },
     "execution_count": 4,
     "metadata": {},
     "output_type": "execute_result"
    }
   ],
   "source": [
    "descr[0]"
   ]
  },
  {
   "cell_type": "code",
   "execution_count": 5,
   "metadata": {},
   "outputs": [
    {
     "data": {
      "text/plain": [
       "[<td>Â£45.17</td>, <td>Â£49.43</td>, <td>Â£48.87</td>]"
      ]
     },
     "execution_count": 5,
     "metadata": {},
     "output_type": "execute_result"
    }
   ],
   "source": [
    "price[:3]"
   ]
  },
  {
   "cell_type": "code",
   "execution_count": 6,
   "metadata": {},
   "outputs": [
    {
     "data": {
      "text/plain": [
       "[<td>0</td>, <td>0</td>, <td>0</td>]"
      ]
     },
     "execution_count": 6,
     "metadata": {},
     "output_type": "execute_result"
    }
   ],
   "source": [
    "reviews[:3]"
   ]
  },
  {
   "cell_type": "markdown",
   "metadata": {},
   "source": [
    "There are a few formatting issues: quite a bit of html remains. I can easily remove it using string operations. I'll also use this as an opportunity to convert the content of some lists to `int` types. Moreover, some characters aren't encoded properly in the descriptions but I'll leave that to another day."
   ]
  },
  {
   "cell_type": "markdown",
   "metadata": {},
   "source": [
    "Note: this could probably have been done in the previous loop as the scraping results were being appended, but I find this clearer."
   ]
  },
  {
   "cell_type": "code",
   "execution_count": 7,
   "metadata": {
    "collapsed": true
   },
   "outputs": [],
   "source": [
    "title = [str(i).replace(\"<h1>\", \"\").replace(\"</h1>\", \"\").replace(\"â\\x80\\x99\", \"'\").replace(\"&amp;\", \"&\") for i in title]\n",
    "descr = [str(i).replace(\"<p>\", \"\").replace(\"</p>\", \"\") for i in descr]\n",
    "price = [float(str(i).replace(\"<td>Â£\", \"\").replace(\"</td>\", \"\")) for i in price] #converts it to float\n",
    "reviews = [int(str(i).replace(\"<td>\", \"\").replace(\"</td>\", \"\")) for i in reviews] #converts it to int\n",
    "book_genre = [str(i).split(\"_\")[0] for i in book_genre]\n",
    "#a bit messy -- could've used dictionary to replace strings and create more compact code"
   ]
  },
  {
   "cell_type": "markdown",
   "metadata": {},
   "source": [
    "Quick check:"
   ]
  },
  {
   "cell_type": "code",
   "execution_count": 8,
   "metadata": {},
   "outputs": [
    {
     "name": "stdout",
     "output_type": "stream",
     "text": [
      "Art and Fear: Observations on the Perils (and Rewards) of Artmaking art 48.63 0\n"
     ]
    }
   ],
   "source": [
    "print(title[32], book_genre[32], price[32], reviews[32])"
   ]
  },
  {
   "cell_type": "markdown",
   "metadata": {},
   "source": [
    "It all seems good so I'll put it in a Dataframe:"
   ]
  },
  {
   "cell_type": "code",
   "execution_count": 9,
   "metadata": {
    "collapsed": true
   },
   "outputs": [],
   "source": [
    "book_scrape = pd.DataFrame({\"title\" : title})\n",
    "book_scrape[\"genre\"] = book_genre\n",
    "book_scrape[\"price\"] = price\n",
    "book_scrape[\"reviews\"] = reviews\n",
    "book_scrape[\"descr\"] = descr #python was being finnicky -- code is a bit clunky but works"
   ]
  },
  {
   "cell_type": "code",
   "execution_count": 10,
   "metadata": {},
   "outputs": [
    {
     "data": {
      "text/html": [
       "<div>\n",
       "<style>\n",
       "    .dataframe thead tr:only-child th {\n",
       "        text-align: right;\n",
       "    }\n",
       "\n",
       "    .dataframe thead th {\n",
       "        text-align: left;\n",
       "    }\n",
       "\n",
       "    .dataframe tbody tr th {\n",
       "        vertical-align: top;\n",
       "    }\n",
       "</style>\n",
       "<table border=\"1\" class=\"dataframe\">\n",
       "  <thead>\n",
       "    <tr style=\"text-align: right;\">\n",
       "      <th></th>\n",
       "      <th>title</th>\n",
       "      <th>genre</th>\n",
       "      <th>price</th>\n",
       "      <th>reviews</th>\n",
       "      <th>descr</th>\n",
       "    </tr>\n",
       "  </thead>\n",
       "  <tbody>\n",
       "    <tr>\n",
       "      <th>0</th>\n",
       "      <td>It's Only the Himalayas</td>\n",
       "      <td>travel</td>\n",
       "      <td>45.17</td>\n",
       "      <td>0</td>\n",
       "      <td>âWherever you go, whatever you do, just . . ...</td>\n",
       "    </tr>\n",
       "    <tr>\n",
       "      <th>1</th>\n",
       "      <td>Full Moon over Noah's Ark: An Odyssey to Mount...</td>\n",
       "      <td>travel</td>\n",
       "      <td>49.43</td>\n",
       "      <td>0</td>\n",
       "      <td>Acclaimed travel writer Rick Antonson sets his...</td>\n",
       "    </tr>\n",
       "    <tr>\n",
       "      <th>2</th>\n",
       "      <td>See America: A Celebration of Our National Par...</td>\n",
       "      <td>travel</td>\n",
       "      <td>48.87</td>\n",
       "      <td>0</td>\n",
       "      <td>To coincide with the 2016 centennial anniversa...</td>\n",
       "    </tr>\n",
       "    <tr>\n",
       "      <th>3</th>\n",
       "      <td>Vagabonding: An Uncommon Guide to the Art of L...</td>\n",
       "      <td>travel</td>\n",
       "      <td>36.94</td>\n",
       "      <td>0</td>\n",
       "      <td>With a new foreword by Tim Ferriss â¢Thereâ...</td>\n",
       "    </tr>\n",
       "    <tr>\n",
       "      <th>4</th>\n",
       "      <td>Under the Tuscan Sun</td>\n",
       "      <td>travel</td>\n",
       "      <td>37.33</td>\n",
       "      <td>0</td>\n",
       "      <td>A CLASSIC FROM THE BESTSELLING AUTHOR OF UNDER...</td>\n",
       "    </tr>\n",
       "  </tbody>\n",
       "</table>\n",
       "</div>"
      ],
      "text/plain": [
       "                                               title   genre  price  reviews  \\\n",
       "0                            It's Only the Himalayas  travel  45.17        0   \n",
       "1  Full Moon over Noah's Ark: An Odyssey to Mount...  travel  49.43        0   \n",
       "2  See America: A Celebration of Our National Par...  travel  48.87        0   \n",
       "3  Vagabonding: An Uncommon Guide to the Art of L...  travel  36.94        0   \n",
       "4                               Under the Tuscan Sun  travel  37.33        0   \n",
       "\n",
       "                                               descr  \n",
       "0  âWherever you go, whatever you do, just . . ...  \n",
       "1  Acclaimed travel writer Rick Antonson sets his...  \n",
       "2  To coincide with the 2016 centennial anniversa...  \n",
       "3  With a new foreword by Tim Ferriss â¢Thereâ...  \n",
       "4  A CLASSIC FROM THE BESTSELLING AUTHOR OF UNDER...  "
      ]
     },
     "execution_count": 10,
     "metadata": {},
     "output_type": "execute_result"
    }
   ],
   "source": [
    "book_scrape.head()"
   ]
  },
  {
   "cell_type": "code",
   "execution_count": 11,
   "metadata": {},
   "outputs": [
    {
     "data": {
      "text/html": [
       "<div>\n",
       "<style>\n",
       "    .dataframe thead tr:only-child th {\n",
       "        text-align: right;\n",
       "    }\n",
       "\n",
       "    .dataframe thead th {\n",
       "        text-align: left;\n",
       "    }\n",
       "\n",
       "    .dataframe tbody tr th {\n",
       "        vertical-align: top;\n",
       "    }\n",
       "</style>\n",
       "<table border=\"1\" class=\"dataframe\">\n",
       "  <thead>\n",
       "    <tr style=\"text-align: right;\">\n",
       "      <th></th>\n",
       "      <th>title</th>\n",
       "      <th>genre</th>\n",
       "      <th>price</th>\n",
       "      <th>reviews</th>\n",
       "      <th>descr</th>\n",
       "    </tr>\n",
       "  </thead>\n",
       "  <tbody>\n",
       "    <tr>\n",
       "      <th>44</th>\n",
       "      <td>When You Are Engulfed in Flames</td>\n",
       "      <td>humor</td>\n",
       "      <td>30.89</td>\n",
       "      <td>0</td>\n",
       "      <td>It's early autumn 1964. Two straight-A student...</td>\n",
       "    </tr>\n",
       "    <tr>\n",
       "      <th>45</th>\n",
       "      <td>Naked</td>\n",
       "      <td>humor</td>\n",
       "      <td>31.69</td>\n",
       "      <td>0</td>\n",
       "      <td>Welcome to the hilarious, strange, elegiac, ou...</td>\n",
       "    </tr>\n",
       "    <tr>\n",
       "      <th>46</th>\n",
       "      <td>Lamb: The Gospel According to Biff, Christ's C...</td>\n",
       "      <td>humor</td>\n",
       "      <td>55.50</td>\n",
       "      <td>0</td>\n",
       "      <td>The birth of Jesus has been well chronicled, a...</td>\n",
       "    </tr>\n",
       "    <tr>\n",
       "      <th>47</th>\n",
       "      <td>Holidays on Ice</td>\n",
       "      <td>humor</td>\n",
       "      <td>51.07</td>\n",
       "      <td>0</td>\n",
       "      <td>A new holiday classic--six of the most profoun...</td>\n",
       "    </tr>\n",
       "    <tr>\n",
       "      <th>48</th>\n",
       "      <td>Logan Kade (Fallen Crest High #5.5)</td>\n",
       "      <td>academic</td>\n",
       "      <td>13.12</td>\n",
       "      <td>0</td>\n",
       "      <td>People think that just because they know my na...</td>\n",
       "    </tr>\n",
       "  </tbody>\n",
       "</table>\n",
       "</div>"
      ],
      "text/plain": [
       "                                                title     genre  price  \\\n",
       "44                    When You Are Engulfed in Flames     humor  30.89   \n",
       "45                                              Naked     humor  31.69   \n",
       "46  Lamb: The Gospel According to Biff, Christ's C...     humor  55.50   \n",
       "47                                    Holidays on Ice     humor  51.07   \n",
       "48                Logan Kade (Fallen Crest High #5.5)  academic  13.12   \n",
       "\n",
       "    reviews                                              descr  \n",
       "44        0  It's early autumn 1964. Two straight-A student...  \n",
       "45        0  Welcome to the hilarious, strange, elegiac, ou...  \n",
       "46        0  The birth of Jesus has been well chronicled, a...  \n",
       "47        0  A new holiday classic--six of the most profoun...  \n",
       "48        0  People think that just because they know my na...  "
      ]
     },
     "execution_count": 11,
     "metadata": {},
     "output_type": "execute_result"
    }
   ],
   "source": [
    "book_scrape.tail()"
   ]
  }
 ],
 "metadata": {
  "kernelspec": {
   "display_name": "Python 3",
   "language": "python",
   "name": "python3"
  },
  "language_info": {
   "codemirror_mode": {
    "name": "ipython",
    "version": 3
   },
   "file_extension": ".py",
   "mimetype": "text/x-python",
   "name": "python",
   "nbconvert_exporter": "python",
   "pygments_lexer": "ipython3",
   "version": "3.6.3"
  }
 },
 "nbformat": 4,
 "nbformat_minor": 2
}
