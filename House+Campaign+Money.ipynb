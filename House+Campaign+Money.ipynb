{
 "cells": [
  {
   "cell_type": "code",
   "execution_count": 1,
   "metadata": {},
   "outputs": [
    {
     "name": "stderr",
     "output_type": "stream",
     "text": [
      "C:\\ProgramData\\Anaconda3\\lib\\site-packages\\statsmodels\\compat\\pandas.py:56: FutureWarning: The pandas.core.datetools module is deprecated and will be removed in a future version. Please use the pandas.tseries module instead.\n",
      "  from pandas.core import datetools\n"
     ]
    }
   ],
   "source": [
    "import pandas as pd\n",
    "import matplotlib.pyplot as plt\n",
    "from pandas_datareader import data\n",
    "import statsmodels.api as sm\n",
    "import datetime as dt\n",
    "\n",
    "%matplotlib inline"
   ]
  },
  {
   "cell_type": "markdown",
   "metadata": {},
   "source": [
    "## Campaign Money & Electoral Victory"
   ]
  },
  {
   "cell_type": "markdown",
   "metadata": {},
   "source": [
    "Questions we want to answer: \n",
    "* what type of financial contributions do candidates rely on?\n",
    "* which candidates received the most contributions? from which party/state were they?\n",
    "* do higher expenditures increase a candidate's chance of success? "
   ]
  },
  {
   "cell_type": "markdown",
   "metadata": {},
   "source": [
    "### Data Overview"
   ]
  },
  {
   "cell_type": "markdown",
   "metadata": {},
   "source": [
    "The dataset comes from Kaggle. It contains financial information for the 2015-2016 electoral year from candidates to the U.S. House and Senate, as well as information about the outcome of the election (whether the candidate won)."
   ]
  },
  {
   "cell_type": "code",
   "execution_count": 130,
   "metadata": {
    "collapsed": true
   },
   "outputs": [],
   "source": [
    "candidate_money_OG = pd.read_csv(r\"CandidateS.csv\")\n",
    "money = candidate_money_OG"
   ]
  },
  {
   "cell_type": "code",
   "execution_count": 131,
   "metadata": {},
   "outputs": [
    {
     "data": {
      "text/html": [
       "<div>\n",
       "<style>\n",
       "    .dataframe thead tr:only-child th {\n",
       "        text-align: right;\n",
       "    }\n",
       "\n",
       "    .dataframe thead th {\n",
       "        text-align: left;\n",
       "    }\n",
       "\n",
       "    .dataframe tbody tr th {\n",
       "        vertical-align: top;\n",
       "    }\n",
       "</style>\n",
       "<table border=\"1\" class=\"dataframe\">\n",
       "  <thead>\n",
       "    <tr style=\"text-align: right;\">\n",
       "      <th></th>\n",
       "      <th>can_id</th>\n",
       "      <th>can_nam</th>\n",
       "      <th>can_off</th>\n",
       "      <th>can_off_sta</th>\n",
       "      <th>can_off_dis</th>\n",
       "      <th>can_par_aff</th>\n",
       "      <th>can_inc_cha_ope_sea</th>\n",
       "      <th>can_str1</th>\n",
       "      <th>can_str2</th>\n",
       "      <th>can_cit</th>\n",
       "      <th>...</th>\n",
       "      <th>cas_on_han_beg_of_per</th>\n",
       "      <th>cas_on_han_clo_of_per</th>\n",
       "      <th>net_con</th>\n",
       "      <th>net_ope_exp</th>\n",
       "      <th>deb_owe_by_com</th>\n",
       "      <th>deb_owe_to_com</th>\n",
       "      <th>cov_sta_dat</th>\n",
       "      <th>cov_end_dat</th>\n",
       "      <th>winner</th>\n",
       "      <th>votes</th>\n",
       "    </tr>\n",
       "  </thead>\n",
       "  <tbody>\n",
       "    <tr>\n",
       "      <th>0</th>\n",
       "      <td>H2GA12121</td>\n",
       "      <td>ALLEN, RICHARD W</td>\n",
       "      <td>H</td>\n",
       "      <td>GA</td>\n",
       "      <td>12.0</td>\n",
       "      <td>REP</td>\n",
       "      <td>INCUMBENT</td>\n",
       "      <td>2237 PICKENS RD</td>\n",
       "      <td>NaN</td>\n",
       "      <td>AUGUSTA</td>\n",
       "      <td>...</td>\n",
       "      <td>$60,109.57</td>\n",
       "      <td>$175,613.35</td>\n",
       "      <td>$1,074,949.50</td>\n",
       "      <td>$907,156.21</td>\n",
       "      <td>$1,125,000.00</td>\n",
       "      <td>NaN</td>\n",
       "      <td>1/1/2015</td>\n",
       "      <td>10/19/2016</td>\n",
       "      <td>Y</td>\n",
       "      <td>158708.0</td>\n",
       "    </tr>\n",
       "    <tr>\n",
       "      <th>1</th>\n",
       "      <td>H6PA02171</td>\n",
       "      <td>EVANS, DWIGHT</td>\n",
       "      <td>H</td>\n",
       "      <td>PA</td>\n",
       "      <td>2.0</td>\n",
       "      <td>DEM</td>\n",
       "      <td>CHALLENGER</td>\n",
       "      <td>PO BOX 6578</td>\n",
       "      <td>NaN</td>\n",
       "      <td>PHILADELPHIA</td>\n",
       "      <td>...</td>\n",
       "      <td>NaN</td>\n",
       "      <td>$105,687.23</td>\n",
       "      <td>$1,406,719.06</td>\n",
       "      <td>$1,298,831.83</td>\n",
       "      <td>NaN</td>\n",
       "      <td>NaN</td>\n",
       "      <td>11/2/2015</td>\n",
       "      <td>10/19/2016</td>\n",
       "      <td>Y</td>\n",
       "      <td>310770.0</td>\n",
       "    </tr>\n",
       "    <tr>\n",
       "      <th>2</th>\n",
       "      <td>H6FL04105</td>\n",
       "      <td>RUTHERFORD, JOHN</td>\n",
       "      <td>H</td>\n",
       "      <td>FL</td>\n",
       "      <td>4.0</td>\n",
       "      <td>REP</td>\n",
       "      <td>OPEN</td>\n",
       "      <td>3817 VICKERS LAKE DRIVE</td>\n",
       "      <td>NaN</td>\n",
       "      <td>JACKSONVILLE</td>\n",
       "      <td>...</td>\n",
       "      <td>NaN</td>\n",
       "      <td>$35,645.09</td>\n",
       "      <td>$650,855.38</td>\n",
       "      <td>$656,210.29</td>\n",
       "      <td>$60,000.00</td>\n",
       "      <td>NaN</td>\n",
       "      <td>4/1/2016</td>\n",
       "      <td>10/19/2016</td>\n",
       "      <td>Y</td>\n",
       "      <td>286018.0</td>\n",
       "    </tr>\n",
       "    <tr>\n",
       "      <th>3</th>\n",
       "      <td>H4MT01041</td>\n",
       "      <td>ZINKE, RYAN K</td>\n",
       "      <td>H</td>\n",
       "      <td>MT</td>\n",
       "      <td>0.0</td>\n",
       "      <td>REP</td>\n",
       "      <td>INCUMBENT</td>\n",
       "      <td>409 2ND ST W</td>\n",
       "      <td>NaN</td>\n",
       "      <td>WHITEFISH</td>\n",
       "      <td>...</td>\n",
       "      <td>$83,815.78</td>\n",
       "      <td>$399,122.61</td>\n",
       "      <td>$4,938,943.74</td>\n",
       "      <td>$5,055,942.15</td>\n",
       "      <td>NaN</td>\n",
       "      <td>NaN</td>\n",
       "      <td>1/1/2015</td>\n",
       "      <td>10/19/2016</td>\n",
       "      <td>Y</td>\n",
       "      <td>280476.0</td>\n",
       "    </tr>\n",
       "    <tr>\n",
       "      <th>4</th>\n",
       "      <td>H8CA09060</td>\n",
       "      <td>LEE, BARBARA</td>\n",
       "      <td>H</td>\n",
       "      <td>CA</td>\n",
       "      <td>13.0</td>\n",
       "      <td>DEM</td>\n",
       "      <td>INCUMBENT</td>\n",
       "      <td>409 13TH ST, 17TH FL</td>\n",
       "      <td>NaN</td>\n",
       "      <td>OAKLAND</td>\n",
       "      <td>...</td>\n",
       "      <td>$83,690.60</td>\n",
       "      <td>$181,338.23</td>\n",
       "      <td>$1,197,676.61</td>\n",
       "      <td>$949,488.98</td>\n",
       "      <td>$4,401.75</td>\n",
       "      <td>NaN</td>\n",
       "      <td>1/1/2015</td>\n",
       "      <td>10/19/2016</td>\n",
       "      <td>Y</td>\n",
       "      <td>277390.0</td>\n",
       "    </tr>\n",
       "  </tbody>\n",
       "</table>\n",
       "<p>5 rows × 51 columns</p>\n",
       "</div>"
      ],
      "text/plain": [
       "      can_id           can_nam can_off can_off_sta  can_off_dis can_par_aff  \\\n",
       "0  H2GA12121  ALLEN, RICHARD W       H          GA         12.0         REP   \n",
       "1  H6PA02171     EVANS, DWIGHT       H          PA          2.0         DEM   \n",
       "2  H6FL04105  RUTHERFORD, JOHN       H          FL          4.0         REP   \n",
       "3  H4MT01041     ZINKE, RYAN K       H          MT          0.0         REP   \n",
       "4  H8CA09060      LEE, BARBARA       H          CA         13.0         DEM   \n",
       "\n",
       "  can_inc_cha_ope_sea                 can_str1 can_str2       can_cit  \\\n",
       "0           INCUMBENT          2237 PICKENS RD      NaN       AUGUSTA   \n",
       "1          CHALLENGER              PO BOX 6578      NaN  PHILADELPHIA   \n",
       "2                OPEN  3817 VICKERS LAKE DRIVE      NaN  JACKSONVILLE   \n",
       "3           INCUMBENT             409 2ND ST W      NaN     WHITEFISH   \n",
       "4           INCUMBENT     409 13TH ST, 17TH FL      NaN       OAKLAND   \n",
       "\n",
       "     ...    cas_on_han_beg_of_per  cas_on_han_clo_of_per         net_con  \\\n",
       "0    ...              $60,109.57            $175,613.35   $1,074,949.50    \n",
       "1    ...                      NaN           $105,687.23   $1,406,719.06    \n",
       "2    ...                      NaN            $35,645.09     $650,855.38    \n",
       "3    ...              $83,815.78            $399,122.61   $4,938,943.74    \n",
       "4    ...              $83,690.60            $181,338.23   $1,197,676.61    \n",
       "\n",
       "      net_ope_exp  deb_owe_by_com deb_owe_to_com cov_sta_dat cov_end_dat  \\\n",
       "0    $907,156.21   $1,125,000.00             NaN    1/1/2015  10/19/2016   \n",
       "1  $1,298,831.83              NaN            NaN   11/2/2015  10/19/2016   \n",
       "2    $656,210.29      $60,000.00             NaN    4/1/2016  10/19/2016   \n",
       "3  $5,055,942.15              NaN            NaN    1/1/2015  10/19/2016   \n",
       "4    $949,488.98       $4,401.75             NaN    1/1/2015  10/19/2016   \n",
       "\n",
       "  winner     votes  \n",
       "0      Y  158708.0  \n",
       "1      Y  310770.0  \n",
       "2      Y  286018.0  \n",
       "3      Y  280476.0  \n",
       "4      Y  277390.0  \n",
       "\n",
       "[5 rows x 51 columns]"
      ]
     },
     "execution_count": 131,
     "metadata": {},
     "output_type": "execute_result"
    }
   ],
   "source": [
    "money.head()"
   ]
  },
  {
   "cell_type": "code",
   "execution_count": 132,
   "metadata": {},
   "outputs": [
    {
     "data": {
      "text/plain": [
       "(1814, 51)"
      ]
     },
     "execution_count": 132,
     "metadata": {},
     "output_type": "execute_result"
    }
   ],
   "source": [
    "money.shape"
   ]
  },
  {
   "cell_type": "markdown",
   "metadata": {},
   "source": [
    "Having successfully loaded in the datafile, the first step is going to be to clean it and narrow it down to our categories of interest."
   ]
  },
  {
   "cell_type": "markdown",
   "metadata": {},
   "source": [
    "We exclude `'can_str1', 'can_str2', 'can_cit', 'can_sta', 'can_zip'` (the candidate's address) and `'net_con', 'net_ope_exp'` (net expenditures). A number of categories (e.g. `'off_to_ope_exp', 'tra_to_oth_aut_com', 'can_loa_rep', 'oth_loa_rep', 'deb_owe_by_com', 'deb_owe_to_com', 'ind_ref', 'par_com_ref','oth_com_ref'`) are not particularly interesting for our purposes so are also excluded. Finally, `off_to_fun, off_to_leg_acc, exe_leg_acc_dis, fun_dis` are all only valid for Presidential candidates and are removed."
   ]
  },
  {
   "cell_type": "code",
   "execution_count": 133,
   "metadata": {
    "collapsed": true
   },
   "outputs": [],
   "source": [
    "money = money[['can_id', 'can_nam', 'can_off', 'can_off_sta', 'can_off_dis',\n",
    "       'can_par_aff', 'can_inc_cha_ope_sea', 'ind_ite_con', 'ind_uni_con', 'ind_con',\n",
    "       'par_com_con', 'oth_com_con', 'can_con', 'tot_con', 'tot_loa', 'oth_rec', \n",
    "        'tot_rec', 'ope_exp', 'tot_dis', 'cas_on_han_beg_of_per', 'cas_on_han_clo_of_per', \n",
    "        'net_con', 'net_ope_exp', 'cov_sta_dat', 'cov_end_dat', 'winner']]"
   ]
  },
  {
   "cell_type": "markdown",
   "metadata": {},
   "source": [
    "The remaining categories are the following: \n",
    "* `can_id`: Candidate ID\n",
    "* `can_nam`: Candidate Name\n",
    "* `can_off`: Candidate Office (P=President, S=Senate, H= House)\n",
    "* `can_off_sta` : Candidate Office State\n",
    "* `can_off_dis` : Candidate Office District\tNumber\t(for House candidates)\n",
    "* `can_par_aff` : Candidate Party Affiliation (Dem=Democrat, Rep=Republican)\n",
    "* `can_inc_cha_ope_sea` :\tCandidate Incumbent Challenger Open Seat (I=incumbent, C=challenger, O=open seat)\n",
    "* `ind_ite_con` : Individual Itemized Contribution\t(Sum of itemized contributions from individuals, contribution > 200)\n",
    "* `ind_uni_con` : Individual Unitemized Contribution (Sum of unitemized contributions from individuals, contribution <= 200)\n",
    "* `ind_con` : Individual Contribution (Total contributions from individuals) (Sum of `ind_ite_con` and `ind_uni_con`)\n",
    "* `par_com_con` : Party Committee Contribution\n",
    "* `oth_com_con` : Other Committee Contribution (Contributions from other committee, mostly PACs)\n",
    "* `can_con` : Candidate Contribution (Contributions from the candidate him(her)self)\n",
    "* `tot_con` : Total Contribution (Sum of `ind_con`, `par_com_con`, `oth_com_con` and `can_con`)\n",
    "* `tot_loa` : Total Loan\n",
    "* `oth_rec` : Other Receipts (e.g. interest on bank deposits, capital gains, etc.)\n",
    "* `tot_rec` : Total Receipts (Sum of all receipt categories)\n",
    "* `ope_exp` : Operating Expenditure   \n",
    "* `tot_dis` : Total Disbursement\n",
    "* `cas_on_han_beg_of_per` : Cash on Hand Beginning of Period\n",
    "* `cas_on_han_clo_of_per` : Cash on Hand Close of Period \n",
    "* `net_con` : Net Contribution\t(Sum of all contributions minus any contribution refunds)\n",
    "* `net_ope_exp`: Net Operating Expenditure (Sum of all operating expenditures minus any offsets to those expenditures)\n",
    "* `cov_sta_dat` : Coverage Start Date\t\n",
    "* `cov_end_dat`: Coverage End Date\n",
    "* `winner` : Whether the candidate won (Y if so, NaN otherwise)"
   ]
  },
  {
   "cell_type": "code",
   "execution_count": 134,
   "metadata": {},
   "outputs": [
    {
     "data": {
      "text/plain": [
       "can_id                  object\n",
       "can_nam                 object\n",
       "can_off                 object\n",
       "can_off_sta             object\n",
       "can_off_dis            float64\n",
       "can_par_aff             object\n",
       "can_inc_cha_ope_sea     object\n",
       "ind_ite_con             object\n",
       "ind_uni_con             object\n",
       "ind_con                 object\n",
       "dtype: object"
      ]
     },
     "execution_count": 134,
     "metadata": {},
     "output_type": "execute_result"
    }
   ],
   "source": [
    "money.dtypes.head(10)"
   ]
  },
  {
   "cell_type": "markdown",
   "metadata": {},
   "source": [
    "There is a big problem with this dataset: most of the expenditure columns aren't in a numerical format, because of formatting errors. These include: adding a dollar sign before the amount, using `,` for thousands, using `()` for (presumably) negative accounts. The process of finding all columns with dollar signs and transforming them into floats is automated below."
   ]
  },
  {
   "cell_type": "markdown",
   "metadata": {},
   "source": [
    "The first step is to find strings with dollar signs: `str.find()` equals zero when there is a match and -1 when there isn't. The code below loops through every 'string' column of the dataframe, then every element of every column, to find a dollar sign. If the majority of the elements have a dollar sign in them, the code loops through, removing punctuation signs as appropriate, and reclassifies the resulting object as a float. (Note: ( is replaced by - because elements in parenthesis are usually coded as negative in accounting)."
   ]
  },
  {
   "cell_type": "code",
   "execution_count": 135,
   "metadata": {},
   "outputs": [
    {
     "name": "stderr",
     "output_type": "stream",
     "text": [
      "C:\\ProgramData\\Anaconda3\\lib\\site-packages\\ipykernel_launcher.py:4: SettingWithCopyWarning: \n",
      "A value is trying to be set on a copy of a slice from a DataFrame.\n",
      "Try using .loc[row_indexer,col_indexer] = value instead\n",
      "\n",
      "See the caveats in the documentation: http://pandas.pydata.org/pandas-docs/stable/indexing.html#indexing-view-versus-copy\n",
      "  after removing the cwd from sys.path.\n"
     ]
    }
   ],
   "source": [
    "for i in money.columns:\n",
    "    if money[i].dtype == object:\n",
    "        if (money[i].str.find(\"$\").mean() < 0.1) == True and (money[i].str.find(\"$\").mean() > -0.1) == True:\n",
    "            money[i] = money[i].str.replace(\"$\",\"\").str.replace(\",\",\"\").str.replace(\"(\",\"-\").str.replace(\")\",\"\").astype(float)"
   ]
  },
  {
   "cell_type": "code",
   "execution_count": 136,
   "metadata": {},
   "outputs": [
    {
     "data": {
      "text/plain": [
       "can_id                  object\n",
       "can_nam                 object\n",
       "can_off                 object\n",
       "can_off_sta             object\n",
       "can_off_dis            float64\n",
       "can_par_aff             object\n",
       "can_inc_cha_ope_sea     object\n",
       "ind_ite_con            float64\n",
       "ind_uni_con            float64\n",
       "ind_con                float64\n",
       "dtype: object"
      ]
     },
     "execution_count": 136,
     "metadata": {},
     "output_type": "execute_result"
    }
   ],
   "source": [
    "money.dtypes.head(10)"
   ]
  },
  {
   "cell_type": "markdown",
   "metadata": {},
   "source": [
    "We also change NaNs into zero so we can more easily compute summary stats etc."
   ]
  },
  {
   "cell_type": "code",
   "execution_count": 137,
   "metadata": {
    "collapsed": true
   },
   "outputs": [],
   "source": [
    "money = money.fillna(value= 0)"
   ]
  },
  {
   "cell_type": "markdown",
   "metadata": {},
   "source": [
    "We'll be using `can_inc_cha_ope_sea` quite a bit later, so rows that have NaNs in that specific column are dropped."
   ]
  },
  {
   "cell_type": "code",
   "execution_count": 138,
   "metadata": {
    "collapsed": true
   },
   "outputs": [],
   "source": [
    "money = money[money[\"can_inc_cha_ope_sea\"] != 0]"
   ]
  },
  {
   "cell_type": "markdown",
   "metadata": {},
   "source": [
    "The code successfully reformated all of our expenditure columns. Now, we need to change  `'cov_sta_dat', 'cov_end_dat'` into datetime objects."
   ]
  },
  {
   "cell_type": "code",
   "execution_count": 139,
   "metadata": {
    "collapsed": true
   },
   "outputs": [],
   "source": [
    "money[\"cov_sta_dat\"] = pd.to_datetime(money[\"cov_sta_dat\"], format = \"%m/%d/%Y\")\n",
    "money[\"cov_end_dat\"] = pd.to_datetime(money[\"cov_end_dat\"], format = \"%m/%d/%Y\")"
   ]
  },
  {
   "cell_type": "code",
   "execution_count": 140,
   "metadata": {
    "collapsed": true
   },
   "outputs": [],
   "source": [
    "money[\"length\"] = money[\"cov_end_dat\"] - money[\"cov_sta_dat\"]"
   ]
  },
  {
   "cell_type": "markdown",
   "metadata": {},
   "source": [
    "We perform a quick sanity check:"
   ]
  },
  {
   "cell_type": "code",
   "execution_count": 141,
   "metadata": {},
   "outputs": [
    {
     "data": {
      "text/plain": [
       "Timedelta('-940 days +00:00:00')"
      ]
     },
     "execution_count": 141,
     "metadata": {},
     "output_type": "execute_result"
    }
   ],
   "source": [
    "money[\"length\"].min()"
   ]
  },
  {
   "cell_type": "markdown",
   "metadata": {},
   "source": [
    "This shouldn't be happening. Only one observation has a negative campaign duration, but it's still worth excluding it."
   ]
  },
  {
   "cell_type": "code",
   "execution_count": 142,
   "metadata": {
    "collapsed": true
   },
   "outputs": [],
   "source": [
    "money = money[money[\"length\"] > dt.timedelta(days = 1)]"
   ]
  },
  {
   "cell_type": "markdown",
   "metadata": {},
   "source": [
    "The final problem is that `can_par_aff` includes **a lot** of party affiliations. Democrats and Republicans are by far the main political parties in the U.S. We'll group all the other parties under \"independent\" for simplicity."
   ]
  },
  {
   "cell_type": "code",
   "execution_count": 143,
   "metadata": {},
   "outputs": [
    {
     "data": {
      "text/plain": [
       "can_par_aff\n",
       "0        1\n",
       "AMP      1\n",
       "CON      4\n",
       "CST      1\n",
       "DEM    712\n",
       "Name: par_com_con, dtype: int64"
      ]
     },
     "execution_count": 143,
     "metadata": {},
     "output_type": "execute_result"
    }
   ],
   "source": [
    "money.groupby(\"can_par_aff\")[\"par_com_con\"].count().head()"
   ]
  },
  {
   "cell_type": "code",
   "execution_count": 144,
   "metadata": {
    "collapsed": true
   },
   "outputs": [],
   "source": [
    "new_party = []\n",
    "\n",
    "for i in money[\"can_par_aff\"]:\n",
    "    if i == \"DEM\":\n",
    "        new_party.append(\"DEM\")\n",
    "    elif i == \"REP\":\n",
    "        new_party.append(\"REP\")\n",
    "    else:\n",
    "        new_party.append(\"IND\")\n",
    "\n",
    "money[\"party\"] = new_party"
   ]
  },
  {
   "cell_type": "code",
   "execution_count": 145,
   "metadata": {},
   "outputs": [
    {
     "data": {
      "text/plain": [
       "party\n",
       "DEM    712\n",
       "IND    218\n",
       "REP    881\n",
       "Name: par_com_con, dtype: int64"
      ]
     },
     "execution_count": 145,
     "metadata": {},
     "output_type": "execute_result"
    }
   ],
   "source": [
    "money.groupby(\"party\")[\"par_com_con\"].count().head()"
   ]
  },
  {
   "cell_type": "markdown",
   "metadata": {},
   "source": [
    "We also create a new column that codes 'wins' as a 0,1 dummy (1 = win, 0 = lost). Coding it as a dummy will make it easier for us to run a regression later on."
   ]
  },
  {
   "cell_type": "code",
   "execution_count": 146,
   "metadata": {
    "collapsed": true
   },
   "outputs": [],
   "source": [
    "win = []\n",
    "\n",
    "for i in money[\"winner\"]:\n",
    "    if i == \"Y\":\n",
    "        win.append(1)\n",
    "    else:\n",
    "        win.append(0)\n",
    "\n",
    "money[\"winner\"] = win"
   ]
  },
  {
   "cell_type": "markdown",
   "metadata": {},
   "source": [
    "The last step is to convert our contributions types into percentages of total contributions. This will allow us to quickly compare the contribution structure for different types of candidates."
   ]
  },
  {
   "cell_type": "code",
   "execution_count": 147,
   "metadata": {
    "collapsed": true
   },
   "outputs": [],
   "source": [
    "for i in [\"ind_con\", \"can_con\", \"par_com_con\", \"oth_com_con\"]:\n",
    "    newcol = i + \"_per\"\n",
    "    money[newcol] = money[i] / money[\"tot_con\"]"
   ]
  },
  {
   "cell_type": "markdown",
   "metadata": {},
   "source": [
    "We end by looking at our dataset once again. It looks ready to work with. "
   ]
  },
  {
   "cell_type": "code",
   "execution_count": 148,
   "metadata": {},
   "outputs": [
    {
     "data": {
      "text/plain": [
       "(1811, 32)"
      ]
     },
     "execution_count": 148,
     "metadata": {},
     "output_type": "execute_result"
    }
   ],
   "source": [
    "money.shape"
   ]
  },
  {
   "cell_type": "code",
   "execution_count": 149,
   "metadata": {},
   "outputs": [
    {
     "data": {
      "text/html": [
       "<div>\n",
       "<style>\n",
       "    .dataframe thead tr:only-child th {\n",
       "        text-align: right;\n",
       "    }\n",
       "\n",
       "    .dataframe thead th {\n",
       "        text-align: left;\n",
       "    }\n",
       "\n",
       "    .dataframe tbody tr th {\n",
       "        vertical-align: top;\n",
       "    }\n",
       "</style>\n",
       "<table border=\"1\" class=\"dataframe\">\n",
       "  <thead>\n",
       "    <tr style=\"text-align: right;\">\n",
       "      <th></th>\n",
       "      <th>can_id</th>\n",
       "      <th>can_nam</th>\n",
       "      <th>can_off</th>\n",
       "      <th>can_off_sta</th>\n",
       "      <th>can_off_dis</th>\n",
       "      <th>can_par_aff</th>\n",
       "      <th>can_inc_cha_ope_sea</th>\n",
       "      <th>ind_ite_con</th>\n",
       "      <th>ind_uni_con</th>\n",
       "      <th>ind_con</th>\n",
       "      <th>...</th>\n",
       "      <th>net_ope_exp</th>\n",
       "      <th>cov_sta_dat</th>\n",
       "      <th>cov_end_dat</th>\n",
       "      <th>winner</th>\n",
       "      <th>length</th>\n",
       "      <th>party</th>\n",
       "      <th>ind_con_per</th>\n",
       "      <th>can_con_per</th>\n",
       "      <th>par_com_con_per</th>\n",
       "      <th>oth_com_con_per</th>\n",
       "    </tr>\n",
       "  </thead>\n",
       "  <tbody>\n",
       "    <tr>\n",
       "      <th>100</th>\n",
       "      <td>H2FL14053</td>\n",
       "      <td>FRANKEL, LOIS J.</td>\n",
       "      <td>H</td>\n",
       "      <td>FL</td>\n",
       "      <td>21.0</td>\n",
       "      <td>DEM</td>\n",
       "      <td>INCUMBENT</td>\n",
       "      <td>941846.23</td>\n",
       "      <td>101331.06</td>\n",
       "      <td>1043177.29</td>\n",
       "      <td>...</td>\n",
       "      <td>506462.37</td>\n",
       "      <td>2015-01-01</td>\n",
       "      <td>2016-10-19</td>\n",
       "      <td>1</td>\n",
       "      <td>657 days</td>\n",
       "      <td>DEM</td>\n",
       "      <td>0.658830</td>\n",
       "      <td>0.0</td>\n",
       "      <td>0.000014</td>\n",
       "      <td>0.341156</td>\n",
       "    </tr>\n",
       "    <tr>\n",
       "      <th>101</th>\n",
       "      <td>H0CT03072</td>\n",
       "      <td>DELARUO, ROSA L</td>\n",
       "      <td>H</td>\n",
       "      <td>CT</td>\n",
       "      <td>3.0</td>\n",
       "      <td>DEM</td>\n",
       "      <td>INCUMBENT</td>\n",
       "      <td>454564.68</td>\n",
       "      <td>44839.24</td>\n",
       "      <td>499403.92</td>\n",
       "      <td>...</td>\n",
       "      <td>538356.49</td>\n",
       "      <td>2015-01-01</td>\n",
       "      <td>2016-10-19</td>\n",
       "      <td>1</td>\n",
       "      <td>657 days</td>\n",
       "      <td>DEM</td>\n",
       "      <td>0.483123</td>\n",
       "      <td>0.0</td>\n",
       "      <td>0.000000</td>\n",
       "      <td>0.516877</td>\n",
       "    </tr>\n",
       "    <tr>\n",
       "      <th>102</th>\n",
       "      <td>H8ID02064</td>\n",
       "      <td>SIMPSON, MICHAEL</td>\n",
       "      <td>H</td>\n",
       "      <td>ID</td>\n",
       "      <td>2.0</td>\n",
       "      <td>REP</td>\n",
       "      <td>INCUMBENT</td>\n",
       "      <td>241109.61</td>\n",
       "      <td>22506.99</td>\n",
       "      <td>263616.60</td>\n",
       "      <td>...</td>\n",
       "      <td>506848.06</td>\n",
       "      <td>2015-01-01</td>\n",
       "      <td>2016-10-19</td>\n",
       "      <td>1</td>\n",
       "      <td>657 days</td>\n",
       "      <td>REP</td>\n",
       "      <td>0.270386</td>\n",
       "      <td>0.0</td>\n",
       "      <td>0.000000</td>\n",
       "      <td>0.729614</td>\n",
       "    </tr>\n",
       "    <tr>\n",
       "      <th>103</th>\n",
       "      <td>H4LA05221</td>\n",
       "      <td>ABRAHAM, RALPH LEE DR. JR.</td>\n",
       "      <td>H</td>\n",
       "      <td>LA</td>\n",
       "      <td>5.0</td>\n",
       "      <td>REP</td>\n",
       "      <td>INCUMBENT</td>\n",
       "      <td>258275.00</td>\n",
       "      <td>13925.00</td>\n",
       "      <td>272200.00</td>\n",
       "      <td>...</td>\n",
       "      <td>262567.99</td>\n",
       "      <td>2015-01-01</td>\n",
       "      <td>2016-10-19</td>\n",
       "      <td>1</td>\n",
       "      <td>657 days</td>\n",
       "      <td>REP</td>\n",
       "      <td>0.487861</td>\n",
       "      <td>0.0</td>\n",
       "      <td>0.000000</td>\n",
       "      <td>0.512139</td>\n",
       "    </tr>\n",
       "    <tr>\n",
       "      <th>104</th>\n",
       "      <td>H4IA03115</td>\n",
       "      <td>YOUNG, DAVID</td>\n",
       "      <td>H</td>\n",
       "      <td>IA</td>\n",
       "      <td>3.0</td>\n",
       "      <td>REP</td>\n",
       "      <td>INCUMBENT</td>\n",
       "      <td>756149.37</td>\n",
       "      <td>107686.95</td>\n",
       "      <td>863836.32</td>\n",
       "      <td>...</td>\n",
       "      <td>1648502.58</td>\n",
       "      <td>2015-01-01</td>\n",
       "      <td>2016-10-19</td>\n",
       "      <td>1</td>\n",
       "      <td>657 days</td>\n",
       "      <td>REP</td>\n",
       "      <td>0.394496</td>\n",
       "      <td>0.0</td>\n",
       "      <td>0.000571</td>\n",
       "      <td>0.604933</td>\n",
       "    </tr>\n",
       "  </tbody>\n",
       "</table>\n",
       "<p>5 rows × 32 columns</p>\n",
       "</div>"
      ],
      "text/plain": [
       "        can_id                     can_nam can_off can_off_sta  can_off_dis  \\\n",
       "100  H2FL14053            FRANKEL, LOIS J.       H          FL         21.0   \n",
       "101  H0CT03072             DELARUO, ROSA L       H          CT          3.0   \n",
       "102  H8ID02064            SIMPSON, MICHAEL       H          ID          2.0   \n",
       "103  H4LA05221  ABRAHAM, RALPH LEE DR. JR.       H          LA          5.0   \n",
       "104  H4IA03115                YOUNG, DAVID       H          IA          3.0   \n",
       "\n",
       "    can_par_aff can_inc_cha_ope_sea  ind_ite_con  ind_uni_con     ind_con  \\\n",
       "100         DEM           INCUMBENT    941846.23    101331.06  1043177.29   \n",
       "101         DEM           INCUMBENT    454564.68     44839.24   499403.92   \n",
       "102         REP           INCUMBENT    241109.61     22506.99   263616.60   \n",
       "103         REP           INCUMBENT    258275.00     13925.00   272200.00   \n",
       "104         REP           INCUMBENT    756149.37    107686.95   863836.32   \n",
       "\n",
       "          ...         net_ope_exp  cov_sta_dat  cov_end_dat  winner   length  \\\n",
       "100       ...           506462.37   2015-01-01   2016-10-19       1 657 days   \n",
       "101       ...           538356.49   2015-01-01   2016-10-19       1 657 days   \n",
       "102       ...           506848.06   2015-01-01   2016-10-19       1 657 days   \n",
       "103       ...           262567.99   2015-01-01   2016-10-19       1 657 days   \n",
       "104       ...          1648502.58   2015-01-01   2016-10-19       1 657 days   \n",
       "\n",
       "     party  ind_con_per  can_con_per  par_com_con_per  oth_com_con_per  \n",
       "100    DEM     0.658830          0.0         0.000014         0.341156  \n",
       "101    DEM     0.483123          0.0         0.000000         0.516877  \n",
       "102    REP     0.270386          0.0         0.000000         0.729614  \n",
       "103    REP     0.487861          0.0         0.000000         0.512139  \n",
       "104    REP     0.394496          0.0         0.000571         0.604933  \n",
       "\n",
       "[5 rows x 32 columns]"
      ]
     },
     "execution_count": 149,
     "metadata": {},
     "output_type": "execute_result"
    }
   ],
   "source": [
    "money[100:105]"
   ]
  },
  {
   "cell_type": "markdown",
   "metadata": {},
   "source": [
    "### Data Exploration"
   ]
  },
  {
   "cell_type": "markdown",
   "metadata": {},
   "source": [
    "Now that the dataset is cleaned, we can start exploring the data through visualization. "
   ]
  },
  {
   "cell_type": "markdown",
   "metadata": {},
   "source": [
    "#### Campaign Contributions"
   ]
  },
  {
   "cell_type": "markdown",
   "metadata": {},
   "source": [
    "We start with individual itemized and un-itemized contributions. Contributions are itemized if they are above 200 dollars and unitemized if below."
   ]
  },
  {
   "cell_type": "code",
   "execution_count": 80,
   "metadata": {},
   "outputs": [
    {
     "data": {
      "image/png": "[encoded data removed]",
      "text/plain": [
       "<matplotlib.figure.Figure at 0x18e13416400>"
      ]
     },
     "metadata": {},
     "output_type": "display_data"
    }
   ],
   "source": [
    "fig, ax = plt.subplots(1,2, figsize = (10,4), sharey= True)\n",
    "ax[0].plot(money[\"ind_ite_con\"], color = \"orange\")\n",
    "ax[1].plot(money[\"ind_uni_con\"], color = \"red\")\n",
    "\n",
    "\n",
    "fig.suptitle(\"Contributions Per Candidate\", fontsize = 14)\n",
    "ax[0].set_title(\"Itemized\")\n",
    "ax[1].set_title(\"Un-Itemized\")\n",
    "ax[0].set_ylabel(\"Contribution Sum\")\n",
    "ax[0].set_xlabel(\"Candidate Index Number\")\n",
    "ax[1].set_xlabel(\"Candidate Index Number\");"
   ]
  },
  {
   "cell_type": "markdown",
   "metadata": {},
   "source": [
    "It looks like the same individuals got the most itemized and un-itemized contributions. The correlation below shows that those two categories strongly overlap."
   ]
  },
  {
   "cell_type": "code",
   "execution_count": 56,
   "metadata": {},
   "outputs": [
    {
     "data": {
      "text/html": [
       "<div>\n",
       "<style>\n",
       "    .dataframe thead tr:only-child th {\n",
       "        text-align: right;\n",
       "    }\n",
       "\n",
       "    .dataframe thead th {\n",
       "        text-align: left;\n",
       "    }\n",
       "\n",
       "    .dataframe tbody tr th {\n",
       "        vertical-align: top;\n",
       "    }\n",
       "</style>\n",
       "<table border=\"1\" class=\"dataframe\">\n",
       "  <thead>\n",
       "    <tr style=\"text-align: right;\">\n",
       "      <th></th>\n",
       "      <th>ind_ite_con</th>\n",
       "      <th>ind_uni_con</th>\n",
       "    </tr>\n",
       "  </thead>\n",
       "  <tbody>\n",
       "    <tr>\n",
       "      <th>ind_ite_con</th>\n",
       "      <td>1.000000</td>\n",
       "      <td>0.791722</td>\n",
       "    </tr>\n",
       "    <tr>\n",
       "      <th>ind_uni_con</th>\n",
       "      <td>0.791722</td>\n",
       "      <td>1.000000</td>\n",
       "    </tr>\n",
       "  </tbody>\n",
       "</table>\n",
       "</div>"
      ],
      "text/plain": [
       "             ind_ite_con  ind_uni_con\n",
       "ind_ite_con     1.000000     0.791722\n",
       "ind_uni_con     0.791722     1.000000"
      ]
     },
     "execution_count": 56,
     "metadata": {},
     "output_type": "execute_result"
    }
   ],
   "source": [
    "money[[\"ind_ite_con\", \"ind_uni_con\"]].corr()"
   ]
  },
  {
   "cell_type": "markdown",
   "metadata": {},
   "source": [
    "We follow up by looking at party committee contribution and other committee contributions. "
   ]
  },
  {
   "cell_type": "code",
   "execution_count": 77,
   "metadata": {},
   "outputs": [
    {
     "data": {
      "image/png": "[encoded data removed]",
      "text/plain": [
       "<matplotlib.figure.Figure at 0x18e126adcf8>"
      ]
     },
     "metadata": {},
     "output_type": "display_data"
    }
   ],
   "source": [
    "fig, ax = plt.subplots(2,2, figsize = (10,4))\n",
    "ax[0, 0].plot(money[\"ind_con\"], color = \"orange\")\n",
    "ax[1, 0].plot(money[\"can_con\"], color = \"firebrick\")\n",
    "ax[0, 1].plot(money[\"par_com_con\"], color = \"firebrick\")\n",
    "ax[1, 1].bar(money.index, money[\"oth_com_con\"], color = \"orange\", width = 4) #using bars because the plot was hard to read\n",
    "\n",
    "fig.suptitle(\"Contributions Per Candidate\", fontsize = 14)\n",
    "ax[0, 0].set_title(\"Individual\")\n",
    "ax[1, 0].set_title(\"Candidate\")\n",
    "ax[0, 1].set_title(\"Party\")\n",
    "ax[1, 1].set_title(\"Other\")\n",
    "ax[0, 0].set_ylabel(\"Contribution Sum\")\n",
    "ax[1, 0].set_ylabel(\"Contribution Sum\")\n",
    "ax[1, 0].set_xlabel(\"Candidate Index Number\")\n",
    "ax[1, 1].set_xlabel(\"Candidate Index Number\")\n",
    "\n",
    "fig.tight_layout(w_pad=2.5) ;"
   ]
  },
  {
   "cell_type": "markdown",
   "metadata": {},
   "source": [
    "The correlation between spending categories appears to be much smaller in this instance. The correlation matrix below confirms this finding."
   ]
  },
  {
   "cell_type": "code",
   "execution_count": 78,
   "metadata": {},
   "outputs": [
    {
     "data": {
      "text/html": [
       "<div>\n",
       "<style>\n",
       "    .dataframe thead tr:only-child th {\n",
       "        text-align: right;\n",
       "    }\n",
       "\n",
       "    .dataframe thead th {\n",
       "        text-align: left;\n",
       "    }\n",
       "\n",
       "    .dataframe tbody tr th {\n",
       "        vertical-align: top;\n",
       "    }\n",
       "</style>\n",
       "<table border=\"1\" class=\"dataframe\">\n",
       "  <thead>\n",
       "    <tr style=\"text-align: right;\">\n",
       "      <th></th>\n",
       "      <th>ind_con</th>\n",
       "      <th>can_con</th>\n",
       "      <th>par_com_con</th>\n",
       "      <th>oth_com_con</th>\n",
       "    </tr>\n",
       "  </thead>\n",
       "  <tbody>\n",
       "    <tr>\n",
       "      <th>ind_con</th>\n",
       "      <td>1.000000</td>\n",
       "      <td>0.180615</td>\n",
       "      <td>0.067529</td>\n",
       "      <td>0.123264</td>\n",
       "    </tr>\n",
       "    <tr>\n",
       "      <th>can_con</th>\n",
       "      <td>0.180615</td>\n",
       "      <td>1.000000</td>\n",
       "      <td>0.000734</td>\n",
       "      <td>-0.015427</td>\n",
       "    </tr>\n",
       "    <tr>\n",
       "      <th>par_com_con</th>\n",
       "      <td>0.067529</td>\n",
       "      <td>0.000734</td>\n",
       "      <td>1.000000</td>\n",
       "      <td>0.286624</td>\n",
       "    </tr>\n",
       "    <tr>\n",
       "      <th>oth_com_con</th>\n",
       "      <td>0.123264</td>\n",
       "      <td>-0.015427</td>\n",
       "      <td>0.286624</td>\n",
       "      <td>1.000000</td>\n",
       "    </tr>\n",
       "  </tbody>\n",
       "</table>\n",
       "</div>"
      ],
      "text/plain": [
       "              ind_con   can_con  par_com_con  oth_com_con\n",
       "ind_con      1.000000  0.180615     0.067529     0.123264\n",
       "can_con      0.180615  1.000000     0.000734    -0.015427\n",
       "par_com_con  0.067529  0.000734     1.000000     0.286624\n",
       "oth_com_con  0.123264 -0.015427     0.286624     1.000000"
      ]
     },
     "execution_count": 78,
     "metadata": {},
     "output_type": "execute_result"
    }
   ],
   "source": [
    "money[[\"ind_con\", \"can_con\", \"par_com_con\", \"oth_com_con\"]].corr()"
   ]
  },
  {
   "cell_type": "markdown",
   "metadata": {},
   "source": [
    "The *size* of average contributions is also dramatically different. "
   ]
  },
  {
   "cell_type": "code",
   "execution_count": 423,
   "metadata": {},
   "outputs": [
    {
     "data": {
      "text/plain": [
       "ind_con        1.051990e+06\n",
       "can_con        2.208759e+04\n",
       "par_com_con    1.505788e+03\n",
       "oth_com_con    2.294036e+05\n",
       "dtype: float64"
      ]
     },
     "execution_count": 423,
     "metadata": {},
     "output_type": "execute_result"
    }
   ],
   "source": [
    "money[[\"ind_con\", \"can_con\", \"par_com_con\", \"oth_com_con\"]].mean()"
   ]
  },
  {
   "cell_type": "markdown",
   "metadata": {},
   "source": [
    "Individual contributions are, by far, the largest source of funding for candidates, followed by other committees (e.g. PACs), candidate contributions and political parties."
   ]
  },
  {
   "cell_type": "markdown",
   "metadata": {},
   "source": [
    "Even though the contributions of political parties is small, we might expect differences in contribution composition for candidates of different political parties. The table below shows the average contributions for the four previous categories and total contributions, broken down by party:"
   ]
  },
  {
   "cell_type": "code",
   "execution_count": 84,
   "metadata": {},
   "outputs": [
    {
     "data": {
      "text/html": [
       "<div>\n",
       "<style>\n",
       "    .dataframe thead tr:only-child th {\n",
       "        text-align: right;\n",
       "    }\n",
       "\n",
       "    .dataframe thead th {\n",
       "        text-align: left;\n",
       "    }\n",
       "\n",
       "    .dataframe tbody tr th {\n",
       "        vertical-align: top;\n",
       "    }\n",
       "</style>\n",
       "<table border=\"1\" class=\"dataframe\">\n",
       "  <thead>\n",
       "    <tr style=\"text-align: right;\">\n",
       "      <th></th>\n",
       "      <th>ind_con</th>\n",
       "      <th>can_con</th>\n",
       "      <th>par_com_con</th>\n",
       "      <th>oth_com_con</th>\n",
       "      <th>tot_con</th>\n",
       "    </tr>\n",
       "    <tr>\n",
       "      <th>party</th>\n",
       "      <th></th>\n",
       "      <th></th>\n",
       "      <th></th>\n",
       "      <th></th>\n",
       "      <th></th>\n",
       "    </tr>\n",
       "  </thead>\n",
       "  <tbody>\n",
       "    <tr>\n",
       "      <th>DEM</th>\n",
       "      <td>1480505.33</td>\n",
       "      <td>28457.25</td>\n",
       "      <td>1665.52</td>\n",
       "      <td>233486.03</td>\n",
       "      <td>1745333.77</td>\n",
       "    </tr>\n",
       "    <tr>\n",
       "      <th>REP</th>\n",
       "      <td>937422.28</td>\n",
       "      <td>21382.70</td>\n",
       "      <td>1710.11</td>\n",
       "      <td>277520.36</td>\n",
       "      <td>1237805.40</td>\n",
       "    </tr>\n",
       "    <tr>\n",
       "      <th>IND</th>\n",
       "      <td>115433.89</td>\n",
       "      <td>4132.57</td>\n",
       "      <td>158.36</td>\n",
       "      <td>21616.53</td>\n",
       "      <td>141417.16</td>\n",
       "    </tr>\n",
       "  </tbody>\n",
       "</table>\n",
       "</div>"
      ],
      "text/plain": [
       "          ind_con   can_con  par_com_con  oth_com_con     tot_con\n",
       "party                                                            \n",
       "DEM    1480505.33  28457.25      1665.52    233486.03  1745333.77\n",
       "REP     937422.28  21382.70      1710.11    277520.36  1237805.40\n",
       "IND     115433.89   4132.57       158.36     21616.53   141417.16"
      ]
     },
     "execution_count": 84,
     "metadata": {},
     "output_type": "execute_result"
    }
   ],
   "source": [
    "money.groupby(\"party\")[[\"ind_con\", \"can_con\", \"par_com_con\", \"oth_com_con\",  \"tot_con\"]].mean().round(2).sort_values(by = \"tot_con\", ascending = False)"
   ]
  },
  {
   "cell_type": "markdown",
   "metadata": {},
   "source": [
    "For all three groups, individual contributions represent the bulk of the total contributions received. Candidate contributions are approximately twice the size of party contributions for Republicans and Democrats. Democrats have the highest (average) individual, candidate and total contributions -- Republicans have slightly higher party committee contributions and higher other committee contributions. Independents are outspent in total contributions by at least a factor of 9."
   ]
  },
  {
   "cell_type": "markdown",
   "metadata": {
    "collapsed": true
   },
   "source": [
    "We now look at the same statistic by state."
   ]
  },
  {
   "cell_type": "code",
   "execution_count": 268,
   "metadata": {},
   "outputs": [
    {
     "data": {
      "text/html": [
       "<div>\n",
       "<style>\n",
       "    .dataframe thead tr:only-child th {\n",
       "        text-align: right;\n",
       "    }\n",
       "\n",
       "    .dataframe thead th {\n",
       "        text-align: left;\n",
       "    }\n",
       "\n",
       "    .dataframe tbody tr th {\n",
       "        vertical-align: top;\n",
       "    }\n",
       "</style>\n",
       "<table border=\"1\" class=\"dataframe\">\n",
       "  <thead>\n",
       "    <tr style=\"text-align: right;\">\n",
       "      <th></th>\n",
       "      <th>ind_con</th>\n",
       "      <th>can_con</th>\n",
       "      <th>par_com_con</th>\n",
       "      <th>oth_com_con</th>\n",
       "      <th>tot_con</th>\n",
       "    </tr>\n",
       "    <tr>\n",
       "      <th>can_off_sta</th>\n",
       "      <th></th>\n",
       "      <th></th>\n",
       "      <th></th>\n",
       "      <th></th>\n",
       "      <th></th>\n",
       "    </tr>\n",
       "  </thead>\n",
       "  <tbody>\n",
       "    <tr>\n",
       "      <th>US</th>\n",
       "      <td>6468183.49</td>\n",
       "      <td>69201.50</td>\n",
       "      <td>121.11</td>\n",
       "      <td>21229.34</td>\n",
       "      <td>6558687.42</td>\n",
       "    </tr>\n",
       "    <tr>\n",
       "      <th>MT</th>\n",
       "      <td>3177398.15</td>\n",
       "      <td>0.00</td>\n",
       "      <td>9284.82</td>\n",
       "      <td>480995.19</td>\n",
       "      <td>3667678.16</td>\n",
       "    </tr>\n",
       "    <tr>\n",
       "      <th>NH</th>\n",
       "      <td>1963915.39</td>\n",
       "      <td>5927.41</td>\n",
       "      <td>7757.26</td>\n",
       "      <td>430384.05</td>\n",
       "      <td>2407984.10</td>\n",
       "    </tr>\n",
       "    <tr>\n",
       "      <th>WI</th>\n",
       "      <td>1594026.45</td>\n",
       "      <td>2210.42</td>\n",
       "      <td>5935.04</td>\n",
       "      <td>330835.52</td>\n",
       "      <td>1933332.14</td>\n",
       "    </tr>\n",
       "    <tr>\n",
       "      <th>SD</th>\n",
       "      <td>935969.06</td>\n",
       "      <td>237.50</td>\n",
       "      <td>187.50</td>\n",
       "      <td>857678.84</td>\n",
       "      <td>1794072.90</td>\n",
       "    </tr>\n",
       "    <tr>\n",
       "      <th>VT</th>\n",
       "      <td>911901.61</td>\n",
       "      <td>8521.67</td>\n",
       "      <td>0.00</td>\n",
       "      <td>647483.55</td>\n",
       "      <td>1597172.83</td>\n",
       "    </tr>\n",
       "  </tbody>\n",
       "</table>\n",
       "</div>"
      ],
      "text/plain": [
       "                ind_con   can_con  par_com_con  oth_com_con     tot_con\n",
       "can_off_sta                                                            \n",
       "US           6468183.49  69201.50       121.11     21229.34  6558687.42\n",
       "MT           3177398.15      0.00      9284.82    480995.19  3667678.16\n",
       "NH           1963915.39   5927.41      7757.26    430384.05  2407984.10\n",
       "WI           1594026.45   2210.42      5935.04    330835.52  1933332.14\n",
       "SD            935969.06    237.50       187.50    857678.84  1794072.90\n",
       "VT            911901.61   8521.67         0.00    647483.55  1597172.83"
      ]
     },
     "execution_count": 268,
     "metadata": {},
     "output_type": "execute_result"
    }
   ],
   "source": [
    "money.groupby(\"can_off_sta\")[[\"ind_con\", \"can_con\", \"par_com_con\", \"oth_com_con\", \"tot_con\"]].mean().round(2).sort_values(by = \"tot_con\", \n",
    "                                                                                                           ascending = False).head(6)"
   ]
  },
  {
   "cell_type": "markdown",
   "metadata": {},
   "source": [
    "Montana, New Hampshire, Wisconsin and South Dakota all have the highest average total contributions. The state-by-state breakdown shows significant differences in average spending composition: candidates from Nevada have an average of individual contributions higher by 123,869 dollars than that of Utah candidates, but the average total contributions are higher in Utah."
   ]
  },
  {
   "cell_type": "markdown",
   "metadata": {},
   "source": [
    "We can further illustrate those differences by looking at the weight of other committee spending per state."
   ]
  },
  {
   "cell_type": "code",
   "execution_count": 176,
   "metadata": {},
   "outputs": [
    {
     "data": {
      "text/html": [
       "<div>\n",
       "<style>\n",
       "    .dataframe thead tr:only-child th {\n",
       "        text-align: right;\n",
       "    }\n",
       "\n",
       "    .dataframe thead th {\n",
       "        text-align: left;\n",
       "    }\n",
       "\n",
       "    .dataframe tbody tr th {\n",
       "        vertical-align: top;\n",
       "    }\n",
       "</style>\n",
       "<table border=\"1\" class=\"dataframe\">\n",
       "  <thead>\n",
       "    <tr style=\"text-align: right;\">\n",
       "      <th></th>\n",
       "      <th>oth_com_con_per</th>\n",
       "    </tr>\n",
       "    <tr>\n",
       "      <th>can_off_sta</th>\n",
       "      <th></th>\n",
       "    </tr>\n",
       "  </thead>\n",
       "  <tbody>\n",
       "    <tr>\n",
       "      <th>OH</th>\n",
       "      <td>inf</td>\n",
       "    </tr>\n",
       "    <tr>\n",
       "      <th>DC</th>\n",
       "      <td>0.665732</td>\n",
       "    </tr>\n",
       "    <tr>\n",
       "      <th>NE</th>\n",
       "      <td>0.398844</td>\n",
       "    </tr>\n",
       "  </tbody>\n",
       "</table>\n",
       "</div>"
      ],
      "text/plain": [
       "             oth_com_con_per\n",
       "can_off_sta                 \n",
       "OH                       inf\n",
       "DC                  0.665732\n",
       "NE                  0.398844"
      ]
     },
     "execution_count": 176,
     "metadata": {},
     "output_type": "execute_result"
    }
   ],
   "source": [
    "money.groupby(\"can_off_sta\")[[\"oth_com_con_per\"]].mean().sort_values(by = \"oth_com_con_per\", ascending = False).head(3)"
   ]
  },
  {
   "cell_type": "code",
   "execution_count": 177,
   "metadata": {},
   "outputs": [
    {
     "data": {
      "text/html": [
       "<div>\n",
       "<style>\n",
       "    .dataframe thead tr:only-child th {\n",
       "        text-align: right;\n",
       "    }\n",
       "\n",
       "    .dataframe thead th {\n",
       "        text-align: left;\n",
       "    }\n",
       "\n",
       "    .dataframe tbody tr th {\n",
       "        vertical-align: top;\n",
       "    }\n",
       "</style>\n",
       "<table border=\"1\" class=\"dataframe\">\n",
       "  <thead>\n",
       "    <tr style=\"text-align: right;\">\n",
       "      <th></th>\n",
       "      <th>oth_com_con_per</th>\n",
       "    </tr>\n",
       "    <tr>\n",
       "      <th>can_off_sta</th>\n",
       "      <th></th>\n",
       "    </tr>\n",
       "  </thead>\n",
       "  <tbody>\n",
       "    <tr>\n",
       "      <th>WY</th>\n",
       "      <td>0.026416</td>\n",
       "    </tr>\n",
       "    <tr>\n",
       "      <th>PR</th>\n",
       "      <td>0.009002</td>\n",
       "    </tr>\n",
       "    <tr>\n",
       "      <th>US</th>\n",
       "      <td>0.001613</td>\n",
       "    </tr>\n",
       "  </tbody>\n",
       "</table>\n",
       "</div>"
      ],
      "text/plain": [
       "             oth_com_con_per\n",
       "can_off_sta                 \n",
       "WY                  0.026416\n",
       "PR                  0.009002\n",
       "US                  0.001613"
      ]
     },
     "execution_count": 177,
     "metadata": {},
     "output_type": "execute_result"
    }
   ],
   "source": [
    "money.groupby(\"can_off_sta\")[[\"oth_com_con_per\"]].mean().sort_values(by = \"oth_com_con_per\", ascending = False).tail(3)"
   ]
  },
  {
   "cell_type": "markdown",
   "metadata": {},
   "source": [
    "Finally, we can look at differences in campaign funding for different offices."
   ]
  },
  {
   "cell_type": "code",
   "execution_count": 112,
   "metadata": {},
   "outputs": [
    {
     "data": {
      "text/html": [
       "<div>\n",
       "<style>\n",
       "    .dataframe thead tr:only-child th {\n",
       "        text-align: right;\n",
       "    }\n",
       "\n",
       "    .dataframe thead th {\n",
       "        text-align: left;\n",
       "    }\n",
       "\n",
       "    .dataframe tbody tr th {\n",
       "        vertical-align: top;\n",
       "    }\n",
       "</style>\n",
       "<table border=\"1\" class=\"dataframe\">\n",
       "  <thead>\n",
       "    <tr style=\"text-align: right;\">\n",
       "      <th></th>\n",
       "      <th>ind_con</th>\n",
       "      <th>can_con</th>\n",
       "      <th>par_com_con</th>\n",
       "      <th>oth_com_con</th>\n",
       "      <th>tot_con</th>\n",
       "    </tr>\n",
       "    <tr>\n",
       "      <th>can_off</th>\n",
       "      <th></th>\n",
       "      <th></th>\n",
       "      <th></th>\n",
       "      <th></th>\n",
       "      <th></th>\n",
       "    </tr>\n",
       "  </thead>\n",
       "  <tbody>\n",
       "    <tr>\n",
       "      <th>P</th>\n",
       "      <td>6468183.49</td>\n",
       "      <td>69201.50</td>\n",
       "      <td>121.11</td>\n",
       "      <td>21229.34</td>\n",
       "      <td>6558687.42</td>\n",
       "    </tr>\n",
       "    <tr>\n",
       "      <th>S</th>\n",
       "      <td>1677855.62</td>\n",
       "      <td>8873.93</td>\n",
       "      <td>7471.49</td>\n",
       "      <td>380591.98</td>\n",
       "      <td>2077530.13</td>\n",
       "    </tr>\n",
       "    <tr>\n",
       "      <th>H</th>\n",
       "      <td>353178.03</td>\n",
       "      <td>18963.75</td>\n",
       "      <td>714.29</td>\n",
       "      <td>228508.67</td>\n",
       "      <td>601414.66</td>\n",
       "    </tr>\n",
       "  </tbody>\n",
       "</table>\n",
       "</div>"
      ],
      "text/plain": [
       "            ind_con   can_con  par_com_con  oth_com_con     tot_con\n",
       "can_off                                                            \n",
       "P        6468183.49  69201.50       121.11     21229.34  6558687.42\n",
       "S        1677855.62   8873.93      7471.49    380591.98  2077530.13\n",
       "H         353178.03  18963.75       714.29    228508.67   601414.66"
      ]
     },
     "execution_count": 112,
     "metadata": {},
     "output_type": "execute_result"
    }
   ],
   "source": [
    "money.groupby(\"can_off\")[[\"ind_con\", \"can_con\", \"par_com_con\", \"oth_com_con\",  \"tot_con\"]].mean().round(2).sort_values(by = \"tot_con\", ascending = False)"
   ]
  },
  {
   "cell_type": "markdown",
   "metadata": {},
   "source": [
    "Presidential elections have, by far, the highest total contributions, which isn't surprising considering they are run at a much larger scale. Senate campaigns has overall higher contributions, except for candidate contributions. The same reasoning holds (House campaigns are more local, so require lower funding -- and candidates are more likely to fund themselves)."
   ]
  },
  {
   "cell_type": "markdown",
   "metadata": {},
   "source": [
    "#### Campaign Duration"
   ]
  },
  {
   "cell_type": "code",
   "execution_count": 110,
   "metadata": {},
   "outputs": [
    {
     "data": {
      "image/png": "[encoded data removed]",
      "text/plain": [
       "<matplotlib.figure.Figure at 0x18e132c8390>"
      ]
     },
     "metadata": {},
     "output_type": "display_data"
    }
   ],
   "source": [
    "money.sort_values(\"length\").plot(\"length\",\"cas_on_han_beg_of_per\", title = \"Campaign Length by Cash on Hand at Beginning of Campaign\", legend = False);"
   ]
  },
  {
   "cell_type": "markdown",
   "metadata": {},
   "source": [
    "The graph above suggests that the candidates that have the most cash on hand at the *beginning* of the campaign are able to run longer. This may suggest that cash on hand may be a good predictor of success: it is observed early on in the campaign process and seems significantly correlated with, at least, the ability of a candidate to run the distance..."
   ]
  },
  {
   "cell_type": "markdown",
   "metadata": {},
   "source": [
    "### Predicting Wins"
   ]
  },
  {
   "cell_type": "markdown",
   "metadata": {},
   "source": [
    "........ Again, we start our exploration visually, with wins by contribution amounts."
   ]
  },
  {
   "cell_type": "code",
   "execution_count": 271,
   "metadata": {},
   "outputs": [
    {
     "data": {
      "image/png": "[encoded data removed]",
      "text/plain": [
       "<matplotlib.figure.Figure at 0x18e122a46d8>"
      ]
     },
     "metadata": {},
     "output_type": "display_data"
    }
   ],
   "source": [
    "money.plot(\"winner\", \"tot_con\",kind = \"scatter\");"
   ]
  },
  {
   "cell_type": "markdown",
   "metadata": {},
   "source": [
    "The relationship seems to be *negative*: candidates with higher total contributions are more likely to lose. However, it could be that the candidates who attract higher contributions are running in more competitive races; thus, their likelihood of winning is lower."
   ]
  },
  {
   "cell_type": "code",
   "execution_count": 280,
   "metadata": {},
   "outputs": [
    {
     "data": {
      "text/html": [
       "<div>\n",
       "<style>\n",
       "    .dataframe thead tr:only-child th {\n",
       "        text-align: right;\n",
       "    }\n",
       "\n",
       "    .dataframe thead th {\n",
       "        text-align: left;\n",
       "    }\n",
       "\n",
       "    .dataframe tbody tr th {\n",
       "        vertical-align: top;\n",
       "    }\n",
       "</style>\n",
       "<table border=\"1\" class=\"dataframe\">\n",
       "  <thead>\n",
       "    <tr style=\"text-align: right;\">\n",
       "      <th>tot_con</th>\n",
       "      <th>(9368.5, 90556.66]</th>\n",
       "      <th>(90556.66, 450618.05]</th>\n",
       "      <th>(450618.05, 930000.185]</th>\n",
       "      <th>(930000.185, 1459406.16]</th>\n",
       "      <th>(1459406.16, 3315223.76]</th>\n",
       "    </tr>\n",
       "    <tr>\n",
       "      <th>can_inc_cha_ope_sea</th>\n",
       "      <th></th>\n",
       "      <th></th>\n",
       "      <th></th>\n",
       "      <th></th>\n",
       "      <th></th>\n",
       "    </tr>\n",
       "  </thead>\n",
       "  <tbody>\n",
       "    <tr>\n",
       "      <th>CHALLENGER</th>\n",
       "      <td>0</td>\n",
       "      <td>0.012579</td>\n",
       "      <td>0.071429</td>\n",
       "      <td>0.250000</td>\n",
       "      <td>0.083333</td>\n",
       "    </tr>\n",
       "    <tr>\n",
       "      <th>INCUMBENT</th>\n",
       "      <td>0</td>\n",
       "      <td>0.800000</td>\n",
       "      <td>0.990291</td>\n",
       "      <td>0.976744</td>\n",
       "      <td>0.945736</td>\n",
       "    </tr>\n",
       "    <tr>\n",
       "      <th>OPEN</th>\n",
       "      <td>0</td>\n",
       "      <td>0.010309</td>\n",
       "      <td>0.320000</td>\n",
       "      <td>0.392857</td>\n",
       "      <td>0.464286</td>\n",
       "    </tr>\n",
       "  </tbody>\n",
       "</table>\n",
       "</div>"
      ],
      "text/plain": [
       "tot_con              (9368.5, 90556.66]  (90556.66, 450618.05]  \\\n",
       "can_inc_cha_ope_sea                                              \n",
       "CHALLENGER                            0               0.012579   \n",
       "INCUMBENT                             0               0.800000   \n",
       "OPEN                                  0               0.010309   \n",
       "\n",
       "tot_con              (450618.05, 930000.185]  (930000.185, 1459406.16]  \\\n",
       "can_inc_cha_ope_sea                                                      \n",
       "CHALLENGER                          0.071429                  0.250000   \n",
       "INCUMBENT                           0.990291                  0.976744   \n",
       "OPEN                                0.320000                  0.392857   \n",
       "\n",
       "tot_con              (1459406.16, 3315223.76]  \n",
       "can_inc_cha_ope_sea                            \n",
       "CHALLENGER                           0.083333  \n",
       "INCUMBENT                            0.945736  \n",
       "OPEN                                 0.464286  "
      ]
     },
     "execution_count": 280,
     "metadata": {},
     "output_type": "execute_result"
    }
   ],
   "source": [
    "con_quantiles = money['tot_con'].quantile([0.25, 0.5, 0.65, 0.75, 0.85, 0.95])\n",
    "money.pivot_table('winner', index='can_inc_cha_ope_sea', columns= pd.cut(money['tot_con'], list(con_quantiles)), fill_value= 0)[\"CHALLENGER\":]"
   ]
  },
  {
   "cell_type": "markdown",
   "metadata": {},
   "source": [
    "It is immediately obvious that incumbents have a **massive** advantage when it comes to re-election. Non-incumbents in open races have (obviously) a much higher chance of winning. Incumbents have the networks necessary to easily out-fund their adversaries. They are also a less risky bet for contributors than challengers."
   ]
  },
  {
   "cell_type": "markdown",
   "metadata": {},
   "source": [
    "Though nice, the pivot table does not tell us what the odds of success are for, say, a challenger with 800,000 in total contributions against an incumbent with only 100,000, or what the odds of them having those exact amounts are."
   ]
  },
  {
   "cell_type": "markdown",
   "metadata": {},
   "source": [
    "#### First Regression: Chance of Winning for an Individual Candidate given their individual characteristics"
   ]
  },
  {
   "cell_type": "markdown",
   "metadata": {},
   "source": [
    "What do we know from the above? There isn't necessarily a relationship between total contributions and winning; political parties matter when it comes to raising money and winning; candidates with more cash-on-hand at the beginning of the campaign last longer; and incumbents have a considerable advantage when it comes to winning elections."
   ]
  },
  {
   "cell_type": "markdown",
   "metadata": {},
   "source": [
    "We want to put all of the above together to run a logit regression of the probability of winning for a candidate for a number of given characteristics."
   ]
  },
  {
   "cell_type": "markdown",
   "metadata": {},
   "source": [
    "##### Variable Selection"
   ]
  },
  {
   "cell_type": "markdown",
   "metadata": {},
   "source": [
    "First we need to filter through all of our variables to find the ones best suited for the regression. Many of our variables have overlap, so we want to make sure we don't introduce multicollinearity in our model."
   ]
  },
  {
   "cell_type": "code",
   "execution_count": 234,
   "metadata": {},
   "outputs": [
    {
     "data": {
      "text/plain": [
       "oth_com_con        0.676866\n",
       "winner             1.000000\n",
       "oth_com_con_per    0.821855\n",
       "Name: winner, dtype: float64"
      ]
     },
     "execution_count": 234,
     "metadata": {},
     "output_type": "execute_result"
    }
   ],
   "source": [
    "money.corr()[\"winner\"][money.corr()[\"winner\"] > abs(0.5)]"
   ]
  },
  {
   "cell_type": "markdown",
   "metadata": {},
   "source": [
    "Our dependent variable, winner, is highly correlated with `oth_com_con` and `oth_com_con_per`. Those two variables are the same thing, so we'll only use one. "
   ]
  },
  {
   "cell_type": "code",
   "execution_count": 235,
   "metadata": {},
   "outputs": [
    {
     "data": {
      "text/plain": [
       "oth_com_con        0.655578\n",
       "winner             0.821855\n",
       "oth_com_con_per    1.000000\n",
       "Name: oth_com_con_per, dtype: float64"
      ]
     },
     "execution_count": 235,
     "metadata": {},
     "output_type": "execute_result"
    }
   ],
   "source": [
    "money.corr()[\"oth_com_con_per\"][money.corr()[\"oth_com_con_per\"] > abs(0.5)]"
   ]
  },
  {
   "cell_type": "code",
   "execution_count": 237,
   "metadata": {},
   "outputs": [
    {
     "data": {
      "text/plain": [
       "oth_com_con        1.000000\n",
       "winner             0.676866\n",
       "oth_com_con_per    0.655578\n",
       "Name: oth_com_con, dtype: float64"
      ]
     },
     "execution_count": 237,
     "metadata": {},
     "output_type": "execute_result"
    }
   ],
   "source": [
    "money.corr()[\"oth_com_con\"][money.corr()[\"oth_com_con\"] > abs(0.5)]"
   ]
  },
  {
   "cell_type": "markdown",
   "metadata": {},
   "source": [
    "They are not strongly correlated to anything other than themselves."
   ]
  },
  {
   "cell_type": "markdown",
   "metadata": {},
   "source": [
    " We were also interested in total contributions. As shown below, total contributions are **highly** correlated to a number of other variables -- including `cas_on_han_clo_of_per` and `net_ope_exp`. Therefore, as a general rule, we'll only use one of those at a time."
   ]
  },
  {
   "cell_type": "code",
   "execution_count": 238,
   "metadata": {},
   "outputs": [
    {
     "data": {
      "text/plain": [
       "ind_ite_con              0.968574\n",
       "ind_uni_con              0.915081\n",
       "ind_con                  0.998510\n",
       "tot_con                  1.000000\n",
       "tot_rec                  0.976250\n",
       "ope_exp                  0.976642\n",
       "tot_dis                  0.978636\n",
       "cas_on_han_clo_of_per    0.791032\n",
       "net_con                  0.973802\n",
       "net_ope_exp              0.982931\n",
       "Name: tot_con, dtype: float64"
      ]
     },
     "execution_count": 238,
     "metadata": {},
     "output_type": "execute_result"
    }
   ],
   "source": [
    "money.corr()[\"tot_con\"][money.corr()[\"tot_con\"] > abs(0.5)]"
   ]
  },
  {
   "cell_type": "markdown",
   "metadata": {},
   "source": [
    "Three of the other independent variables we were interested in, 'can_off', 'can_inc_cha_ope_sea', and 'party', are not numerical and so excluded from `.corr()`. We convert them into dummies below and check their correlation."
   ]
  },
  {
   "cell_type": "code",
   "execution_count": 242,
   "metadata": {
    "collapsed": true
   },
   "outputs": [],
   "source": [
    "office = pd.get_dummies(money[\"can_off\"], prefix='office')\n",
    "pol_party = pd.get_dummies(money['party'], prefix='party')\n",
    "status = pd.get_dummies(money['can_inc_cha_ope_sea'], prefix='status')\n",
    "money_wdummies = money.join(office).join(pol_party).join(status)"
   ]
  },
  {
   "cell_type": "code",
   "execution_count": 260,
   "metadata": {},
   "outputs": [
    {
     "data": {
      "text/plain": [
       "oth_com_con         0.676866\n",
       "winner              1.000000\n",
       "oth_com_con_per     0.821855\n",
       "status_INCUMBENT    0.877584\n",
       "Name: winner, dtype: float64"
      ]
     },
     "execution_count": 260,
     "metadata": {},
     "output_type": "execute_result"
    }
   ],
   "source": [
    "money_wdummies.corr()[\"winner\"][money_wdummies.corr()[\"winner\"] > abs(0.5)]"
   ]
  },
  {
   "cell_type": "markdown",
   "metadata": {},
   "source": [
    "The winner column is now *strongly* related to *both* `oth_com_con` and `status_INCUMBENT`. The code below shows that there is a strong correlation between `oth_com_con` and `status_INCUMBENT` -- i.e. oth_com_con could be correlated to winning because incumbents are more likely to win, thus get more contributions *or* incumbents could win because they get more contributions."
   ]
  },
  {
   "cell_type": "code",
   "execution_count": 259,
   "metadata": {},
   "outputs": [
    {
     "data": {
      "text/plain": [
       "oth_com_con         0.707630\n",
       "winner              0.877584\n",
       "oth_com_con_per     0.852313\n",
       "status_INCUMBENT    1.000000\n",
       "Name: status_INCUMBENT, dtype: float64"
      ]
     },
     "execution_count": 259,
     "metadata": {},
     "output_type": "execute_result"
    }
   ],
   "source": [
    "money_wdummies.corr()[\"status_INCUMBENT\"][money_wdummies.corr()[\"status_INCUMBENT\"] > abs(0.5)]"
   ]
  },
  {
   "cell_type": "markdown",
   "metadata": {},
   "source": [
    "There is also, as expected, a strong negative correlation between the different types of dummies (e.g. `party_DEM` and `party_REP`, Open races vs contested races, etc)."
   ]
  },
  {
   "cell_type": "markdown",
   "metadata": {},
   "source": [
    "Therefore we will be using ** `oth_com_con`/`oth_com_con_per`, `tot_con`**, our **'status'**, and **party** dummies as independent variables."
   ]
  },
  {
   "cell_type": "markdown",
   "metadata": {},
   "source": [
    "##### First Regression"
   ]
  },
  {
   "cell_type": "markdown",
   "metadata": {},
   "source": [
    "We can use what we have learned above to run a first logit regression on our DataFrame. This regression tries to estimate the factors of a success for an *individual* candidate for the Senated and House separately."
   ]
  },
  {
   "cell_type": "code",
   "execution_count": 179,
   "metadata": {
    "collapsed": true
   },
   "outputs": [],
   "source": [
    "house = money[money[\"can_off\"] == \"H\"]\n",
    "senate = money[money[\"can_off\"] == \"S\"]"
   ]
  },
  {
   "cell_type": "code",
   "execution_count": 261,
   "metadata": {},
   "outputs": [
    {
     "name": "stderr",
     "output_type": "stream",
     "text": [
      "C:\\ProgramData\\Anaconda3\\lib\\site-packages\\ipykernel_launcher.py:6: DeprecationWarning: \n",
      ".ix is deprecated. Please use\n",
      ".loc for label based indexing or\n",
      ".iloc for positional indexing\n",
      "\n",
      "See the documentation here:\n",
      "http://pandas.pydata.org/pandas-docs/stable/indexing.html#ix-indexer-is-deprecated\n",
      "  \n"
     ]
    }
   ],
   "source": [
    "reg_columns = [\"winner\", \"oth_com_con\", \"tot_con\"]\n",
    "reg_data_house = house[reg_columns]\n",
    "pol_party = pd.get_dummies(house['party'], prefix='party')\n",
    "status = pd.get_dummies(house['can_inc_cha_ope_sea'], prefix='status')\n",
    "\n",
    "reg_data_house = reg_data_house.join(pol_party.ix[:, 1:]).join(status.ix[:, 1:]) #exclude one of the dummy columns to avoid dummy var trap"
   ]
  },
  {
   "cell_type": "code",
   "execution_count": 262,
   "metadata": {},
   "outputs": [
    {
     "name": "stdout",
     "output_type": "stream",
     "text": [
      "Optimization terminated successfully.\n",
      "         Current function value: 0.326787\n",
      "         Iterations 8\n"
     ]
    },
    {
     "data": {
      "text/html": [
       "<table class=\"simpletable\">\n",
       "<caption>Logit Regression Results</caption>\n",
       "<tr>\n",
       "  <th>Dep. Variable:</th>      <td>winner</td>      <th>  No. Observations:  </th>   <td>  1427</td>  \n",
       "</tr>\n",
       "<tr>\n",
       "  <th>Model:</th>               <td>Logit</td>      <th>  Df Residuals:      </th>   <td>  1421</td>  \n",
       "</tr>\n",
       "<tr>\n",
       "  <th>Method:</th>               <td>MLE</td>       <th>  Df Model:          </th>   <td>     5</td>  \n",
       "</tr>\n",
       "<tr>\n",
       "  <th>Date:</th>          <td>Tue, 27 Mar 2018</td> <th>  Pseudo R-squ.:     </th>   <td>0.4686</td>  \n",
       "</tr>\n",
       "<tr>\n",
       "  <th>Time:</th>              <td>12:26:43</td>     <th>  Log-Likelihood:    </th>  <td> -466.33</td> \n",
       "</tr>\n",
       "<tr>\n",
       "  <th>converged:</th>           <td>True</td>       <th>  LL-Null:           </th>  <td> -877.47</td> \n",
       "</tr>\n",
       "<tr>\n",
       "  <th> </th>                      <td> </td>        <th>  LLR p-value:       </th> <td>1.742e-175</td>\n",
       "</tr>\n",
       "</table>\n",
       "<table class=\"simpletable\">\n",
       "<tr>\n",
       "          <td></td>            <th>coef</th>     <th>std err</th>      <th>z</th>      <th>P>|z|</th>  <th>[0.025</th>    <th>0.975]</th>  \n",
       "</tr>\n",
       "<tr>\n",
       "  <th>oth_com_con</th>      <td> 3.619e-06</td> <td> 8.73e-07</td> <td>    4.147</td> <td> 0.000</td> <td> 1.91e-06</td> <td> 5.33e-06</td>\n",
       "</tr>\n",
       "<tr>\n",
       "  <th>tot_con</th>          <td>-4.665e-07</td> <td> 1.84e-07</td> <td>   -2.538</td> <td> 0.011</td> <td>-8.27e-07</td> <td>-1.06e-07</td>\n",
       "</tr>\n",
       "<tr>\n",
       "  <th>party_IND</th>        <td>   -4.8022</td> <td>    0.897</td> <td>   -5.356</td> <td> 0.000</td> <td>   -6.559</td> <td>   -3.045</td>\n",
       "</tr>\n",
       "<tr>\n",
       "  <th>party_REP</th>        <td>   -2.4460</td> <td>    0.183</td> <td>  -13.382</td> <td> 0.000</td> <td>   -2.804</td> <td>   -2.088</td>\n",
       "</tr>\n",
       "<tr>\n",
       "  <th>status_INCUMBENT</th> <td>    3.6265</td> <td>    0.412</td> <td>    8.809</td> <td> 0.000</td> <td>    2.820</td> <td>    4.433</td>\n",
       "</tr>\n",
       "<tr>\n",
       "  <th>status_OPEN</th>      <td>   -0.8990</td> <td>    0.197</td> <td>   -4.569</td> <td> 0.000</td> <td>   -1.285</td> <td>   -0.513</td>\n",
       "</tr>\n",
       "</table>"
      ],
      "text/plain": [
       "<class 'statsmodels.iolib.summary.Summary'>\n",
       "\"\"\"\n",
       "                           Logit Regression Results                           \n",
       "==============================================================================\n",
       "Dep. Variable:                 winner   No. Observations:                 1427\n",
       "Model:                          Logit   Df Residuals:                     1421\n",
       "Method:                           MLE   Df Model:                            5\n",
       "Date:                Tue, 27 Mar 2018   Pseudo R-squ.:                  0.4686\n",
       "Time:                        12:26:43   Log-Likelihood:                -466.33\n",
       "converged:                       True   LL-Null:                       -877.47\n",
       "                                        LLR p-value:                1.742e-175\n",
       "====================================================================================\n",
       "                       coef    std err          z      P>|z|      [0.025      0.975]\n",
       "------------------------------------------------------------------------------------\n",
       "oth_com_con       3.619e-06   8.73e-07      4.147      0.000    1.91e-06    5.33e-06\n",
       "tot_con          -4.665e-07   1.84e-07     -2.538      0.011   -8.27e-07   -1.06e-07\n",
       "party_IND           -4.8022      0.897     -5.356      0.000      -6.559      -3.045\n",
       "party_REP           -2.4460      0.183    -13.382      0.000      -2.804      -2.088\n",
       "status_INCUMBENT     3.6265      0.412      8.809      0.000       2.820       4.433\n",
       "status_OPEN         -0.8990      0.197     -4.569      0.000      -1.285      -0.513\n",
       "====================================================================================\n",
       "\"\"\""
      ]
     },
     "execution_count": 262,
     "metadata": {},
     "output_type": "execute_result"
    }
   ],
   "source": [
    "ind_var = reg_data_house.columns[(reg_data_house.columns != \"winner\")]\n",
    "\n",
    "logit = sm.Logit(reg_data_house['winner'], reg_data_house[ind_var])\n",
    "result = logit.fit()\n",
    "result.summary()"
   ]
  },
  {
   "cell_type": "markdown",
   "metadata": {},
   "source": [
    "The regression shows that `oth_com_con` has a significant effect on re-election chances (though the coefficient may seem low, these campaign contributions often range in the hundred thousands) Democrats are the most likely to be re-elected, Independents the least. Finally, incumbents are shown to have a significant advantage over challengers. The negative coefficient of `tot_con` seems strange -- it might be that PACs indicate support from a more valuable constituency.\n",
    "\n",
    "Previous iterations of this regression included operating expenditures and cash-on-hand at the beginning of the period, but both were found insignificant and were removed from the model without significantly altering its main results. "
   ]
  },
  {
   "cell_type": "markdown",
   "metadata": {},
   "source": [
    "This second model runs the same regression on Senate candidates."
   ]
  },
  {
   "cell_type": "code",
   "execution_count": 267,
   "metadata": {},
   "outputs": [
    {
     "name": "stdout",
     "output_type": "stream",
     "text": [
      "Warning: Maximum number of iterations has been exceeded.\n",
      "         Current function value: 0.284433\n",
      "         Iterations: 35\n"
     ]
    },
    {
     "name": "stderr",
     "output_type": "stream",
     "text": [
      "C:\\ProgramData\\Anaconda3\\lib\\site-packages\\ipykernel_launcher.py:5: DeprecationWarning: \n",
      ".ix is deprecated. Please use\n",
      ".loc for label based indexing or\n",
      ".iloc for positional indexing\n",
      "\n",
      "See the documentation here:\n",
      "http://pandas.pydata.org/pandas-docs/stable/indexing.html#ix-indexer-is-deprecated\n",
      "  \"\"\"\n",
      "C:\\ProgramData\\Anaconda3\\lib\\site-packages\\statsmodels\\base\\model.py:496: ConvergenceWarning: Maximum Likelihood optimization failed to converge. Check mle_retvals\n",
      "  \"Check mle_retvals\", ConvergenceWarning)\n"
     ]
    },
    {
     "data": {
      "text/html": [
       "<table class=\"simpletable\">\n",
       "<caption>Logit Regression Results</caption>\n",
       "<tr>\n",
       "  <th>Dep. Variable:</th>      <td>winner</td>      <th>  No. Observations:  </th>  <td>   226</td>  \n",
       "</tr>\n",
       "<tr>\n",
       "  <th>Model:</th>               <td>Logit</td>      <th>  Df Residuals:      </th>  <td>   220</td>  \n",
       "</tr>\n",
       "<tr>\n",
       "  <th>Method:</th>               <td>MLE</td>       <th>  Df Model:          </th>  <td>     5</td>  \n",
       "</tr>\n",
       "<tr>\n",
       "  <th>Date:</th>          <td>Tue, 27 Mar 2018</td> <th>  Pseudo R-squ.:     </th>  <td>0.3402</td>  \n",
       "</tr>\n",
       "<tr>\n",
       "  <th>Time:</th>              <td>12:34:48</td>     <th>  Log-Likelihood:    </th> <td> -64.282</td> \n",
       "</tr>\n",
       "<tr>\n",
       "  <th>converged:</th>           <td>False</td>      <th>  LL-Null:           </th> <td> -97.420</td> \n",
       "</tr>\n",
       "<tr>\n",
       "  <th> </th>                      <td> </td>        <th>  LLR p-value:       </th> <td>6.093e-13</td>\n",
       "</tr>\n",
       "</table>\n",
       "<table class=\"simpletable\">\n",
       "<tr>\n",
       "          <td></td>            <th>coef</th>     <th>std err</th>      <th>z</th>      <th>P>|z|</th>  <th>[0.025</th>    <th>0.975]</th>  \n",
       "</tr>\n",
       "<tr>\n",
       "  <th>tot_con</th>          <td>-8.537e-08</td> <td> 8.35e-08</td> <td>   -1.022</td> <td> 0.307</td> <td>-2.49e-07</td> <td> 7.84e-08</td>\n",
       "</tr>\n",
       "<tr>\n",
       "  <th>oth_com_con</th>      <td> 8.315e-07</td> <td> 8.77e-07</td> <td>    0.948</td> <td> 0.343</td> <td>-8.87e-07</td> <td> 2.55e-06</td>\n",
       "</tr>\n",
       "<tr>\n",
       "  <th>party_IND</th>        <td>  -22.9979</td> <td> 1.61e+04</td> <td>   -0.001</td> <td> 0.999</td> <td>-3.16e+04</td> <td> 3.15e+04</td>\n",
       "</tr>\n",
       "<tr>\n",
       "  <th>party_REP</th>        <td>   -3.4274</td> <td>    0.728</td> <td>   -4.709</td> <td> 0.000</td> <td>   -4.854</td> <td>   -2.001</td>\n",
       "</tr>\n",
       "<tr>\n",
       "  <th>status_INCUMBENT</th> <td>    4.6587</td> <td>    1.578</td> <td>    2.951</td> <td> 0.003</td> <td>    1.565</td> <td>    7.752</td>\n",
       "</tr>\n",
       "<tr>\n",
       "  <th>status_OPEN</th>      <td>   -0.8749</td> <td>    0.500</td> <td>   -1.750</td> <td> 0.080</td> <td>   -1.855</td> <td>    0.105</td>\n",
       "</tr>\n",
       "</table>"
      ],
      "text/plain": [
       "<class 'statsmodels.iolib.summary.Summary'>\n",
       "\"\"\"\n",
       "                           Logit Regression Results                           \n",
       "==============================================================================\n",
       "Dep. Variable:                 winner   No. Observations:                  226\n",
       "Model:                          Logit   Df Residuals:                      220\n",
       "Method:                           MLE   Df Model:                            5\n",
       "Date:                Tue, 27 Mar 2018   Pseudo R-squ.:                  0.3402\n",
       "Time:                        12:34:48   Log-Likelihood:                -64.282\n",
       "converged:                      False   LL-Null:                       -97.420\n",
       "                                        LLR p-value:                 6.093e-13\n",
       "====================================================================================\n",
       "                       coef    std err          z      P>|z|      [0.025      0.975]\n",
       "------------------------------------------------------------------------------------\n",
       "tot_con          -8.537e-08   8.35e-08     -1.022      0.307   -2.49e-07    7.84e-08\n",
       "oth_com_con       8.315e-07   8.77e-07      0.948      0.343   -8.87e-07    2.55e-06\n",
       "party_IND          -22.9979   1.61e+04     -0.001      0.999   -3.16e+04    3.15e+04\n",
       "party_REP           -3.4274      0.728     -4.709      0.000      -4.854      -2.001\n",
       "status_INCUMBENT     4.6587      1.578      2.951      0.003       1.565       7.752\n",
       "status_OPEN         -0.8749      0.500     -1.750      0.080      -1.855       0.105\n",
       "====================================================================================\n",
       "\n",
       "Possibly complete quasi-separation: A fraction 0.19 of observations can be\n",
       "perfectly predicted. This might indicate that there is complete\n",
       "quasi-separation. In this case some parameters will not be identified.\n",
       "\"\"\""
      ]
     },
     "execution_count": 267,
     "metadata": {},
     "output_type": "execute_result"
    }
   ],
   "source": [
    "reg_columns = [\"winner\", \"tot_con\", \"oth_com_con\"]\n",
    "reg_data_senate = senate[reg_columns]\n",
    "pol_party = pd.get_dummies(senate['party'], prefix='party')\n",
    "status = pd.get_dummies(senate['can_inc_cha_ope_sea'], prefix='status')\n",
    "reg_data_senate = reg_data_senate.join(pol_party.ix[:, 1:]).join(status.ix[:, 1:])\n",
    "ind_var = reg_data_senate.columns[(reg_data_senate.columns != \"winner\")]\n",
    "logit = sm.Logit(reg_data_senate['winner'], reg_data_senate[ind_var])\n",
    "result = logit.fit()\n",
    "result.summary()"
   ]
  },
  {
   "cell_type": "markdown",
   "metadata": {},
   "source": [
    "Total contributions, other committee contributions and being an independent are insignificant for Senate candidates, their effect is close to zero. We might want to change some of our independent variables to better fit the model."
   ]
  },
  {
   "cell_type": "markdown",
   "metadata": {},
   "source": [
    "### Findings"
   ]
  },
  {
   "cell_type": "markdown",
   "metadata": {},
   "source": [
    "- the exact *type* of contribution doesn't seem to matter as much as the overall level -- with the exception of **other committees** (e.g. PACs) for House races\n",
    "- the composition of campaign finance varies accross type of race & state\n",
    "- incumbents have a significant advantage when it comes to funding and re-election -- could be self-selection -- e.g. strong candidates avoid facing incumbents \n",
    "- *nevertheless* the size of spending (possibly spending ratio) matters\n",
    "- all else equal, Democrats are more likely to be re-elected"
   ]
  },
  {
   "cell_type": "markdown",
   "metadata": {},
   "source": [
    "### Next Steps?"
   ]
  },
  {
   "cell_type": "markdown",
   "metadata": {},
   "source": [
    "A more precise model of winning-through-campaign finance might look at the expenses of several candidates at the same time (e.g. incumbent vs main challenger or two main candidates for open races)."
   ]
  },
  {
   "cell_type": "markdown",
   "metadata": {},
   "source": [
    "A more precise model of win prediction would add information on general economic conditions, state or district characteristics (e.g. demographics, income, ...), and account for candidate-specific charactics (e.g. polls, likability, etc)."
   ]
  }
 ],
 "metadata": {
  "kernelspec": {
   "display_name": "Python 3",
   "language": "python",
   "name": "python3"
  },
  "language_info": {
   "codemirror_mode": {
    "name": "ipython",
    "version": 3
   },
   "file_extension": ".py",
   "mimetype": "text/x-python",
   "name": "python",
   "nbconvert_exporter": "python",
   "pygments_lexer": "ipython3",
   "version": "3.6.3"
  }
 },
 "nbformat": 4,
 "nbformat_minor": 2
}
