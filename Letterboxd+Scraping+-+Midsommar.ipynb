{
 "cells": [
  {
   "cell_type": "markdown",
   "metadata": {},
   "source": [
    "## Letterboxd Reviews: Midsommar"
   ]
  },
  {
   "cell_type": "code",
   "execution_count": 1,
   "metadata": {
    "collapsed": true
   },
   "outputs": [],
   "source": [
    "import requests\n",
    "from bs4 import BeautifulSoup\n",
    "import pandas as pd\n",
    "import numpy as np\n",
    "import matplotlib.pyplot as plt\n",
    "from datetime import datetime\n",
    "from matplotlib.dates import DayLocator, DateFormatter, date2num"
   ]
  },
  {
   "cell_type": "markdown",
   "metadata": {},
   "source": [
    "This is a brief exercise in webscraping. I use BeautifulSoup to go through the reviews of a newly release indie horror movie, Midsommar, on a movie reviewing/social media platform, Letterboxd. I was initially interested in seeing how positive reviews from influential users prompt their followers to watch new releases. Ideally, this will be done through some kind of network time series. In the meantime, I collect information about the users that reviewed the movie and the *date* at which this was done. Luckily, Letterboxd has a diary feature which allows users to both review and log in the date at which they watched a certain movie. I therefore first collect the information of all users which reviewed Midsommar online, then go through their online diaries to retrieve the date they watched it at and the rating."
   ]
  },
  {
   "cell_type": "code",
   "execution_count": 14,
   "metadata": {},
   "outputs": [],
   "source": [
    "user_page = [] #empty results vector\n",
    "date = []\n",
    "rating = []\n",
    "user_name = []\n",
    "\n",
    "#getting results for a specific movie\n",
    "movie_tag = \"midsommar\"\n",
    "\n",
    "url = \"https://letterboxd.com/film/\" + movie_tag + \"/ratings/\" #movie url\n",
    "res = requests.get(url) #request data\n",
    "soup = BeautifulSoup(res.text, \"lxml\") \n",
    "users = soup.select(\".-a40\")  #returns list with all users having rated movie\n",
    "\n",
    "for i in range(1, len(users)): #excluding 0 which contains the whole page\n",
    "    #link = str(\"https://letterboxd.com/\") + str(users[i]).split(\"/\")[1] + \"/\" #creates link with username\n",
    "    #book_titles[i][\"href\"]).replace(\"../../../\", \"\") \n",
    "    #user_page.append(link) #generates functional link by getting rid of ../../../\n",
    "    \n",
    "    user = str(users[i]).split(\"/\")[1]\n",
    "    user_name.append(user)\n",
    "    \n",
    "    link = str(\"https://letterboxd.com/\") + user + \"/films/diary/decade/2010s/\" #general url\n",
    "    res = requests.get(link) #request data\n",
    "    soup = BeautifulSoup(res.text, \"lxml\") \n",
    "    user_movies = soup.select(\"td\")  #select all movies from user's page\n",
    "    \n",
    "    if movie_tag in str(user_movies): #if the movie has been added to user's diary\n",
    "        user_date = str(user_movies).split(movie_tag)[0].split(\"/films/diary/for/\")[-1].replace('\"', '').split(\"/>\")[0] #date y/m/d\n",
    "        user_rating = str(user_movies).replace('\"', '').split(\"type=range value=\")[1].split(\"/>\")[0] #rating out of 10\n",
    "        \n",
    "        date.append(user_date)\n",
    "        rating.append(int(user_rating)) #makes sure ratings is numeric\n",
    "    \n",
    "    else: #otherwise write it down as missing value\n",
    "        date.append(np.nan)\n",
    "        rating.append(np.nan)"
   ]
  },
  {
   "cell_type": "markdown",
   "metadata": {},
   "source": [
    "I quickly check that the web scraping was successful:"
   ]
  },
  {
   "cell_type": "code",
   "execution_count": 15,
   "metadata": {},
   "outputs": [
    {
     "data": {
      "text/plain": [
       "['2019/07/13', nan, nan, '2019/07/13', nan]"
      ]
     },
     "execution_count": 15,
     "metadata": {},
     "output_type": "execute_result"
    }
   ],
   "source": [
    "date[:5]"
   ]
  },
  {
   "cell_type": "code",
   "execution_count": 16,
   "metadata": {},
   "outputs": [
    {
     "data": {
      "text/plain": [
       "[10, nan, nan, 10, nan]"
      ]
     },
     "execution_count": 16,
     "metadata": {},
     "output_type": "execute_result"
    }
   ],
   "source": [
    "rating[:5]"
   ]
  },
  {
   "cell_type": "markdown",
   "metadata": {},
   "source": [
    "After checking that the scraping went well, I create a dataframe containing all of the information I just gathered:"
   ]
  },
  {
   "cell_type": "code",
   "execution_count": 17,
   "metadata": {},
   "outputs": [],
   "source": [
    "movie_reviews = pd.DataFrame({\"date\" : date})\n",
    "movie_reviews[\"rating\"] = rating\n",
    "movie_reviews[\"user\"] = user_name"
   ]
  },
  {
   "cell_type": "code",
   "execution_count": 18,
   "metadata": {},
   "outputs": [
    {
     "data": {
      "text/html": [
       "<div>\n",
       "<style>\n",
       "    .dataframe thead tr:only-child th {\n",
       "        text-align: right;\n",
       "    }\n",
       "\n",
       "    .dataframe thead th {\n",
       "        text-align: left;\n",
       "    }\n",
       "\n",
       "    .dataframe tbody tr th {\n",
       "        vertical-align: top;\n",
       "    }\n",
       "</style>\n",
       "<table border=\"1\" class=\"dataframe\">\n",
       "  <thead>\n",
       "    <tr style=\"text-align: right;\">\n",
       "      <th></th>\n",
       "      <th>date</th>\n",
       "      <th>rating</th>\n",
       "      <th>user</th>\n",
       "    </tr>\n",
       "  </thead>\n",
       "  <tbody>\n",
       "    <tr>\n",
       "      <th>0</th>\n",
       "      <td>2019/07/13</td>\n",
       "      <td>10.0</td>\n",
       "      <td>ladylardman</td>\n",
       "    </tr>\n",
       "    <tr>\n",
       "      <th>1</th>\n",
       "      <td>NaN</td>\n",
       "      <td>NaN</td>\n",
       "      <td>sarahstarlight</td>\n",
       "    </tr>\n",
       "    <tr>\n",
       "      <th>2</th>\n",
       "      <td>NaN</td>\n",
       "      <td>NaN</td>\n",
       "      <td>moviematt1987</td>\n",
       "    </tr>\n",
       "    <tr>\n",
       "      <th>3</th>\n",
       "      <td>2019/07/13</td>\n",
       "      <td>10.0</td>\n",
       "      <td>magic_kitten</td>\n",
       "    </tr>\n",
       "    <tr>\n",
       "      <th>4</th>\n",
       "      <td>NaN</td>\n",
       "      <td>NaN</td>\n",
       "      <td>patrickcarrico</td>\n",
       "    </tr>\n",
       "  </tbody>\n",
       "</table>\n",
       "</div>"
      ],
      "text/plain": [
       "         date  rating            user\n",
       "0  2019/07/13    10.0     ladylardman\n",
       "1         NaN     NaN  sarahstarlight\n",
       "2         NaN     NaN   moviematt1987\n",
       "3  2019/07/13    10.0    magic_kitten\n",
       "4         NaN     NaN  patrickcarrico"
      ]
     },
     "execution_count": 18,
     "metadata": {},
     "output_type": "execute_result"
    }
   ],
   "source": [
    "movie_reviews.head()"
   ]
  },
  {
   "cell_type": "markdown",
   "metadata": {},
   "source": [
    "The problem with the diary method is that not all users use it: as a result, the dataframe contains many missing values. "
   ]
  },
  {
   "cell_type": "markdown",
   "metadata": {},
   "source": [
    "I deal with this problem by creating a version of the dataframe which drops all missing values: "
   ]
  },
  {
   "cell_type": "code",
   "execution_count": null,
   "metadata": {
    "collapsed": true
   },
   "outputs": [],
   "source": [
    "movie_reviews_short = movie_reviews.dropna().reset_index()\n",
    "movie_reviews_short.head()"
   ]
  },
  {
   "cell_type": "code",
   "execution_count": 92,
   "metadata": {},
   "outputs": [
    {
     "data": {
      "text/plain": [
       "297"
      ]
     },
     "execution_count": 92,
     "metadata": {},
     "output_type": "execute_result"
    }
   ],
   "source": [
    "len(movie_reviews_short)"
   ]
  },
  {
   "cell_type": "code",
   "execution_count": 91,
   "metadata": {},
   "outputs": [
    {
     "data": {
      "text/plain": [
       "0.594"
      ]
     },
     "execution_count": 91,
     "metadata": {},
     "output_type": "execute_result"
    }
   ],
   "source": [
    "len(movie_reviews_short) / len(movie_reviews)"
   ]
  },
  {
   "cell_type": "markdown",
   "metadata": {},
   "source": [
    "This leaves me with 60% or so of users and 300 or so data points."
   ]
  },
  {
   "cell_type": "markdown",
   "metadata": {},
   "source": [
    "The next problem I need to deal with is that my dates are, for now, just strings. Thankfully this can easily be settled using one of pandas' datetime method. Beforehand, I remove a review which was scraped improperly (does not contain a date) and must be removed:"
   ]
  },
  {
   "cell_type": "code",
   "execution_count": 28,
   "metadata": {},
   "outputs": [
    {
     "name": "stdout",
     "output_type": "stream",
     "text": [
      "370\n"
     ]
    }
   ],
   "source": [
    "for i in range(0, len(movie_reviews_short)):\n",
    "    if \"2019\" not in movie_reviews_short['date'][i]:\n",
    "        print(movie_reviews_short[\"index\"][i])"
   ]
  },
  {
   "cell_type": "code",
   "execution_count": 33,
   "metadata": {},
   "outputs": [],
   "source": [
    "movie_reviews_short = movie_reviews_short[movie_reviews_short[\"index\"] != 370]"
   ]
  },
  {
   "cell_type": "code",
   "execution_count": 35,
   "metadata": {},
   "outputs": [],
   "source": [
    "movie_reviews_short[\"date\"] = pd.to_datetime(movie_reviews_short['date'])"
   ]
  },
  {
   "cell_type": "markdown",
   "metadata": {},
   "source": [
    "I can move on to plotting. For this type of data, grouping reviews by date is most effective."
   ]
  },
  {
   "cell_type": "code",
   "execution_count": 82,
   "metadata": {},
   "outputs": [
    {
     "data": {
      "image/png": "[encoded data removed]",
      "text/plain": [
       "<matplotlib.figure.Figure at 0x23641ed75c0>"
      ]
     },
     "metadata": {},
     "output_type": "display_data"
    }
   ],
   "source": [
    "fig, ax = plt.subplots()\n",
    "\n",
    "ax.plot(movie_reviews_short[movie_reviews_short[\"date\"] > \"2019/07/01\"].groupby('date')['rating'].median().index, \n",
    "           movie_reviews_short[movie_reviews_short[\"date\"] > \"2019/07/01\"].groupby('date')['rating'].median(), alpha = 0.55) \n",
    "#uses a groupby method to get median review per date\n",
    "\n",
    "ax.plot(movie_reviews_short[movie_reviews_short[\"date\"] > \"2019/07/01\"].groupby('date')['rating'].mean().index, \n",
    "           movie_reviews_short[movie_reviews_short[\"date\"] > \"2019/07/01\"].groupby('date')['rating'].mean(), alpha = 0.55,\n",
    "          color = \"red\") \n",
    "\n",
    "plt.axvline(\"2019/07/03\", color='black', linestyle='dashed', linewidth=1.5) #release date\n",
    "\n",
    "#axis labels\n",
    "ax.set_ylabel(\"Rating\")\n",
    "ax.set_title(\"Daily Average & Median Ratings\")\n",
    "ax.set_ylim([0, 10.5])\n",
    "ax.set_xlim([\"2019/07/01\", \"2019/07/15\"])\n",
    "\n",
    "#adding legend\n",
    "plt.legend([\"Mean\", \"Median\"], bbox_to_anchor=(1.05, 1), loc=2, borderaxespad=0.)\n",
    "\n",
    "#adding annotation\n",
    "plt.annotate('U.S. Release Date', xy=(\"2019/07/03\", 5.5), xytext=(\"2019/07/05\", 2.55), fontsize=10,\n",
    "arrowprops=dict(arrowstyle= \"-|>\", connectionstyle= \"angle3,angleA=5,angleB=110\", facecolor='black')\n",
    ")\n",
    "\n",
    "#date formatting\n",
    "fig.autofmt_xdate() #rotating axis for legibility\n",
    "ax.xaxis.set_major_formatter(DateFormatter('%m/%d')) #displaying months only for legibility\n",
    "\n",
    "plt.show(); "
   ]
  },
  {
   "cell_type": "code",
   "execution_count": 88,
   "metadata": {},
   "outputs": [
    {
     "data": {
      "image/png": "[encoded data removed]",
      "text/plain": [
       "<matplotlib.figure.Figure at 0x236412927f0>"
      ]
     },
     "metadata": {},
     "output_type": "display_data"
    }
   ],
   "source": [
    "fig, ax = plt.subplots()\n",
    "ax.plot(movie_reviews_short[movie_reviews_short[\"date\"] > \"2019/07/01\"].groupby('date')['rating'].count().index, \n",
    "           movie_reviews_short[movie_reviews_short[\"date\"] > \"2019/07/01\"].groupby('date')['rating'].count(), alpha = 0.55) \n",
    "\n",
    "plt.axvline(\"2019/07/03\", color='black', linestyle='dashed', linewidth=1.5) #release date\n",
    "\n",
    "#axis labels\n",
    "ax.set_ylabel(\"Number of Reviews\")\n",
    "ax.set_title(\"Number of Reviews Over Time\")\n",
    "\n",
    "#adding annotation\n",
    "plt.annotate('U.S. Release Date', xy=(\"2019/07/03\", 5.5), xytext=(\"2019/07/03\", 60), fontsize=10,\n",
    "arrowprops=dict(arrowstyle= \"-|>\", connectionstyle= \"angle3,angleA=5,angleB=110\", facecolor='black')\n",
    ")\n",
    "\n",
    "fig.autofmt_xdate() #rotating axis for legibility\n",
    "ax.xaxis.set_major_formatter(DateFormatter('%Y/%d')) #displaying months only for legibility\n",
    "plt.show(); "
   ]
  },
  {
   "cell_type": "code",
   "execution_count": 50,
   "metadata": {},
   "outputs": [
    {
     "data": {
      "image/png": "[encoded data removed]",
      "text/plain": [
       "<matplotlib.figure.Figure at 0x23640068f60>"
      ]
     },
     "metadata": {},
     "output_type": "display_data"
    }
   ],
   "source": [
    "fig, ax = plt.subplots()\n",
    "\n",
    "ax.plot(movie_reviews_short[movie_reviews_short[\"date\"] > \"2019/07/01\"].groupby('date')['rating'].mean().index, \n",
    "           movie_reviews_short[movie_reviews_short[\"date\"] > \"2019/07/01\"].groupby('date')['rating'].mean(), alpha = 0.55,\n",
    "          color = \"red\") \n",
    "\n",
    "ax.plot(movie_reviews_short[movie_reviews_short[\"date\"] > \"2019/07/01\"].groupby('date')['rating'].mean().index, \n",
    "           movie_reviews_short[movie_reviews_short[\"date\"] > \"2019/07/01\"].groupby('date')['rating'].mean().expanding().mean(), \n",
    "        alpha = 0.55, color = \"purple\")\n",
    "\n",
    "#axis labels\n",
    "ax.set_ylabel(\"Rating\")\n",
    "ax.set_title(\"Incoming & Cumulative Mean Ratings Over Time\")\n",
    "ax.set_ylim([0, 10.5])\n",
    "\n",
    "#adding legend\n",
    "plt.legend([\"Mean\", \"Cum. Mean\"], bbox_to_anchor=(1.05, 1), loc=2, borderaxespad=0.)\n",
    "\n",
    "#date formatting\n",
    "fig.autofmt_xdate() #rotating axis for legibility\n",
    "ax.xaxis.set_major_formatter(DateFormatter('%m/%d')) #displaying months only for legibility\n",
    "\n",
    "plt.show(); "
   ]
  },
  {
   "cell_type": "markdown",
   "metadata": {
    "collapsed": true
   },
   "source": [
    "### Next Steps\n",
    "In the near future, I'll start collecting the number of followers of each one of these users and the number of people they follow. Then I will map their network and hopefully be able to show how scores/viewings \"spread\" across users."
   ]
  }
 ],
 "metadata": {
  "kernelspec": {
   "display_name": "Python 3",
   "language": "python",
   "name": "python3"
  },
  "language_info": {
   "codemirror_mode": {
    "name": "ipython",
    "version": 3
   },
   "file_extension": ".py",
   "mimetype": "text/x-python",
   "name": "python",
   "nbconvert_exporter": "python",
   "pygments_lexer": "ipython3",
   "version": "3.6.3"
  }
 },
 "nbformat": 4,
 "nbformat_minor": 2
}
