{
 "cells": [
  {
   "cell_type": "markdown",
   "metadata": {},
   "source": [
    "# NCAA March Madness Predictions"
   ]
  },
  {
   "cell_type": "code",
   "execution_count": 1,
   "metadata": {
    "collapsed": true
   },
   "outputs": [],
   "source": [
    "import pandas as pd\n",
    "import matplotlib.pyplot as plt\n",
    "from pandas_datareader import data\n",
    "import numpy as np\n",
    "from statistics import mean\n",
    "\n",
    "from sklearn.linear_model import LogisticRegression\n",
    "from sklearn.model_selection import train_test_split\n",
    "from sklearn.neighbors import KNeighborsClassifier\n",
    "from sklearn.model_selection import cross_val_score\n",
    "from sklearn.model_selection import StratifiedKFold\n",
    "from sklearn.model_selection import GridSearchCV\n",
    "\n",
    "%matplotlib inline"
   ]
  },
  {
   "cell_type": "markdown",
   "metadata": {},
   "source": [
    "The dataset shown below is a mix of ESPN and Ken Pom's basketball statistics. Quite a bit of work has already been done to clean and merge the data, as well as find the best predictors. Using this data, I will try to identify the optimal statistical method to predict the outcome of future games.  "
   ]
  },
  {
   "cell_type": "code",
   "execution_count": 2,
   "metadata": {
    "collapsed": true
   },
   "outputs": [],
   "source": [
    "NCAA = pd.read_csv(r\"C:/Users/ia767/Documents/NCAA_big.csv\")"
   ]
  },
  {
   "cell_type": "code",
   "execution_count": 3,
   "metadata": {},
   "outputs": [
    {
     "data": {
      "text/html": [
       "<div>\n",
       "<style>\n",
       "    .dataframe thead tr:only-child th {\n",
       "        text-align: right;\n",
       "    }\n",
       "\n",
       "    .dataframe thead th {\n",
       "        text-align: left;\n",
       "    }\n",
       "\n",
       "    .dataframe tbody tr th {\n",
       "        vertical-align: top;\n",
       "    }\n",
       "</style>\n",
       "<table border=\"1\" class=\"dataframe\">\n",
       "  <thead>\n",
       "    <tr style=\"text-align: right;\">\n",
       "      <th></th>\n",
       "      <th>Unnamed: 0</th>\n",
       "      <th>Team_1</th>\n",
       "      <th>Team_2</th>\n",
       "      <th>Score_Gap</th>\n",
       "      <th>Win</th>\n",
       "      <th>RK_1</th>\n",
       "      <th>BPI_1</th>\n",
       "      <th>BPI_OFF_1</th>\n",
       "      <th>BPI_DEF_1</th>\n",
       "      <th>Wins_1</th>\n",
       "      <th>...</th>\n",
       "      <th>Luck_2</th>\n",
       "      <th>X13_2</th>\n",
       "      <th>AdjEM_1_2</th>\n",
       "      <th>X15_2</th>\n",
       "      <th>OppO_2</th>\n",
       "      <th>X17_2</th>\n",
       "      <th>OppD_2</th>\n",
       "      <th>X19_2</th>\n",
       "      <th>AdjEM_2_2_2</th>\n",
       "      <th>X21_2</th>\n",
       "    </tr>\n",
       "  </thead>\n",
       "  <tbody>\n",
       "    <tr>\n",
       "      <th>0</th>\n",
       "      <td>1</td>\n",
       "      <td>Virginia</td>\n",
       "      <td>UMBC</td>\n",
       "      <td>-20</td>\n",
       "      <td>0</td>\n",
       "      <td>2</td>\n",
       "      <td>20.2</td>\n",
       "      <td>7.0</td>\n",
       "      <td>13.2</td>\n",
       "      <td>31</td>\n",
       "      <td>...</td>\n",
       "      <td>0.125</td>\n",
       "      <td>2</td>\n",
       "      <td>-4.38</td>\n",
       "      <td>269</td>\n",
       "      <td>102.7</td>\n",
       "      <td>267</td>\n",
       "      <td>107.1</td>\n",
       "      <td>259</td>\n",
       "      <td>-3.55</td>\n",
       "      <td>277</td>\n",
       "    </tr>\n",
       "    <tr>\n",
       "      <th>1</th>\n",
       "      <td>2</td>\n",
       "      <td>Creighton</td>\n",
       "      <td>Kansas State</td>\n",
       "      <td>-10</td>\n",
       "      <td>0</td>\n",
       "      <td>24</td>\n",
       "      <td>12.2</td>\n",
       "      <td>8.1</td>\n",
       "      <td>4.1</td>\n",
       "      <td>21</td>\n",
       "      <td>...</td>\n",
       "      <td>0.071</td>\n",
       "      <td>31</td>\n",
       "      <td>9.39</td>\n",
       "      <td>34</td>\n",
       "      <td>111.0</td>\n",
       "      <td>14</td>\n",
       "      <td>101.6</td>\n",
       "      <td>59</td>\n",
       "      <td>-6.50</td>\n",
       "      <td>324</td>\n",
       "    </tr>\n",
       "    <tr>\n",
       "      <th>2</th>\n",
       "      <td>3</td>\n",
       "      <td>Kentucky</td>\n",
       "      <td>Davidson</td>\n",
       "      <td>5</td>\n",
       "      <td>1</td>\n",
       "      <td>19</td>\n",
       "      <td>12.9</td>\n",
       "      <td>7.0</td>\n",
       "      <td>5.9</td>\n",
       "      <td>26</td>\n",
       "      <td>...</td>\n",
       "      <td>-0.063</td>\n",
       "      <td>318</td>\n",
       "      <td>2.11</td>\n",
       "      <td>104</td>\n",
       "      <td>105.6</td>\n",
       "      <td>116</td>\n",
       "      <td>103.5</td>\n",
       "      <td>91</td>\n",
       "      <td>1.33</td>\n",
       "      <td>121</td>\n",
       "    </tr>\n",
       "    <tr>\n",
       "      <th>3</th>\n",
       "      <td>4</td>\n",
       "      <td>Arizona</td>\n",
       "      <td>Buffalo</td>\n",
       "      <td>-21</td>\n",
       "      <td>0</td>\n",
       "      <td>26</td>\n",
       "      <td>11.9</td>\n",
       "      <td>9.4</td>\n",
       "      <td>2.5</td>\n",
       "      <td>27</td>\n",
       "      <td>...</td>\n",
       "      <td>0.006</td>\n",
       "      <td>158</td>\n",
       "      <td>-0.06</td>\n",
       "      <td>140</td>\n",
       "      <td>105.1</td>\n",
       "      <td>145</td>\n",
       "      <td>105.2</td>\n",
       "      <td>147</td>\n",
       "      <td>3.87</td>\n",
       "      <td>62</td>\n",
       "    </tr>\n",
       "    <tr>\n",
       "      <th>4</th>\n",
       "      <td>5</td>\n",
       "      <td>UMBC</td>\n",
       "      <td>Kansas State</td>\n",
       "      <td>-7</td>\n",
       "      <td>0</td>\n",
       "      <td>156</td>\n",
       "      <td>0.7</td>\n",
       "      <td>-0.2</td>\n",
       "      <td>0.9</td>\n",
       "      <td>25</td>\n",
       "      <td>...</td>\n",
       "      <td>0.071</td>\n",
       "      <td>31</td>\n",
       "      <td>9.39</td>\n",
       "      <td>34</td>\n",
       "      <td>111.0</td>\n",
       "      <td>14</td>\n",
       "      <td>101.6</td>\n",
       "      <td>59</td>\n",
       "      <td>-6.50</td>\n",
       "      <td>324</td>\n",
       "    </tr>\n",
       "  </tbody>\n",
       "</table>\n",
       "<p>5 rows × 61 columns</p>\n",
       "</div>"
      ],
      "text/plain": [
       "   Unnamed: 0     Team_1        Team_2  Score_Gap  Win  RK_1  BPI_1  \\\n",
       "0           1   Virginia          UMBC        -20    0     2   20.2   \n",
       "1           2  Creighton  Kansas State        -10    0    24   12.2   \n",
       "2           3   Kentucky      Davidson          5    1    19   12.9   \n",
       "3           4    Arizona       Buffalo        -21    0    26   11.9   \n",
       "4           5       UMBC  Kansas State         -7    0   156    0.7   \n",
       "\n",
       "   BPI_OFF_1  BPI_DEF_1  Wins_1  ...    Luck_2  X13_2  AdjEM_1_2  X15_2  \\\n",
       "0        7.0       13.2      31  ...     0.125      2      -4.38    269   \n",
       "1        8.1        4.1      21  ...     0.071     31       9.39     34   \n",
       "2        7.0        5.9      26  ...    -0.063    318       2.11    104   \n",
       "3        9.4        2.5      27  ...     0.006    158      -0.06    140   \n",
       "4       -0.2        0.9      25  ...     0.071     31       9.39     34   \n",
       "\n",
       "   OppO_2  X17_2  OppD_2  X19_2  AdjEM_2_2_2  X21_2  \n",
       "0   102.7    267   107.1    259        -3.55    277  \n",
       "1   111.0     14   101.6     59        -6.50    324  \n",
       "2   105.6    116   103.5     91         1.33    121  \n",
       "3   105.1    145   105.2    147         3.87     62  \n",
       "4   111.0     14   101.6     59        -6.50    324  \n",
       "\n",
       "[5 rows x 61 columns]"
      ]
     },
     "execution_count": 3,
     "metadata": {},
     "output_type": "execute_result"
    }
   ],
   "source": [
    "NCAA.head()"
   ]
  },
  {
   "cell_type": "markdown",
   "metadata": {},
   "source": [
    "The two variables below were selected elsewhere using forward subset selection."
   ]
  },
  {
   "cell_type": "code",
   "execution_count": 4,
   "metadata": {
    "collapsed": true
   },
   "outputs": [],
   "source": [
    "y = NCAA['Win']\n",
    "X = NCAA[[\"BPI_DEF_1\", \"Wins_2\"]]"
   ]
  },
  {
   "cell_type": "code",
   "execution_count": 5,
   "metadata": {},
   "outputs": [
    {
     "data": {
      "image/png": "[encoded data removed]",
      "text/plain": [
       "<matplotlib.figure.Figure at 0x25c6912f7f0>"
      ]
     },
     "metadata": {},
     "output_type": "display_data"
    }
   ],
   "source": [
    "fig, ax = plt.subplots(1, 2, figsize = (12, 6)) \n",
    "ax[0].scatter(NCAA['Score_Gap'], NCAA[\"BPI_DEF_1\"], color = \"#ea5f94\", alpha = 0.75) \n",
    "ax[1].scatter(NCAA['Score_Gap'], NCAA[\"Wins_2\"], color = \"#ea5f94\", alpha = 0.75) \n",
    "ax[0].set_xlabel(\"Score Gap\")\n",
    "ax[0].set_ylabel(\"Team's Defense Rating\")\n",
    "ax[1].set_xlabel(\"Score Gap\")\n",
    "ax[1].set_ylabel(\"Opponent's Win Record\")\n",
    "plt.show()"
   ]
  },
  {
   "cell_type": "markdown",
   "metadata": {},
   "source": [
    "## Model Selection"
   ]
  },
  {
   "cell_type": "markdown",
   "metadata": {},
   "source": [
    "The first model I run is Logistic Regression."
   ]
  },
  {
   "cell_type": "code",
   "execution_count": 6,
   "metadata": {},
   "outputs": [
    {
     "name": "stdout",
     "output_type": "stream",
     "text": [
      "Test set score: 0.73\n",
      "CV Test Score: 0.72\n"
     ]
    }
   ],
   "source": [
    "logreg = LogisticRegression().fit(X, y) #using default C\n",
    "print(\"Test set score: {:.2f}\".format(logreg.score(X, y)))\n",
    "print(\"CV Test Score: {:.2f}\".format( np.mean(cross_val_score(logreg, X, y, cv=10))) )"
   ]
  },
  {
   "cell_type": "code",
   "execution_count": 7,
   "metadata": {
    "collapsed": true
   },
   "outputs": [],
   "source": [
    "from sklearn import preprocessing"
   ]
  },
  {
   "cell_type": "code",
   "execution_count": 8,
   "metadata": {
    "collapsed": true
   },
   "outputs": [],
   "source": [
    "scaler = preprocessing.StandardScaler().fit(X)\n",
    "X_scaled = scaler.transform(X)"
   ]
  },
  {
   "cell_type": "code",
   "execution_count": 9,
   "metadata": {},
   "outputs": [
    {
     "name": "stdout",
     "output_type": "stream",
     "text": [
      "Test set score: 0.70\n",
      "CV Test Score: 0.71\n"
     ]
    }
   ],
   "source": [
    "logreg_scaled = LogisticRegression().fit(X_scaled, y) #using default C\n",
    "print(\"Test set score: {:.2f}\".format(logreg_scaled.score(X_scaled, y)))\n",
    "print(\"CV Test Score: {:.2f}\".format( np.mean(cross_val_score(logreg_scaled, X_scaled, y, cv=10))) )"
   ]
  },
  {
   "cell_type": "code",
   "execution_count": 10,
   "metadata": {},
   "outputs": [
    {
     "name": "stdout",
     "output_type": "stream",
     "text": [
      "Test set score: 0.75\n",
      "CV Test Score: 0.72\n"
     ]
    }
   ],
   "source": [
    "param_grid = {'C': np.arange(0.1, 100, 5)} #goes from >0 to 100 (since 100 was baseline)\n",
    "\n",
    "grid = GridSearchCV(LogisticRegression(), param_grid=param_grid, cv=10)\n",
    "\n",
    "grid.fit(X, y) #finding best C\n",
    "\n",
    "best_C = grid.best_params_[\"C\"] #storing best C\n",
    "\n",
    "logreg_bestC = LogisticRegression(C = best_C).fit(X, y) #using optimal C\n",
    "\n",
    "print(\"Test set score: {:.2f}\".format(logreg_bestC.score(X, y)))\n",
    "print(\"CV Test Score: {:.2f}\".format( np.mean(cross_val_score(logreg_bestC, X, y, cv=10))) )"
   ]
  },
  {
   "cell_type": "markdown",
   "metadata": {},
   "source": [
    "The base logit model has as good a CV test score as any of its 'optimized' iterations."
   ]
  },
  {
   "cell_type": "markdown",
   "metadata": {},
   "source": [
    "The next model I try is K-Nearest Neighbors, using grid search to find the optimal value of K."
   ]
  },
  {
   "cell_type": "code",
   "execution_count": 11,
   "metadata": {},
   "outputs": [
    {
     "name": "stdout",
     "output_type": "stream",
     "text": [
      "best mean cross-validation score: 0.768\n",
      "best parameters: {'n_neighbors': 7}\n",
      "Test set score: 0.857\n",
      "CV Test Score: 0.77\n"
     ]
    }
   ],
   "source": [
    "param_grid = {'n_neighbors': np.arange(1, 30, 2)}\n",
    "grid = GridSearchCV(KNeighborsClassifier(), param_grid=param_grid, cv=10)\n",
    "grid.fit(X, y)\n",
    "\n",
    "best_k = grid.best_params_[\"n_neighbors\"] #storing best K\n",
    "\n",
    "knn = KNeighborsClassifier(n_neighbors = best_k).fit(X, y)\n",
    "\n",
    "print(\"best mean cross-validation score: {:.3f}\".format(grid.best_score_))\n",
    "print(\"best parameters: {}\".format(grid.best_params_))\n",
    "print(\"Test set score: {:.3f}\".format(grid.score(X, y)))\n",
    "print(\"CV Test Score: {:.2f}\".format( np.mean(cross_val_score(knn, X, y, cv=10))) )"
   ]
  },
  {
   "cell_type": "markdown",
   "metadata": {},
   "source": [
    "The optimized KNN model improves on the Logit's test score by 5%."
   ]
  },
  {
   "cell_type": "markdown",
   "metadata": {},
   "source": [
    "I now turn to tree models, starting with a simple Decision Tree Classifier."
   ]
  },
  {
   "cell_type": "code",
   "execution_count": 12,
   "metadata": {},
   "outputs": [
    {
     "name": "stdout",
     "output_type": "stream",
     "text": [
      "Test set score: 1.000\n",
      "CV Test Score: 0.69\n"
     ]
    }
   ],
   "source": [
    "from sklearn.tree import DecisionTreeClassifier\n",
    "\n",
    "tree_basic = DecisionTreeClassifier().fit(X, y)\n",
    "\n",
    "print(\"Test set score: {:.3f}\".format(tree_basic.score(X, y)))\n",
    "print(\"CV Test Score: {:.2f}\".format(np.mean(cross_val_score(tree_basic, X, y, cv=10))) )"
   ]
  },
  {
   "cell_type": "code",
   "execution_count": 13,
   "metadata": {},
   "outputs": [
    {
     "name": "stdout",
     "output_type": "stream",
     "text": [
      "Test set score: 1.000\n",
      "CV Test Score: 0.75\n"
     ]
    }
   ],
   "source": [
    "from sklearn.ensemble import RandomForestClassifier\n",
    "\n",
    "tree_rfc = RandomForestClassifier(n_estimators=200).fit(X, y)\n",
    "\n",
    "print(\"Test set score: {:.3f}\".format(tree_rfc.score(X, y)))\n",
    "print(\"CV Test Score: {:.2f}\".format(np.mean(cross_val_score(tree_rfc, X, y, cv=10))) )"
   ]
  },
  {
   "cell_type": "code",
   "execution_count": 14,
   "metadata": {},
   "outputs": [
    {
     "name": "stdout",
     "output_type": "stream",
     "text": [
      "Test set score: 1.000\n",
      "CV Test Score: 0.75\n"
     ]
    }
   ],
   "source": [
    "from sklearn.ensemble import BaggingClassifier\n",
    "\n",
    "tree = DecisionTreeClassifier() #Need to instantiate a model type for bagging first\n",
    "tree_bag = BaggingClassifier(tree, n_estimators=100, \n",
    "                        random_state=1).fit(X, y)\n",
    "\n",
    "print(\"Test set score: {:.3f}\".format(tree_bag.score(X, y)))\n",
    "print(\"CV Test Score: {:.2f}\".format(np.mean(cross_val_score(tree_bag, X, y, cv=10))) )"
   ]
  },
  {
   "cell_type": "markdown",
   "metadata": {},
   "source": [
    "Neither of these tree models improves on the KNN's score. "
   ]
  },
  {
   "cell_type": "markdown",
   "metadata": {},
   "source": [
    "I do take advantage of the tree models to look at the contribution of my independent variables."
   ]
  },
  {
   "cell_type": "code",
   "execution_count": 15,
   "metadata": {},
   "outputs": [
    {
     "name": "stdout",
     "output_type": "stream",
     "text": [
      "[ 0.53014213  0.46985787]\n"
     ]
    },
    {
     "data": {
      "text/plain": [
       "Index(['BPI_DEF_1', 'Wins_2'], dtype='object')"
      ]
     },
     "execution_count": 15,
     "metadata": {},
     "output_type": "execute_result"
    }
   ],
   "source": [
    "print(tree_rfc.feature_importances_) \n",
    "X.columns"
   ]
  },
  {
   "cell_type": "markdown",
   "metadata": {},
   "source": [
    "They seem to contribute about equally to the model's predictive power."
   ]
  },
  {
   "cell_type": "markdown",
   "metadata": {},
   "source": [
    "The final model I run is a Support Vector Machine. I first run a linear version, tuning its parameters, then a non-linear SVM. The parameter tuning of the non-linear SVM is somewhat limited because the code always runs very slowly."
   ]
  },
  {
   "cell_type": "code",
   "execution_count": 16,
   "metadata": {},
   "outputs": [
    {
     "name": "stdout",
     "output_type": "stream",
     "text": [
      "best mean cross-validation score: 0.750\n",
      "best parameters: {'C': 1}\n",
      "Test set score: 0.750\n",
      "CV Test Score: 0.74\n"
     ]
    }
   ],
   "source": [
    "from sklearn.svm import SVC \n",
    "\n",
    "param_grid = {'C': np.arange(1, 600, 20)}\n",
    "grid = GridSearchCV(SVC(kernel = \"linear\"), param_grid=param_grid, cv=10)\n",
    "grid.fit(X, y)\n",
    "\n",
    "best_C = grid.best_params_[\"C\"] #storing best C\n",
    "\n",
    "svc_linear = SVC(kernel = \"linear\", C = best_C).fit(X, y)\n",
    "\n",
    "print(\"best mean cross-validation score: {:.3f}\".format(grid.best_score_))\n",
    "print(\"best parameters: {}\".format(grid.best_params_))\n",
    "print(\"Test set score: {:.3f}\".format(grid.score(X, y)))\n",
    "print(\"CV Test Score: {:.2f}\".format( np.mean(cross_val_score(svc_linear, X, y, cv=10))) )"
   ]
  },
  {
   "cell_type": "code",
   "execution_count": 17,
   "metadata": {},
   "outputs": [
    {
     "name": "stdout",
     "output_type": "stream",
     "text": [
      "best mean cross-validation score: 0.821\n",
      "best parameters: {'C': 141, 'gamma': 0.015}\n",
      "Test set score: 0.893\n",
      "CV Test Score: 0.76\n"
     ]
    }
   ],
   "source": [
    "param_grid = {'C': np.arange(1, 600, 10), \n",
    "             'gamma': [0.0001, 0.0005, 0.001, 0.005, 0.01, 0.015, 0.5]} #manual bc otherwise very slow\n",
    "grid = GridSearchCV(SVC(kernel = \"rbf\", gamma = 0.001), param_grid=param_grid, cv=10)\n",
    "grid.fit(X, y)\n",
    "\n",
    "best_C = grid.best_params_[\"C\"]\n",
    "\n",
    "svc = SVC(kernel = \"rbf\", C = best_C, gamma = 0.001).fit(X, y)\n",
    "\n",
    "print(\"best mean cross-validation score: {:.3f}\".format(grid.best_score_))\n",
    "print(\"best parameters: {}\".format(grid.best_params_))\n",
    "print(\"Test set score: {:.3f}\".format(grid.score(X, y)))\n",
    "print(\"CV Test Score: {:.2f}\".format( np.mean(cross_val_score(svc, X, y, cv=10))) )"
   ]
  },
  {
   "cell_type": "markdown",
   "metadata": {},
   "source": [
    "The problem with this approach is that the GridSearch picks the best **Test** set score. Playing around with values manually actually yields better results."
   ]
  },
  {
   "cell_type": "code",
   "execution_count": 18,
   "metadata": {},
   "outputs": [
    {
     "name": "stdout",
     "output_type": "stream",
     "text": [
      "Test set score: 0.875\n",
      "CV Test Score: 0.82\n"
     ]
    }
   ],
   "source": [
    "svc = SVC(kernel = \"rbf\", C = 600, gamma = 0.01).fit(X, y)\n",
    "\n",
    "print(\"Test set score: {:.3f}\".format(svc.score(X, y)))\n",
    "print(\"CV Test Score: {:.2f}\".format( np.mean(cross_val_score(svc, X, y, cv=10))) )"
   ]
  },
  {
   "cell_type": "markdown",
   "metadata": {},
   "source": [
    "The code below optimizes the SVC based on test score instead:"
   ]
  },
  {
   "cell_type": "code",
   "execution_count": 19,
   "metadata": {},
   "outputs": [
    {
     "name": "stdout",
     "output_type": "stream",
     "text": [
      "Optimal C: 291\n",
      "Best CV Test Score: 0.82\n"
     ]
    }
   ],
   "source": [
    "scores = []\n",
    "\n",
    "for i in np.arange(1, 600, 10): \n",
    "    model = SVC(kernel = \"rbf\", C = i, gamma = 0.01).fit(X, y)\n",
    "    cv_score = np.mean(cross_val_score(model, X, y, cv=10))\n",
    "    scores.append(cv_score)\n",
    "    \n",
    "scores.index(max(scores)) #finding position of max\n",
    "print(\"Optimal C: {}\".format(np.arange(1, 600, 10)[scores.index(max(scores))])) #finding optimal value of C\n",
    "print(\"Best CV Test Score: {}\".format(round(max(scores), 2))) #finding best score"
   ]
  },
  {
   "cell_type": "markdown",
   "metadata": {},
   "source": [
    "The optimized SVC improves on our previous best test score by 5%. It is therefore the model I keep for prediction purposes."
   ]
  },
  {
   "cell_type": "markdown",
   "metadata": {},
   "source": [
    "### Prediction "
   ]
  },
  {
   "cell_type": "markdown",
   "metadata": {},
   "source": [
    "The dataset below contains all of the same information as our training set, updated for 2019."
   ]
  },
  {
   "cell_type": "code",
   "execution_count": 20,
   "metadata": {},
   "outputs": [
    {
     "data": {
      "text/html": [
       "<div>\n",
       "<style>\n",
       "    .dataframe thead tr:only-child th {\n",
       "        text-align: right;\n",
       "    }\n",
       "\n",
       "    .dataframe thead th {\n",
       "        text-align: left;\n",
       "    }\n",
       "\n",
       "    .dataframe tbody tr th {\n",
       "        vertical-align: top;\n",
       "    }\n",
       "</style>\n",
       "<table border=\"1\" class=\"dataframe\">\n",
       "  <thead>\n",
       "    <tr style=\"text-align: right;\">\n",
       "      <th></th>\n",
       "      <th>Unnamed: 0</th>\n",
       "      <th>Team_1</th>\n",
       "      <th>Team_2</th>\n",
       "      <th>RK_1</th>\n",
       "      <th>CONF_1</th>\n",
       "      <th>W-L_1</th>\n",
       "      <th>BPI_OFF_1</th>\n",
       "      <th>BPI_DEF_1</th>\n",
       "      <th>BPI_1</th>\n",
       "      <th>7-DAY_RK CHG_1</th>\n",
       "      <th>...</th>\n",
       "      <th>Luck_2</th>\n",
       "      <th>X13_2</th>\n",
       "      <th>AdjEM_1_2</th>\n",
       "      <th>X15_2</th>\n",
       "      <th>OppO_2</th>\n",
       "      <th>X17_2</th>\n",
       "      <th>OppD_2</th>\n",
       "      <th>X19_2</th>\n",
       "      <th>AdjEM_2_2_2</th>\n",
       "      <th>X21_2</th>\n",
       "    </tr>\n",
       "  </thead>\n",
       "  <tbody>\n",
       "    <tr>\n",
       "      <th>0</th>\n",
       "      <td>1</td>\n",
       "      <td>Duke</td>\n",
       "      <td>Virginia Tech</td>\n",
       "      <td>3</td>\n",
       "      <td>ACC</td>\n",
       "      <td>31-5</td>\n",
       "      <td>10.9</td>\n",
       "      <td>10.6</td>\n",
       "      <td>21.5</td>\n",
       "      <td>--</td>\n",
       "      <td>...</td>\n",
       "      <td>0.011</td>\n",
       "      <td>156</td>\n",
       "      <td>8.07</td>\n",
       "      <td>53</td>\n",
       "      <td>108.1</td>\n",
       "      <td>54</td>\n",
       "      <td>100.1</td>\n",
       "      <td>44</td>\n",
       "      <td>-6.12</td>\n",
       "      <td>325</td>\n",
       "    </tr>\n",
       "    <tr>\n",
       "      <th>1</th>\n",
       "      <td>2</td>\n",
       "      <td>LSU</td>\n",
       "      <td>Michigan State</td>\n",
       "      <td>20</td>\n",
       "      <td>SEC</td>\n",
       "      <td>28-6</td>\n",
       "      <td>8.5</td>\n",
       "      <td>4.4</td>\n",
       "      <td>12.9</td>\n",
       "      <td>3</td>\n",
       "      <td>...</td>\n",
       "      <td>-0.006</td>\n",
       "      <td>196</td>\n",
       "      <td>12.87</td>\n",
       "      <td>4</td>\n",
       "      <td>110.2</td>\n",
       "      <td>13</td>\n",
       "      <td>97.4</td>\n",
       "      <td>5</td>\n",
       "      <td>3.15</td>\n",
       "      <td>87</td>\n",
       "    </tr>\n",
       "    <tr>\n",
       "      <th>2</th>\n",
       "      <td>3</td>\n",
       "      <td>Virginia</td>\n",
       "      <td>Oregon</td>\n",
       "      <td>1</td>\n",
       "      <td>ACC</td>\n",
       "      <td>31-3</td>\n",
       "      <td>11.8</td>\n",
       "      <td>11.6</td>\n",
       "      <td>23.4</td>\n",
       "      <td>--</td>\n",
       "      <td>...</td>\n",
       "      <td>-0.038</td>\n",
       "      <td>268</td>\n",
       "      <td>4.91</td>\n",
       "      <td>70</td>\n",
       "      <td>107.5</td>\n",
       "      <td>64</td>\n",
       "      <td>102.6</td>\n",
       "      <td>87</td>\n",
       "      <td>0.36</td>\n",
       "      <td>153</td>\n",
       "    </tr>\n",
       "    <tr>\n",
       "      <th>3</th>\n",
       "      <td>4</td>\n",
       "      <td>Purdue</td>\n",
       "      <td>Tennessee</td>\n",
       "      <td>9</td>\n",
       "      <td>Big Ten</td>\n",
       "      <td>25-9</td>\n",
       "      <td>11.0</td>\n",
       "      <td>6.4</td>\n",
       "      <td>17.4</td>\n",
       "      <td>1</td>\n",
       "      <td>...</td>\n",
       "      <td>0.047</td>\n",
       "      <td>68</td>\n",
       "      <td>10.18</td>\n",
       "      <td>27</td>\n",
       "      <td>109.5</td>\n",
       "      <td>27</td>\n",
       "      <td>99.3</td>\n",
       "      <td>30</td>\n",
       "      <td>0.96</td>\n",
       "      <td>131</td>\n",
       "    </tr>\n",
       "    <tr>\n",
       "      <th>4</th>\n",
       "      <td>5</td>\n",
       "      <td>Florida State</td>\n",
       "      <td>Gonzaga</td>\n",
       "      <td>14</td>\n",
       "      <td>ACC</td>\n",
       "      <td>29-7</td>\n",
       "      <td>6.3</td>\n",
       "      <td>8.5</td>\n",
       "      <td>14.8</td>\n",
       "      <td>2</td>\n",
       "      <td>...</td>\n",
       "      <td>0.009</td>\n",
       "      <td>162</td>\n",
       "      <td>3.40</td>\n",
       "      <td>85</td>\n",
       "      <td>106.7</td>\n",
       "      <td>75</td>\n",
       "      <td>103.3</td>\n",
       "      <td>104</td>\n",
       "      <td>1.98</td>\n",
       "      <td>102</td>\n",
       "    </tr>\n",
       "  </tbody>\n",
       "</table>\n",
       "<p>5 rows × 61 columns</p>\n",
       "</div>"
      ],
      "text/plain": [
       "   Unnamed: 0         Team_1          Team_2  RK_1   CONF_1 W-L_1  BPI_OFF_1  \\\n",
       "0           1           Duke   Virginia Tech     3      ACC  31-5       10.9   \n",
       "1           2            LSU  Michigan State    20      SEC  28-6        8.5   \n",
       "2           3       Virginia          Oregon     1      ACC  31-3       11.8   \n",
       "3           4         Purdue       Tennessee     9  Big Ten  25-9       11.0   \n",
       "4           5  Florida State         Gonzaga    14      ACC  29-7        6.3   \n",
       "\n",
       "   BPI_DEF_1  BPI_1 7-DAY_RK CHG_1  ...    Luck_2  X13_2  AdjEM_1_2 X15_2  \\\n",
       "0       10.6   21.5             --  ...     0.011    156       8.07    53   \n",
       "1        4.4   12.9              3  ...    -0.006    196      12.87     4   \n",
       "2       11.6   23.4             --  ...    -0.038    268       4.91    70   \n",
       "3        6.4   17.4              1  ...     0.047     68      10.18    27   \n",
       "4        8.5   14.8              2  ...     0.009    162       3.40    85   \n",
       "\n",
       "  OppO_2  X17_2  OppD_2  X19_2 AdjEM_2_2_2  X21_2  \n",
       "0  108.1     54   100.1     44       -6.12    325  \n",
       "1  110.2     13    97.4      5        3.15     87  \n",
       "2  107.5     64   102.6     87        0.36    153  \n",
       "3  109.5     27    99.3     30        0.96    131  \n",
       "4  106.7     75   103.3    104        1.98    102  \n",
       "\n",
       "[5 rows x 61 columns]"
      ]
     },
     "execution_count": 20,
     "metadata": {},
     "output_type": "execute_result"
    }
   ],
   "source": [
    "NCAA_19 = pd.read_csv(r\"C:/Users/ia767/Documents/NCAA_big_19.csv\")\n",
    "NCAA_19.head()"
   ]
  },
  {
   "cell_type": "code",
   "execution_count": 21,
   "metadata": {},
   "outputs": [
    {
     "data": {
      "text/plain": [
       "array([1, 1, 1, 0, 0, 1, 1, 1], dtype=int64)"
      ]
     },
     "execution_count": 21,
     "metadata": {},
     "output_type": "execute_result"
    }
   ],
   "source": [
    "SVC(kernel = \"rbf\", C = 291, gamma = 0.01).fit(X, y).predict(NCAA_19[[\"BPI_DEF_1\", \"Wins_2\"]])"
   ]
  },
  {
   "cell_type": "markdown",
   "metadata": {
    "collapsed": true
   },
   "source": [
    "This yields my predictions for the upcoming games. The output is \"1\" if team 1 is predicted to win and 0 otherwise. That is: Duke will win against VT, LSU against Michigan State, etc."
   ]
  },
  {
   "cell_type": "code",
   "execution_count": 22,
   "metadata": {},
   "outputs": [
    {
     "data": {
      "text/html": [
       "<div>\n",
       "<style>\n",
       "    .dataframe thead tr:only-child th {\n",
       "        text-align: right;\n",
       "    }\n",
       "\n",
       "    .dataframe thead th {\n",
       "        text-align: left;\n",
       "    }\n",
       "\n",
       "    .dataframe tbody tr th {\n",
       "        vertical-align: top;\n",
       "    }\n",
       "</style>\n",
       "<table border=\"1\" class=\"dataframe\">\n",
       "  <thead>\n",
       "    <tr style=\"text-align: right;\">\n",
       "      <th></th>\n",
       "      <th>Team_1</th>\n",
       "      <th>Team_2</th>\n",
       "      <th>preds</th>\n",
       "    </tr>\n",
       "  </thead>\n",
       "  <tbody>\n",
       "    <tr>\n",
       "      <th>0</th>\n",
       "      <td>Duke</td>\n",
       "      <td>Virginia Tech</td>\n",
       "      <td>1</td>\n",
       "    </tr>\n",
       "    <tr>\n",
       "      <th>1</th>\n",
       "      <td>LSU</td>\n",
       "      <td>Michigan State</td>\n",
       "      <td>1</td>\n",
       "    </tr>\n",
       "    <tr>\n",
       "      <th>2</th>\n",
       "      <td>Virginia</td>\n",
       "      <td>Oregon</td>\n",
       "      <td>1</td>\n",
       "    </tr>\n",
       "    <tr>\n",
       "      <th>3</th>\n",
       "      <td>Purdue</td>\n",
       "      <td>Tennessee</td>\n",
       "      <td>0</td>\n",
       "    </tr>\n",
       "    <tr>\n",
       "      <th>4</th>\n",
       "      <td>Florida State</td>\n",
       "      <td>Gonzaga</td>\n",
       "      <td>0</td>\n",
       "    </tr>\n",
       "    <tr>\n",
       "      <th>5</th>\n",
       "      <td>Texas Tech</td>\n",
       "      <td>Michigan</td>\n",
       "      <td>1</td>\n",
       "    </tr>\n",
       "    <tr>\n",
       "      <th>6</th>\n",
       "      <td>Houston</td>\n",
       "      <td>Kentucky</td>\n",
       "      <td>1</td>\n",
       "    </tr>\n",
       "    <tr>\n",
       "      <th>7</th>\n",
       "      <td>Auburn</td>\n",
       "      <td>North Carolina</td>\n",
       "      <td>1</td>\n",
       "    </tr>\n",
       "  </tbody>\n",
       "</table>\n",
       "</div>"
      ],
      "text/plain": [
       "          Team_1          Team_2  preds\n",
       "0           Duke   Virginia Tech      1\n",
       "1            LSU  Michigan State      1\n",
       "2       Virginia          Oregon      1\n",
       "3         Purdue       Tennessee      0\n",
       "4  Florida State         Gonzaga      0\n",
       "5     Texas Tech        Michigan      1\n",
       "6        Houston        Kentucky      1\n",
       "7         Auburn  North Carolina      1"
      ]
     },
     "execution_count": 22,
     "metadata": {},
     "output_type": "execute_result"
    }
   ],
   "source": [
    "NCAA_19[\"preds\"] = SVC(kernel = \"rbf\", C = 291, gamma = 0.01).fit(X, y).predict(NCAA_19[[\"BPI_DEF_1\", \"Wins_2\"]])\n",
    "NCAA_19[[\"Team_1\", 'Team_2', \"preds\"]]"
   ]
  },
  {
   "cell_type": "markdown",
   "metadata": {},
   "source": [
    "## Adding Variables"
   ]
  },
  {
   "cell_type": "markdown",
   "metadata": {},
   "source": [
    "Which variables could I add to the model to improve my prediction?"
   ]
  },
  {
   "cell_type": "markdown",
   "metadata": {},
   "source": [
    "I use correlation with our dependent variable as a selection criterion. I also choose variables with low correlation with my current dependent variables to make sure they will contribute to my prediction model."
   ]
  },
  {
   "cell_type": "code",
   "execution_count": 23,
   "metadata": {},
   "outputs": [
    {
     "data": {
      "text/html": [
       "<div>\n",
       "<style>\n",
       "    .dataframe thead tr:only-child th {\n",
       "        text-align: right;\n",
       "    }\n",
       "\n",
       "    .dataframe thead th {\n",
       "        text-align: left;\n",
       "    }\n",
       "\n",
       "    .dataframe tbody tr th {\n",
       "        vertical-align: top;\n",
       "    }\n",
       "</style>\n",
       "<table border=\"1\" class=\"dataframe\">\n",
       "  <thead>\n",
       "    <tr style=\"text-align: right;\">\n",
       "      <th></th>\n",
       "      <th>Win</th>\n",
       "      <th>BPI_DEF_1</th>\n",
       "      <th>Wins_2</th>\n",
       "    </tr>\n",
       "  </thead>\n",
       "  <tbody>\n",
       "    <tr>\n",
       "      <th>Unnamed: 0</th>\n",
       "      <td>0.201331</td>\n",
       "      <td>0.157051</td>\n",
       "      <td>-0.042503</td>\n",
       "    </tr>\n",
       "    <tr>\n",
       "      <th>Score_Gap</th>\n",
       "      <td>0.784962</td>\n",
       "      <td>0.306255</td>\n",
       "      <td>-0.259920</td>\n",
       "    </tr>\n",
       "    <tr>\n",
       "      <th>Win</th>\n",
       "      <td>1.000000</td>\n",
       "      <td>0.267286</td>\n",
       "      <td>-0.302102</td>\n",
       "    </tr>\n",
       "    <tr>\n",
       "      <th>Wins_1</th>\n",
       "      <td>0.349615</td>\n",
       "      <td>0.346597</td>\n",
       "      <td>0.037474</td>\n",
       "    </tr>\n",
       "    <tr>\n",
       "      <th>AdjEM_1_1_1</th>\n",
       "      <td>0.210072</td>\n",
       "      <td>0.303083</td>\n",
       "      <td>-0.142803</td>\n",
       "    </tr>\n",
       "    <tr>\n",
       "      <th>OppD_1</th>\n",
       "      <td>-0.228382</td>\n",
       "      <td>-0.218900</td>\n",
       "      <td>0.118188</td>\n",
       "    </tr>\n",
       "    <tr>\n",
       "      <th>X19_1</th>\n",
       "      <td>-0.241566</td>\n",
       "      <td>-0.272801</td>\n",
       "      <td>0.105683</td>\n",
       "    </tr>\n",
       "    <tr>\n",
       "      <th>Luck_2</th>\n",
       "      <td>-0.241174</td>\n",
       "      <td>0.137012</td>\n",
       "      <td>0.154525</td>\n",
       "    </tr>\n",
       "    <tr>\n",
       "      <th>X13_2</th>\n",
       "      <td>0.229904</td>\n",
       "      <td>-0.091662</td>\n",
       "      <td>-0.186480</td>\n",
       "    </tr>\n",
       "    <tr>\n",
       "      <th>AdjEM_2_2_2</th>\n",
       "      <td>0.298900</td>\n",
       "      <td>0.122751</td>\n",
       "      <td>-0.099345</td>\n",
       "    </tr>\n",
       "    <tr>\n",
       "      <th>X21_2</th>\n",
       "      <td>-0.287844</td>\n",
       "      <td>-0.113268</td>\n",
       "      <td>0.137406</td>\n",
       "    </tr>\n",
       "  </tbody>\n",
       "</table>\n",
       "</div>"
      ],
      "text/plain": [
       "                  Win  BPI_DEF_1    Wins_2\n",
       "Unnamed: 0   0.201331   0.157051 -0.042503\n",
       "Score_Gap    0.784962   0.306255 -0.259920\n",
       "Win          1.000000   0.267286 -0.302102\n",
       "Wins_1       0.349615   0.346597  0.037474\n",
       "AdjEM_1_1_1  0.210072   0.303083 -0.142803\n",
       "OppD_1      -0.228382  -0.218900  0.118188\n",
       "X19_1       -0.241566  -0.272801  0.105683\n",
       "Luck_2      -0.241174   0.137012  0.154525\n",
       "X13_2        0.229904  -0.091662 -0.186480\n",
       "AdjEM_2_2_2  0.298900   0.122751 -0.099345\n",
       "X21_2       -0.287844  -0.113268  0.137406"
      ]
     },
     "execution_count": 23,
     "metadata": {},
     "output_type": "execute_result"
    }
   ],
   "source": [
    "NCAA.corr()[[\"Win\", \"BPI_DEF_1\", \"Wins_2\"]][(abs(NCAA.corr()[\"Win\"]) > abs(0.2)) & (abs(NCAA.corr()[\"BPI_DEF_1\"]) < abs(0.35))\n",
    "                                           & (abs(NCAA.corr()[\"Wins_2\"]) < abs(0.35))]"
   ]
  },
  {
   "cell_type": "markdown",
   "metadata": {},
   "source": [
    "This gives us quite a bit of choice when it comes to our new variables. The code below finds the new test CV for the selected non-linear model for every one of these variables."
   ]
  },
  {
   "cell_type": "markdown",
   "metadata": {},
   "source": [
    "The new variables I'm considering are below."
   ]
  },
  {
   "cell_type": "code",
   "execution_count": 24,
   "metadata": {},
   "outputs": [
    {
     "data": {
      "text/plain": [
       "Index(['AdjEM_1_1_1', 'OppD_1', 'X19_1', 'Luck_2', 'X13_2', 'AdjEM_2_2_2',\n",
       "       'X21_2'],\n",
       "      dtype='object')"
      ]
     },
     "execution_count": 24,
     "metadata": {},
     "output_type": "execute_result"
    }
   ],
   "source": [
    "NCAA.corr()[[\"Win\", \"BPI_DEF_1\", \"Wins_2\"]][(abs(NCAA.corr()[\"Win\"]) > abs(0.2)) & (abs(NCAA.corr()[\"BPI_DEF_1\"]) < abs(0.35))\n",
    "                                           & (abs(NCAA.corr()[\"Wins_2\"]) < abs(0.35))].index[4:]"
   ]
  },
  {
   "cell_type": "code",
   "execution_count": 25,
   "metadata": {},
   "outputs": [
    {
     "name": "stdout",
     "output_type": "stream",
     "text": [
      "AdjEM_1_1_1\n",
      "CV Test Score: 0.76\n",
      "OppD_1\n",
      "CV Test Score: 0.73\n",
      "X19_1\n",
      "CV Test Score: 0.68\n",
      "Luck_2\n",
      "CV Test Score: 0.80\n",
      "X13_2\n",
      "CV Test Score: 0.52\n",
      "AdjEM_2_2_2\n",
      "CV Test Score: 0.76\n",
      "X21_2\n",
      "CV Test Score: 0.63\n"
     ]
    }
   ],
   "source": [
    "x = NCAA.corr()[[\"Win\", \"BPI_DEF_1\", \"Wins_2\"]][(abs(NCAA.corr()[\"Win\"]) > abs(0.2)) & (abs(NCAA.corr()[\"BPI_DEF_1\"]) < abs(0.35))\n",
    "                                           & (abs(NCAA.corr()[\"Wins_2\"]) < abs(0.35))].index[4:] #possible variables\n",
    "initial = [\"BPI_DEF_1\", \"Wins_2\"]\n",
    "\n",
    "for i in range(0, len(x)):\n",
    "    initial = [\"BPI_DEF_1\", \"Wins_2\"]\n",
    "    initial.append(x[i])\n",
    "    X = NCAA[initial]\n",
    "    svc = SVC(kernel = \"rbf\", C = 291, gamma = 0.01).fit(X, y)\n",
    "    print(x[i])\n",
    "    print(\"CV Test Score: {:.2f}\".format( np.mean(cross_val_score(svc, X, y, cv=10))) )"
   ]
  },
  {
   "cell_type": "markdown",
   "metadata": {},
   "source": [
    "None of these variables actually improve the model. It seems like Luck_2 is the 'best' of the batch, but it is essentially a residual (and might not carry over for another year), so I'll focus on AdjEM_1_1_1 & AdjEM_2_2_2 for now. (The model was tuned using a different set of variables, so maybe the 'optimized' performance will be better)."
   ]
  },
  {
   "cell_type": "code",
   "execution_count": 26,
   "metadata": {},
   "outputs": [
    {
     "name": "stdout",
     "output_type": "stream",
     "text": [
      "Optimal C: 91\n",
      "Best CV Test Score: 0.77\n"
     ]
    }
   ],
   "source": [
    "X = NCAA[[\"BPI_DEF_1\", \"Wins_2\", \"AdjEM_1_1_1\"]]\n",
    "scores = []\n",
    "\n",
    "for i in np.arange(1, 600, 10): \n",
    "    model = SVC(kernel = \"rbf\", C = i, gamma = 0.01).fit(X, y)\n",
    "    cv_score = np.mean(cross_val_score(model, X, y, cv=10))\n",
    "    scores.append(cv_score)\n",
    "    \n",
    "scores.index(max(scores)) #finding position of max\n",
    "print(\"Optimal C: {}\".format(np.arange(1, 600, 10)[scores.index(max(scores))])) #finding optimal value of C\n",
    "print(\"Best CV Test Score: {}\".format(round(max(scores), 2))) #finding best score"
   ]
  },
  {
   "cell_type": "code",
   "execution_count": 27,
   "metadata": {},
   "outputs": [
    {
     "name": "stdout",
     "output_type": "stream",
     "text": [
      "Optimal C: 201\n",
      "Best CV Test Score: 0.78\n"
     ]
    }
   ],
   "source": [
    "X = NCAA[[\"BPI_DEF_1\", \"Wins_2\", \"AdjEM_2_2_2\"]]\n",
    "scores = []\n",
    "\n",
    "for i in np.arange(1, 600, 10): \n",
    "    model = SVC(kernel = \"rbf\", C = i, gamma = 0.01).fit(X, y)\n",
    "    cv_score = np.mean(cross_val_score(model, X, y, cv=10))\n",
    "    scores.append(cv_score)\n",
    "    \n",
    "scores.index(max(scores)) #finding position of max\n",
    "print(\"Optimal C: {}\".format(np.arange(1, 600, 10)[scores.index(max(scores))])) #finding optimal value of C\n",
    "print(\"Best CV Test Score: {}\".format(round(max(scores), 2))) #finding best score"
   ]
  },
  {
   "cell_type": "markdown",
   "metadata": {},
   "source": [
    "Neither actually improves the model."
   ]
  }
 ],
 "metadata": {
  "kernelspec": {
   "display_name": "Python 3",
   "language": "python",
   "name": "python3"
  },
  "language_info": {
   "codemirror_mode": {
    "name": "ipython",
    "version": 3
   },
   "file_extension": ".py",
   "mimetype": "text/x-python",
   "name": "python",
   "nbconvert_exporter": "python",
   "pygments_lexer": "ipython3",
   "version": "3.6.3"
  }
 },
 "nbformat": 4,
 "nbformat_minor": 2
}
