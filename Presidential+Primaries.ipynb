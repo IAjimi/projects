{
 "cells": [
  {
   "cell_type": "code",
   "execution_count": 1,
   "metadata": {
    "collapsed": true
   },
   "outputs": [],
   "source": [
    "import pandas as pd\n",
    "import matplotlib.pyplot as plt\n",
    "from pandas_datareader import data\n",
    "import numpy as np\n",
    "from statistics import mean\n",
    "\n",
    "from sklearn.linear_model import LogisticRegression\n",
    "from sklearn.model_selection import train_test_split\n",
    "from sklearn.neighbors import KNeighborsClassifier\n",
    "from sklearn.model_selection import cross_val_score\n",
    "from sklearn.model_selection import StratifiedKFold\n",
    "from sklearn.model_selection import GridSearchCV\n",
    "\n",
    "%matplotlib inline"
   ]
  },
  {
   "cell_type": "markdown",
   "metadata": {},
   "source": [
    "# Presidential Primaries: Democratic Party Edition"
   ]
  },
  {
   "cell_type": "markdown",
   "metadata": {},
   "source": [
    "This short project builds on previous Python notebooks I've posted on my Github, focusing on the contribution of campaign finances to a candidate's likelihood of winning. This particular project focuses on *Democratic Presidential primaries*."
   ]
  },
  {
   "cell_type": "markdown",
   "metadata": {},
   "source": [
    "All of the data used below comes directly from the [https://www.fec.gov/data/](Federal Election Commission). It includes all campaign finance data for Democratic candidates from 1995 - 2016 in the year preceding the election."
   ]
  },
  {
   "cell_type": "code",
   "execution_count": 2,
   "metadata": {
    "collapsed": true
   },
   "outputs": [],
   "source": [
    "money = pd.read_csv(r\"C:/Users/ia767/Downloads/totals-2019-03-14T12_36_55.csv\")\n",
    "money = money.append(pd.read_csv(r\"C:/Users/ia767/Downloads/totals-2019-03-14T12_36_34.csv\"))\n",
    "money = money.append(pd.read_csv(r\"C:/Users/ia767/Downloads/totals-2019-03-14T12_36_06.csv\"))\n",
    "money = money.append(pd.read_csv(r\"C:/Users/ia767/Downloads/totals-2019-03-14T12_35_58.csv\"))\n",
    "money = money.append(pd.read_csv(r\"C:/Users/ia767/Downloads/totals-2019-03-14T12_35_49.csv\"))\n",
    "money = money.append(pd.read_csv(r\"C:/Users/ia767/Downloads/totals-2019-03-14T12_35_29.csv\"))\n",
    "money = money.append(pd.read_csv(r\"C:/Users/ia767/Downloads/totals-2019-03-14T12_35_16.csv\"))"
   ]
  },
  {
   "cell_type": "code",
   "execution_count": 3,
   "metadata": {},
   "outputs": [
    {
     "data": {
      "text/html": [
       "<div>\n",
       "<style>\n",
       "    .dataframe thead tr:only-child th {\n",
       "        text-align: right;\n",
       "    }\n",
       "\n",
       "    .dataframe thead th {\n",
       "        text-align: left;\n",
       "    }\n",
       "\n",
       "    .dataframe tbody tr th {\n",
       "        vertical-align: top;\n",
       "    }\n",
       "</style>\n",
       "<table border=\"1\" class=\"dataframe\">\n",
       "  <thead>\n",
       "    <tr style=\"text-align: right;\">\n",
       "      <th></th>\n",
       "      <th>name</th>\n",
       "      <th>office</th>\n",
       "      <th>office_full</th>\n",
       "      <th>party</th>\n",
       "      <th>party_full</th>\n",
       "      <th>state</th>\n",
       "      <th>district</th>\n",
       "      <th>district_number</th>\n",
       "      <th>election_districts</th>\n",
       "      <th>election_years</th>\n",
       "      <th>...</th>\n",
       "      <th>cycle</th>\n",
       "      <th>is_election</th>\n",
       "      <th>receipts</th>\n",
       "      <th>disbursements</th>\n",
       "      <th>cash_on_hand_end_period</th>\n",
       "      <th>debts_owed_by_committee</th>\n",
       "      <th>coverage_start_date</th>\n",
       "      <th>coverage_end_date</th>\n",
       "      <th>federal_funds_flag</th>\n",
       "      <th>has_raised_funds</th>\n",
       "    </tr>\n",
       "  </thead>\n",
       "  <tbody>\n",
       "    <tr>\n",
       "      <th>0</th>\n",
       "      <td>CLINTON, HILLARY RODHAM / TIMOTHY MICHAEL KAINE</td>\n",
       "      <td>P</td>\n",
       "      <td>President</td>\n",
       "      <td>DEM</td>\n",
       "      <td>DEMOCRATIC PARTY</td>\n",
       "      <td>US</td>\n",
       "      <td>0</td>\n",
       "      <td>0</td>\n",
       "      <td>{00,00}</td>\n",
       "      <td>{2008,2016}</td>\n",
       "      <td>...</td>\n",
       "      <td>2016</td>\n",
       "      <td>f</td>\n",
       "      <td>5.856696e+08</td>\n",
       "      <td>5.853463e+08</td>\n",
       "      <td>323317.48</td>\n",
       "      <td>182.5</td>\n",
       "      <td>2015-04-01 00:00:00</td>\n",
       "      <td>2016-12-31 00:00:00</td>\n",
       "      <td>f</td>\n",
       "      <td>t</td>\n",
       "    </tr>\n",
       "    <tr>\n",
       "      <th>1</th>\n",
       "      <td>WELLS, ROBERT CARR JR</td>\n",
       "      <td>P</td>\n",
       "      <td>President</td>\n",
       "      <td>DEM</td>\n",
       "      <td>DEMOCRATIC PARTY</td>\n",
       "      <td>US</td>\n",
       "      <td>0</td>\n",
       "      <td>0</td>\n",
       "      <td>{00,00}</td>\n",
       "      <td>{2012,2016}</td>\n",
       "      <td>...</td>\n",
       "      <td>2016</td>\n",
       "      <td>f</td>\n",
       "      <td>1.634400e+04</td>\n",
       "      <td>4.800000e+04</td>\n",
       "      <td>0.00</td>\n",
       "      <td>0.0</td>\n",
       "      <td>2015-01-01 00:00:00</td>\n",
       "      <td>2016-12-31 00:00:00</td>\n",
       "      <td>f</td>\n",
       "      <td>t</td>\n",
       "    </tr>\n",
       "    <tr>\n",
       "      <th>2</th>\n",
       "      <td>SHREFFLER, DOUG</td>\n",
       "      <td>P</td>\n",
       "      <td>President</td>\n",
       "      <td>DEM</td>\n",
       "      <td>DEMOCRATIC PARTY</td>\n",
       "      <td>US</td>\n",
       "      <td>0</td>\n",
       "      <td>0</td>\n",
       "      <td>{00,00}</td>\n",
       "      <td>{2016,2020}</td>\n",
       "      <td>...</td>\n",
       "      <td>2016</td>\n",
       "      <td>f</td>\n",
       "      <td>0.000000e+00</td>\n",
       "      <td>3.022746e+04</td>\n",
       "      <td>-8765.32</td>\n",
       "      <td>0.0</td>\n",
       "      <td>2015-01-01 00:00:00</td>\n",
       "      <td>2016-09-30 00:00:00</td>\n",
       "      <td>f</td>\n",
       "      <td>f</td>\n",
       "    </tr>\n",
       "  </tbody>\n",
       "</table>\n",
       "<p>3 rows × 40 columns</p>\n",
       "</div>"
      ],
      "text/plain": [
       "                                              name office office_full party  \\\n",
       "0  CLINTON, HILLARY RODHAM / TIMOTHY MICHAEL KAINE      P   President   DEM   \n",
       "1                            WELLS, ROBERT CARR JR      P   President   DEM   \n",
       "2                                  SHREFFLER, DOUG      P   President   DEM   \n",
       "\n",
       "         party_full state  district  district_number election_districts  \\\n",
       "0  DEMOCRATIC PARTY    US         0                0            {00,00}   \n",
       "1  DEMOCRATIC PARTY    US         0                0            {00,00}   \n",
       "2  DEMOCRATIC PARTY    US         0                0            {00,00}   \n",
       "\n",
       "  election_years        ...        cycle is_election      receipts  \\\n",
       "0    {2008,2016}        ...         2016           f  5.856696e+08   \n",
       "1    {2012,2016}        ...         2016           f  1.634400e+04   \n",
       "2    {2016,2020}        ...         2016           f  0.000000e+00   \n",
       "\n",
       "  disbursements cash_on_hand_end_period debts_owed_by_committee  \\\n",
       "0  5.853463e+08               323317.48                   182.5   \n",
       "1  4.800000e+04                    0.00                     0.0   \n",
       "2  3.022746e+04                -8765.32                     0.0   \n",
       "\n",
       "   coverage_start_date    coverage_end_date federal_funds_flag  \\\n",
       "0  2015-04-01 00:00:00  2016-12-31 00:00:00                  f   \n",
       "1  2015-01-01 00:00:00  2016-12-31 00:00:00                  f   \n",
       "2  2015-01-01 00:00:00  2016-09-30 00:00:00                  f   \n",
       "\n",
       "   has_raised_funds  \n",
       "0                 t  \n",
       "1                 t  \n",
       "2                 f  \n",
       "\n",
       "[3 rows x 40 columns]"
      ]
     },
     "execution_count": 3,
     "metadata": {},
     "output_type": "execute_result"
    }
   ],
   "source": [
    "money.head(3)"
   ]
  },
  {
   "cell_type": "markdown",
   "metadata": {},
   "source": [
    "To make the analysis simpler, I focus on a subset of the columns included, which I deemed to be the most relevant for prediction purposes. These are mainly variables dealing directly with campaign finance."
   ]
  },
  {
   "cell_type": "code",
   "execution_count": 4,
   "metadata": {
    "collapsed": true
   },
   "outputs": [],
   "source": [
    "money = money[[\"name\", 'coverage_start_date', \"candidate_status\", \"receipts\", 'disbursements',\n",
    "       'cash_on_hand_end_period', 'debts_owed_by_committee']]"
   ]
  },
  {
   "cell_type": "code",
   "execution_count": 5,
   "metadata": {},
   "outputs": [
    {
     "data": {
      "text/html": [
       "<div>\n",
       "<style>\n",
       "    .dataframe thead tr:only-child th {\n",
       "        text-align: right;\n",
       "    }\n",
       "\n",
       "    .dataframe thead th {\n",
       "        text-align: left;\n",
       "    }\n",
       "\n",
       "    .dataframe tbody tr th {\n",
       "        vertical-align: top;\n",
       "    }\n",
       "</style>\n",
       "<table border=\"1\" class=\"dataframe\">\n",
       "  <thead>\n",
       "    <tr style=\"text-align: right;\">\n",
       "      <th></th>\n",
       "      <th>name</th>\n",
       "      <th>coverage_start_date</th>\n",
       "      <th>candidate_status</th>\n",
       "      <th>receipts</th>\n",
       "      <th>disbursements</th>\n",
       "      <th>cash_on_hand_end_period</th>\n",
       "      <th>debts_owed_by_committee</th>\n",
       "    </tr>\n",
       "  </thead>\n",
       "  <tbody>\n",
       "    <tr>\n",
       "      <th>0</th>\n",
       "      <td>CLINTON, HILLARY RODHAM / TIMOTHY MICHAEL KAINE</td>\n",
       "      <td>2015-04-01 00:00:00</td>\n",
       "      <td>C</td>\n",
       "      <td>5.856696e+08</td>\n",
       "      <td>5.853463e+08</td>\n",
       "      <td>323317.48</td>\n",
       "      <td>182.5</td>\n",
       "    </tr>\n",
       "    <tr>\n",
       "      <th>1</th>\n",
       "      <td>WELLS, ROBERT CARR JR</td>\n",
       "      <td>2015-01-01 00:00:00</td>\n",
       "      <td>C</td>\n",
       "      <td>1.634400e+04</td>\n",
       "      <td>4.800000e+04</td>\n",
       "      <td>0.00</td>\n",
       "      <td>0.0</td>\n",
       "    </tr>\n",
       "    <tr>\n",
       "      <th>2</th>\n",
       "      <td>SHREFFLER, DOUG</td>\n",
       "      <td>2015-01-01 00:00:00</td>\n",
       "      <td>N</td>\n",
       "      <td>0.000000e+00</td>\n",
       "      <td>3.022746e+04</td>\n",
       "      <td>-8765.32</td>\n",
       "      <td>0.0</td>\n",
       "    </tr>\n",
       "  </tbody>\n",
       "</table>\n",
       "</div>"
      ],
      "text/plain": [
       "                                              name  coverage_start_date  \\\n",
       "0  CLINTON, HILLARY RODHAM / TIMOTHY MICHAEL KAINE  2015-04-01 00:00:00   \n",
       "1                            WELLS, ROBERT CARR JR  2015-01-01 00:00:00   \n",
       "2                                  SHREFFLER, DOUG  2015-01-01 00:00:00   \n",
       "\n",
       "  candidate_status      receipts  disbursements  cash_on_hand_end_period  \\\n",
       "0                C  5.856696e+08   5.853463e+08                323317.48   \n",
       "1                C  1.634400e+04   4.800000e+04                     0.00   \n",
       "2                N  0.000000e+00   3.022746e+04                 -8765.32   \n",
       "\n",
       "   debts_owed_by_committee  \n",
       "0                    182.5  \n",
       "1                      0.0  \n",
       "2                      0.0  "
      ]
     },
     "execution_count": 5,
     "metadata": {},
     "output_type": "execute_result"
    }
   ],
   "source": [
    "money.head(3)"
   ]
  },
  {
   "cell_type": "markdown",
   "metadata": {},
   "source": [
    "Then the dataset is further filtered to candidates whose status is \"C\" (running)."
   ]
  },
  {
   "cell_type": "code",
   "execution_count": 6,
   "metadata": {
    "collapsed": true
   },
   "outputs": [],
   "source": [
    "money = money[money[\"candidate_status\"] == \"C\"] "
   ]
  },
  {
   "cell_type": "markdown",
   "metadata": {},
   "source": [
    "I also add a winner column which designates candidates who won the Democratic primary."
   ]
  },
  {
   "cell_type": "code",
   "execution_count": 7,
   "metadata": {},
   "outputs": [
    {
     "name": "stderr",
     "output_type": "stream",
     "text": [
      "C:\\ProgramData\\Anaconda3\\lib\\site-packages\\ipykernel_launcher.py:2: SettingWithCopyWarning: \n",
      "A value is trying to be set on a copy of a slice from a DataFrame\n",
      "\n",
      "See the caveats in the documentation: http://pandas.pydata.org/pandas-docs/stable/indexing.html#indexing-view-versus-copy\n",
      "  \n",
      "C:\\ProgramData\\Anaconda3\\lib\\site-packages\\ipykernel_launcher.py:3: SettingWithCopyWarning: \n",
      "A value is trying to be set on a copy of a slice from a DataFrame\n",
      "\n",
      "See the caveats in the documentation: http://pandas.pydata.org/pandas-docs/stable/indexing.html#indexing-view-versus-copy\n",
      "  This is separate from the ipykernel package so we can avoid doing imports until\n",
      "C:\\ProgramData\\Anaconda3\\lib\\site-packages\\ipykernel_launcher.py:4: SettingWithCopyWarning: \n",
      "A value is trying to be set on a copy of a slice from a DataFrame\n",
      "\n",
      "See the caveats in the documentation: http://pandas.pydata.org/pandas-docs/stable/indexing.html#indexing-view-versus-copy\n",
      "  after removing the cwd from sys.path.\n",
      "C:\\ProgramData\\Anaconda3\\lib\\site-packages\\ipykernel_launcher.py:5: SettingWithCopyWarning: \n",
      "A value is trying to be set on a copy of a slice from a DataFrame\n",
      "\n",
      "See the caveats in the documentation: http://pandas.pydata.org/pandas-docs/stable/indexing.html#indexing-view-versus-copy\n",
      "  \"\"\"\n",
      "C:\\ProgramData\\Anaconda3\\lib\\site-packages\\ipykernel_launcher.py:6: SettingWithCopyWarning: \n",
      "A value is trying to be set on a copy of a slice from a DataFrame\n",
      "\n",
      "See the caveats in the documentation: http://pandas.pydata.org/pandas-docs/stable/indexing.html#indexing-view-versus-copy\n",
      "  \n"
     ]
    }
   ],
   "source": [
    "money[\"winner\"] = 0\n",
    "money[\"winner\"][money[\"name\"] == \"CLINTON, HILLARY RODHAM / TIMOTHY MICHAEL KAINE\"] = 1\n",
    "money[\"winner\"][money[\"name\"] == \"OBAMA, BARACK\"] = 1\n",
    "money[\"winner\"][money[\"name\"] == \"KERRY, JOHN F\"] = 1\n",
    "money[\"winner\"][money[\"name\"] == \"GORE, AL\"] = 1\n",
    "money[\"winner\"][money[\"name\"] == \"CLINTON, WILLIAM JEFFERSON\"] = 1"
   ]
  },
  {
   "cell_type": "markdown",
   "metadata": {},
   "source": [
    "Finally, I change the index of the dataset, which is distorted by the use of `.append`, so it corresponds directly to the final dataset's row numbers."
   ]
  },
  {
   "cell_type": "code",
   "execution_count": 8,
   "metadata": {
    "collapsed": true
   },
   "outputs": [],
   "source": [
    "money = money.set_index(np.arange(money.shape[0]))"
   ]
  },
  {
   "cell_type": "code",
   "execution_count": 9,
   "metadata": {},
   "outputs": [
    {
     "data": {
      "text/html": [
       "<div>\n",
       "<style>\n",
       "    .dataframe thead tr:only-child th {\n",
       "        text-align: right;\n",
       "    }\n",
       "\n",
       "    .dataframe thead th {\n",
       "        text-align: left;\n",
       "    }\n",
       "\n",
       "    .dataframe tbody tr th {\n",
       "        vertical-align: top;\n",
       "    }\n",
       "</style>\n",
       "<table border=\"1\" class=\"dataframe\">\n",
       "  <thead>\n",
       "    <tr style=\"text-align: right;\">\n",
       "      <th></th>\n",
       "      <th>name</th>\n",
       "      <th>coverage_start_date</th>\n",
       "      <th>candidate_status</th>\n",
       "      <th>receipts</th>\n",
       "      <th>disbursements</th>\n",
       "      <th>cash_on_hand_end_period</th>\n",
       "      <th>debts_owed_by_committee</th>\n",
       "      <th>winner</th>\n",
       "    </tr>\n",
       "  </thead>\n",
       "  <tbody>\n",
       "    <tr>\n",
       "      <th>0</th>\n",
       "      <td>CLINTON, HILLARY RODHAM / TIMOTHY MICHAEL KAINE</td>\n",
       "      <td>2015-04-01 00:00:00</td>\n",
       "      <td>C</td>\n",
       "      <td>5.856696e+08</td>\n",
       "      <td>5.853463e+08</td>\n",
       "      <td>323317.48</td>\n",
       "      <td>182.5</td>\n",
       "      <td>1</td>\n",
       "    </tr>\n",
       "    <tr>\n",
       "      <th>1</th>\n",
       "      <td>WELLS, ROBERT CARR JR</td>\n",
       "      <td>2015-01-01 00:00:00</td>\n",
       "      <td>C</td>\n",
       "      <td>1.634400e+04</td>\n",
       "      <td>4.800000e+04</td>\n",
       "      <td>0.00</td>\n",
       "      <td>0.0</td>\n",
       "      <td>0</td>\n",
       "    </tr>\n",
       "  </tbody>\n",
       "</table>\n",
       "</div>"
      ],
      "text/plain": [
       "                                              name  coverage_start_date  \\\n",
       "0  CLINTON, HILLARY RODHAM / TIMOTHY MICHAEL KAINE  2015-04-01 00:00:00   \n",
       "1                            WELLS, ROBERT CARR JR  2015-01-01 00:00:00   \n",
       "\n",
       "  candidate_status      receipts  disbursements  cash_on_hand_end_period  \\\n",
       "0                C  5.856696e+08   5.853463e+08                323317.48   \n",
       "1                C  1.634400e+04   4.800000e+04                     0.00   \n",
       "\n",
       "   debts_owed_by_committee  winner  \n",
       "0                    182.5       1  \n",
       "1                      0.0       0  "
      ]
     },
     "execution_count": 9,
     "metadata": {},
     "output_type": "execute_result"
    }
   ],
   "source": [
    "money.head(2)"
   ]
  },
  {
   "cell_type": "code",
   "execution_count": 10,
   "metadata": {},
   "outputs": [
    {
     "data": {
      "text/html": [
       "<div>\n",
       "<style>\n",
       "    .dataframe thead tr:only-child th {\n",
       "        text-align: right;\n",
       "    }\n",
       "\n",
       "    .dataframe thead th {\n",
       "        text-align: left;\n",
       "    }\n",
       "\n",
       "    .dataframe tbody tr th {\n",
       "        vertical-align: top;\n",
       "    }\n",
       "</style>\n",
       "<table border=\"1\" class=\"dataframe\">\n",
       "  <thead>\n",
       "    <tr style=\"text-align: right;\">\n",
       "      <th></th>\n",
       "      <th>name</th>\n",
       "      <th>coverage_start_date</th>\n",
       "      <th>candidate_status</th>\n",
       "      <th>receipts</th>\n",
       "      <th>disbursements</th>\n",
       "      <th>cash_on_hand_end_period</th>\n",
       "      <th>debts_owed_by_committee</th>\n",
       "      <th>winner</th>\n",
       "    </tr>\n",
       "  </thead>\n",
       "  <tbody>\n",
       "    <tr>\n",
       "      <th>89</th>\n",
       "      <td>HERMAN, RAPHAEL</td>\n",
       "      <td>2011-01-01 00:00:00</td>\n",
       "      <td>C</td>\n",
       "      <td>6.410982e+06</td>\n",
       "      <td>6.475000e+06</td>\n",
       "      <td>0.00</td>\n",
       "      <td>0.00</td>\n",
       "      <td>0</td>\n",
       "    </tr>\n",
       "    <tr>\n",
       "      <th>90</th>\n",
       "      <td>OBAMA, BARACK</td>\n",
       "      <td>2011-01-01 00:00:00</td>\n",
       "      <td>C</td>\n",
       "      <td>7.385038e+08</td>\n",
       "      <td>7.375079e+08</td>\n",
       "      <td>3299312.93</td>\n",
       "      <td>5647729.93</td>\n",
       "      <td>1</td>\n",
       "    </tr>\n",
       "  </tbody>\n",
       "</table>\n",
       "</div>"
      ],
      "text/plain": [
       "               name  coverage_start_date candidate_status      receipts  \\\n",
       "89  HERMAN, RAPHAEL  2011-01-01 00:00:00                C  6.410982e+06   \n",
       "90    OBAMA, BARACK  2011-01-01 00:00:00                C  7.385038e+08   \n",
       "\n",
       "    disbursements  cash_on_hand_end_period  debts_owed_by_committee  winner  \n",
       "89   6.475000e+06                     0.00                     0.00       0  \n",
       "90   7.375079e+08               3299312.93               5647729.93       1  "
      ]
     },
     "execution_count": 10,
     "metadata": {},
     "output_type": "execute_result"
    }
   ],
   "source": [
    "money.tail(2)"
   ]
  },
  {
   "cell_type": "markdown",
   "metadata": {},
   "source": [
    "### Prediction Models"
   ]
  },
  {
   "cell_type": "markdown",
   "metadata": {},
   "source": [
    "The code below runs three different models (scaled logit, KNN and Random Forest) and compares their performance. Stratified K Fold was specified as the cross-validation method because winners comprise such a small percentage of the data set."
   ]
  },
  {
   "cell_type": "code",
   "execution_count": 11,
   "metadata": {
    "collapsed": true
   },
   "outputs": [],
   "source": [
    "y = money['winner'] #splits dataset into x and y\n",
    "X = money[[\"receipts\", \"disbursements\", \"cash_on_hand_end_period\", \"debts_owed_by_committee\"]]"
   ]
  },
  {
   "cell_type": "code",
   "execution_count": 12,
   "metadata": {
    "collapsed": true
   },
   "outputs": [],
   "source": [
    "X_train, X_test, y_train, y_test = train_test_split(X, y, random_state= 10) #randomly splits them into test/train models"
   ]
  },
  {
   "cell_type": "code",
   "execution_count": 13,
   "metadata": {},
   "outputs": [
    {
     "name": "stdout",
     "output_type": "stream",
     "text": [
      "CV Test Score: 0.96\n"
     ]
    }
   ],
   "source": [
    "from sklearn import preprocessing\n",
    "scaler = preprocessing.StandardScaler().fit(X_train)\n",
    "X_scaled = scaler.transform(X)\n",
    "X_train_scaled = scaler.transform(X_train)\n",
    "X_test_scaled = scaler.transform(X_test)\n",
    "logreg_scaled = LogisticRegression().fit(X_train_scaled, y_train) #Scaled log regression, using default C\n",
    "print(\"CV Test Score: {:.2f}\".format( np.mean(cross_val_score(logreg_scaled, X_test_scaled, y_test, cv= StratifiedKFold() ))) )"
   ]
  },
  {
   "cell_type": "code",
   "execution_count": 14,
   "metadata": {},
   "outputs": [
    {
     "name": "stderr",
     "output_type": "stream",
     "text": [
      "C:\\ProgramData\\Anaconda3\\lib\\site-packages\\sklearn\\model_selection\\_split.py:605: Warning: The least populated class in y has only 4 members, which is too few. The minimum number of members in any class cannot be less than n_splits=10.\n",
      "  % (min_groups, self.n_splits)), Warning)\n"
     ]
    },
    {
     "name": "stdout",
     "output_type": "stream",
     "text": [
      "best mean cross-validation score: 0.971\n",
      "best parameters: {'n_neighbors': 3}\n",
      "CV Test Score: 0.91\n"
     ]
    }
   ],
   "source": [
    "param_grid = {'n_neighbors': np.arange(1, 50, 2)}\n",
    "grid = GridSearchCV(KNeighborsClassifier(), param_grid=param_grid, cv=10)\n",
    "grid.fit(X_train, y_train)\n",
    "\n",
    "best_k = grid.best_params_[\"n_neighbors\"] #storing best C\n",
    "\n",
    "knn = KNeighborsClassifier(n_neighbors = best_k).fit(X_train, y_train)\n",
    "\n",
    "print(\"best mean cross-validation score: {:.3f}\".format(grid.best_score_))\n",
    "print(\"best parameters: {}\".format(grid.best_params_))\n",
    "print(\"CV Test Score: {:.2f}\".format( np.mean(cross_val_score(knn, X_test, y_test, cv= StratifiedKFold() ))) )"
   ]
  },
  {
   "cell_type": "code",
   "execution_count": 15,
   "metadata": {},
   "outputs": [
    {
     "name": "stdout",
     "output_type": "stream",
     "text": [
      "CV Test Score: 1.00\n"
     ]
    }
   ],
   "source": [
    "from sklearn.ensemble import RandomForestClassifier\n",
    "\n",
    "tree_rfc = RandomForestClassifier(n_estimators=200).fit(X_train, y_train)\n",
    "\n",
    "print(\"CV Test Score: {:.2f}\".format(np.mean(cross_val_score(tree_rfc, X_test, y_test, cv= StratifiedKFold()) ))) "
   ]
  },
  {
   "cell_type": "markdown",
   "metadata": {},
   "source": [
    "It appears that the scaled logit and Random forest models perform best. However, their high cross-validation test scores might be misleading due to the imbalance in the number of winners v losers: 84 out of the 91 candidates listed did not win, so a model predicting every candidate to lose would have an accuracy score of 92%."
   ]
  },
  {
   "cell_type": "markdown",
   "metadata": {},
   "source": [
    "The code below compares the best two models 'winner' prediction  to the actual outcome of the primaries."
   ]
  },
  {
   "cell_type": "code",
   "execution_count": 16,
   "metadata": {},
   "outputs": [
    {
     "data": {
      "text/plain": [
       "0     1\n",
       "3     0\n",
       "20    1\n",
       "39    1\n",
       "59    1\n",
       "74    1\n",
       "82    1\n",
       "90    1\n",
       "Name: winner, dtype: int64"
      ]
     },
     "execution_count": 16,
     "metadata": {},
     "output_type": "execute_result"
    }
   ],
   "source": [
    "y[logreg_scaled.predict(X_scaled) == 1]"
   ]
  },
  {
   "cell_type": "code",
   "execution_count": 17,
   "metadata": {},
   "outputs": [
    {
     "data": {
      "text/plain": [
       "0     1\n",
       "3     0\n",
       "20    1\n",
       "39    1\n",
       "59    1\n",
       "74    1\n",
       "82    1\n",
       "90    1\n",
       "Name: winner, dtype: int64"
      ]
     },
     "execution_count": 17,
     "metadata": {},
     "output_type": "execute_result"
    }
   ],
   "source": [
    "y[tree_rfc.predict(X) == 1]"
   ]
  },
  {
   "cell_type": "markdown",
   "metadata": {},
   "source": [
    "It appears that the canddiate which confounds both of my best performing models is none other than Bernie Sanders."
   ]
  },
  {
   "cell_type": "code",
   "execution_count": 18,
   "metadata": {},
   "outputs": [
    {
     "name": "stderr",
     "output_type": "stream",
     "text": [
      "C:\\ProgramData\\Anaconda3\\lib\\site-packages\\ipykernel_launcher.py:1: DeprecationWarning: \n",
      ".ix is deprecated. Please use\n",
      ".loc for label based indexing or\n",
      ".iloc for positional indexing\n",
      "\n",
      "See the documentation here:\n",
      "http://pandas.pydata.org/pandas-docs/stable/indexing.html#ix-indexer-is-deprecated\n",
      "  \"\"\"Entry point for launching an IPython kernel.\n"
     ]
    },
    {
     "data": {
      "text/plain": [
       "name                          SANDERS, BERNARD\n",
       "coverage_start_date        2015-04-01 00:00:00\n",
       "candidate_status                             C\n",
       "receipts                           2.37641e+08\n",
       "disbursements                      2.32185e+08\n",
       "cash_on_hand_end_period            5.45517e+06\n",
       "debts_owed_by_committee                 449409\n",
       "winner                                       0\n",
       "Name: 3, dtype: object"
      ]
     },
     "execution_count": 18,
     "metadata": {},
     "output_type": "execute_result"
    }
   ],
   "source": [
    "money.ix[3, :]"
   ]
  },
  {
   "cell_type": "markdown",
   "metadata": {},
   "source": [
    "This points to the main weakness of these models, which is that they are built using *only* campaign data. As a result, they focus on 'mainstream' candidates which draw a lot of power within their party and more conventional circles. (Financial) \"underdogs\" will be, as a result, severely underestimated. "
   ]
  },
  {
   "cell_type": "markdown",
   "metadata": {},
   "source": [
    "Finally, I take advantages of one of the features of Tree-based models to look at individual contribution of my independent variables. Here, receipts, disbursements and cash on hand are all relatively useful. Committee debts, however, seem to bring little to the model."
   ]
  },
  {
   "cell_type": "code",
   "execution_count": 19,
   "metadata": {},
   "outputs": [
    {
     "name": "stdout",
     "output_type": "stream",
     "text": [
      "[ 0.35439159  0.32944565  0.21606227  0.04510049]\n"
     ]
    },
    {
     "data": {
      "text/plain": [
       "Index(['receipts', 'disbursements', 'cash_on_hand_end_period',\n",
       "       'debts_owed_by_committee'],\n",
       "      dtype='object')"
      ]
     },
     "execution_count": 19,
     "metadata": {},
     "output_type": "execute_result"
    }
   ],
   "source": [
    "print(tree_rfc.feature_importances_) \n",
    "#in same order as feature names in data\n",
    "X.columns"
   ]
  },
  {
   "cell_type": "markdown",
   "metadata": {},
   "source": [
    "There are two main avenues that should be considered when building on these models further:\n",
    "    1. adding polling data (to branch out from financials only)\n",
    "    2. consider the fact that these models are trained on the *whole year at once*, and not as contributions roll in (as they will in this election cycle)"
   ]
  }
 ],
 "metadata": {
  "kernelspec": {
   "display_name": "Python 3",
   "language": "python",
   "name": "python3"
  },
  "language_info": {
   "codemirror_mode": {
    "name": "ipython",
    "version": 3
   },
   "file_extension": ".py",
   "mimetype": "text/x-python",
   "name": "python",
   "nbconvert_exporter": "python",
   "pygments_lexer": "ipython3",
   "version": "3.6.3"
  }
 },
 "nbformat": 4,
 "nbformat_minor": 2
}
